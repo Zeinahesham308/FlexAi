{
 "cells": [
  {
   "cell_type": "code",
   "execution_count": 2,
   "metadata": {},
   "outputs": [],
   "source": [
    "import sqlite3\n",
    "import pandas as pd"
   ]
  },
  {
   "cell_type": "code",
   "execution_count": 19,
   "metadata": {},
   "outputs": [
    {
     "data": {
      "text/plain": [
       "<sqlite3.Cursor at 0x1c944fc1240>"
      ]
     },
     "execution_count": 19,
     "metadata": {},
     "output_type": "execute_result"
    }
   ],
   "source": [
    "connection = sqlite3.connect(\"gym.db\")\n",
    "\n",
    "cursor = connection.cursor()\n",
    "cursor.execute(\n",
    "    \"\"\"Drop table if exists exercises;\"\"\"\n",
    ")\n"
   ]
  },
  {
   "cell_type": "code",
   "execution_count": 8,
   "metadata": {},
   "outputs": [],
   "source": [
    "df=pd.read_excel(\"Plans_2.xlsx\")"
   ]
  },
  {
   "cell_type": "code",
   "execution_count": 20,
   "metadata": {},
   "outputs": [
    {
     "data": {
      "text/plain": [
       "<sqlite3.Cursor at 0x1c944fc1240>"
      ]
     },
     "execution_count": 20,
     "metadata": {},
     "output_type": "execute_result"
    }
   ],
   "source": [
    "cursor.execute(\n",
    "    \"\"\"CREATE TABLE IF NOT EXISTS exercises (\n",
    "        id INTEGER PRIMARY KEY AUTOINCREMENT,\n",
    "        exercise_name TEXT,\n",
    "        sets TEXT,\n",
    "        reps TEXT,\n",
    "        sub_muscles TEXT,\n",
    "        added_info TEXT,\n",
    "        main_muscle TEXT\n",
    "    )\"\"\"\n",
    ")\n"
   ]
  },
  {
   "cell_type": "code",
   "execution_count": 21,
   "metadata": {},
   "outputs": [],
   "source": [
    "for index, row in df.iterrows():\n",
    "    cursor.execute(\n",
    "        \"\"\"INSERT INTO exercises (exercise_name, sets, reps, sub_muscles, added_info, main_muscle) VALUES (?, ?, ?, ?, ?, ?)\"\"\",\n",
    "        (row['Exercise'], row['Sets'], row['Reps'], row['Targeted Muscles'], row['Details'], row['Main muscle'])\n",
    "    )\n",
    "connection.commit()"
   ]
  },
  {
   "cell_type": "code",
   "execution_count": 32,
   "metadata": {},
   "outputs": [
    {
     "name": "stdout",
     "output_type": "stream",
     "text": [
      "(1, 'Pull-Ups', '4 sets', '8-12 reps', 'Lats, Biceps', 'Improves width and overall back strength.', 'Back')\n",
      "(2, 'Deadlifts', '3-5 sets', '5-8 reps', 'Erector Spinae, Lats', 'Full-body exercise; strengthens lower and upper back.', 'Back')\n",
      "(3, 'Barbell Rows', '4 sets', '8-12 reps', 'Lats, Rhomboids', 'Strengthens the entire back and core.', 'Back')\n",
      "(4, 'Lat Pulldowns', '4 sets', '10-12 reps', 'Lats, Biceps', 'Great for isolation and width development.', 'Back')\n",
      "(5, 'Dumbbell Rows', '4 sets', '8-12 reps', 'Lats, Rhomboids', 'Corrects muscle imbalances and improves core stability.', 'Back')\n",
      "(6, 'Seated Cable Row', '3 sets', '8-12 reps', 'Rhomboids, traps, lats', 'Builds mid-back thickness.', 'Back')\n",
      "(7, 'Face Pulls', '3 sets', '8-12 reps', 'Rear delts, traps, rhomboids', 'Helps with posture and upper back strength.', 'Back')\n",
      "(8, 'T-Bar Row', '3 sets', '8-12 reps', 'Mid-back, lats, traps', 'Focuses on mid-back thickness.', 'Back')\n",
      "(9, 'Chest-Supported Row', '3 sets', '8-12 reps', 'Lats, traps, rhomboids', 'Reduces strain on the lower back.', 'Back')\n",
      "(10, 'Hyperextensions (Back Extensions)', '4 sets', '8-12 reps', 'Erector spinae, glutes', 'Strengthens lower back and improves posture.', 'Back')\n",
      "(11, 'Superman Hold', '4 sets', '8-12 reps', 'Erector spinae, lower traps', 'Great for lower back endurance.', 'Back')\n",
      "(12, 'Reverse Snow Angels', '3 sets', '8-12 reps', 'Lats, traps, rhomboids', 'Focuses on scapular control and mobility.', 'Back')\n",
      "(13, 'Prone T Raises', '3 sets', '8-12 reps', 'Rear delts, traps', 'Activates upper back muscles effectively.', 'Back')\n",
      "(14, 'Resistance Band Pull-Apart', '4 sets', '8-12 reps', 'Traps, rhomboids', 'Excellent for posture correction and upper back strength.', 'Back')\n",
      "(15, 'Plank with Row (Renegade Rows)', '3 sets', '8-12 reps', 'Traps, rhomboids', 'Combines core stability with back strengthening.', 'Back')\n",
      "(16, 'Resistance Band Rows', '3 sets', '8-12 reps', 'Lats, traps, core', 'A great alternative to cable rows.', 'Back')\n",
      "(17, 'Bird Dog', '4 sets', '8-12 reps', 'Erector spinae, lats, glutes', 'Improves stability and strengthens lower back.', 'Back')\n",
      "(18, 'Flat Barbell Bench Press', '4 sets', '8-12 reps', 'Middle chest (pectoralis major)', 'Builds overall chest size and strength.', 'Chest')\n",
      "(19, 'Incline Barbell Bench Press', '3 sets', '8-12 reps', 'Upper chest (clavicular head of pectoralis major)', 'Focuses on the upper part of the chest.', 'Chest')\n",
      "(20, 'Decline Barbell Bench Press', '3 sets', '8-12 reps', 'Lower chest', 'Adds definition to the lower chest.', 'Chest')\n",
      "(21, 'Flat Dumbbell Press', '4 sets', '8-12 reps', 'Middle chest', 'Enhances range of motion and muscle activation.', 'Chest')\n",
      "(22, 'Incline Dumbbell Press', '3 sets', '8-12 reps', 'Upper chest', 'Builds mass and definition in the upper chest.', 'Chest')\n",
      "(23, 'Chest Fly (Machine)', '3 sets', '8-12 reps', 'Inner chest', 'Isolates the chest and enhances the inner portion.', 'Chest')\n",
      "(24, 'Cable Crossover (High to Low)', '3 sets', '8-12 reps', 'Lower chest', 'Adds definition and stretch to the lower chest.', 'Chest')\n",
      "(25, 'Cable Crossover (Low to High)', '3 sets', '8-12 reps', 'Upper chest', 'Focuses on the upper chest with a unique angle.', 'Chest')\n",
      "(26, 'Pec Deck (Butterfly Machine)', '3 sets', '8-12 reps', 'Middle and inner chest', 'Great for isolation and definition.', 'Chest')\n",
      "(27, 'Push-Up on Gym Rings', '3 sets', '8-12 reps', 'Entire chest, core, and stabilizers', 'Improves stability and chest activation.', 'Chest')\n",
      "(28, 'Standard Push-Ups', '4 sets', '8-12 reps', 'Middle chest', 'Builds chest endurance and strength.', 'Chest')\n",
      "(29, 'Incline Push-Ups (Feet on Floor)', '4 sets', '8-12 reps', 'Lower chest', 'Enhances lower chest engagement.', 'Chest')\n",
      "(30, 'Decline Push-Ups (Feet Elevated)', '4 sets', '8-12 reps', 'Upper chest', 'Works the upper chest without weights.', 'Chest')\n",
      "(31, 'Diamond Push-Ups', '4 sets', '8-12 reps', 'Inner chest and triceps', 'Focuses on chest contraction and inner chest.', 'Chest')\n",
      "(32, 'Wide Push-Ups', '4 sets', '8-12 reps', 'Outer chest', 'Increases stretch and activates the outer chest.', 'Chest')\n",
      "(33, 'Resistance Band Chest Press', '3 sets', '8-12 reps', 'Entire chest', 'A good substitute for bench pressing at home.', 'Chest')\n",
      "(34, 'Resistance Band Fly', '3 sets', '8-12 reps', 'Inner and middle chest', 'Mimics cable flys for a home setting.', 'Chest')\n",
      "(35, 'Dumbbell Floor Press', '3 sets', '8-12 reps', 'Middle chest', 'Simple and effective for those with dumbbells at home.', 'Chest')\n",
      "(36, 'Explosive Clap Push-Ups', '3 sets', '8-12 reps', 'Entire chest', 'Adds power and explosiveness to chest training.', 'Chest')\n",
      "(37, 'Archer Push-Ups', '3 sets', '8-12 reps', 'One side of the chest at a time', 'Builds unilateral strength and stability.', 'Chest')\n",
      "(38, 'Barbell Bicep Curl', '4 sets', '8-12 reps', 'Overall biceps (long and short heads)', 'Builds strength and mass in the entire biceps.', 'Biceps')\n",
      "(39, 'Dumbbell Bicep Curl', '4 sets', '10-12 reps', 'Overall biceps', 'Enhances muscle symmetry and balance.', 'Biceps')\n",
      "(40, 'Hammer Curl (Dumbbells)', '3 sets', '10-12 reps', 'Brachialis and biceps brachii', 'Develops thickness and forearm strength.', 'Biceps')\n",
      "(41, 'Preacher Curl (Barbell or Dumbbell)', '4 sets', '10-12 reps', 'Lower part of biceps (short head emphasis)', 'Isolates the biceps and eliminates momentum.', 'Biceps')\n",
      "(42, 'Concentration Curl', '4 sets', '10-12 reps', 'Peak of the biceps (long head)', 'Improves bicep definition and peak.', 'Biceps')\n",
      "(43, 'Incline Dumbbell Curl', '3 sets', '10-12 reps', 'Long head of the biceps', 'Maximizes the stretch for the long head.', 'Biceps')\n",
      "(44, 'Cable Bicep Curl', '3 sets', '10-12 reps', 'Overall biceps', 'Provides constant tension throughout the movement.', 'Biceps')\n",
      "(45, 'Reverse Curl (Barbell or Dumbbells)', '3 sets', '10-12 reps', 'Brachialis and forearms', 'Adds thickness and improves grip strength.', 'Biceps')\n",
      "(46, 'Zottman Curl', '3 sets', '10-12 reps', 'Biceps and forearms', 'Combines regular and reverse curls for comprehensive arm training.', 'Biceps')\n",
      "(47, '21s (Barbell or Dumbbells)', '3 sets', '10-12 reps', 'Upper, middle, and lower parts of the biceps', 'A set of 21 reps split into partial and full ranges of motion.', 'Biceps')\n",
      "(48, 'Resistance Band Bicep Curl', '3 sets', '10-12 reps', 'Entire biceps', 'Mimics cable curls without a machine.', 'Biceps')\n",
      "(49, 'Isometric Bicep Hold (Dumbbells or Bands)', '3 sets', '10-12 reps', 'Biceps endurance', 'Improves stability and isometric strength.', 'Biceps')\n",
      "(50, 'Towel Curl (Using a Bicepspack or Bag)', '3 sets', '10-12 reps', 'Overall biceps', 'A creative way to train with household items.', 'Biceps')\n",
      "(51, 'Wall Bicep Curl (Using Resistance Bands)', '3 sets', '10-12 reps', 'Biceps brachii', 'Keeps tension constant during the curl.', 'Biceps')\n",
      "(52, 'Reverse Towel Curl', '3 sets', '10-12 reps', 'Brachialis and forearms', 'Great for grip and arm thickness.', 'Biceps')\n",
      "(53, 'Bodyweight Bicep Curl (Under a Table or Bar)', '3 sets', '10-12 reps', 'Biceps and forearms', 'Works as an alternative to pull-ups.', 'Biceps')\n",
      "(54, 'Hammer Curl (Using Water Bottles or Cans)', '4 sets', '10-12 reps', 'Brachialis and biceps brachii', 'Adds resistance with everyday items.', 'Biceps')\n",
      "(55, 'Negative Reps (Slow Dumbbell Lowering)', '4 sets', '10-12 reps', 'Long and short heads of the biceps', 'Focuses on eccentric strength.', 'Biceps')\n",
      "(56, 'Chin-Ups (Close Grip)', '4 sets', '10-12 reps', 'Biceps brachii (long head emphasis)', 'A compound movement for biceps and Biceps.', 'Biceps')\n"
     ]
    }
   ],
   "source": [
    "cursor.execute(\n",
    "    \"\"\"SELECT * FROM exercises;\"\"\"\n",
    ")\n",
    "rows = cursor.fetchall()\n",
    "for row in rows:\n",
    "    print(row)"
   ]
  },
  {
   "cell_type": "code",
   "execution_count": 47,
   "metadata": {},
   "outputs": [],
   "source": [
    "def search_exercises(main: str = None, sub: str = None) -> None:\n",
    "    cursor = connection.cursor()\n",
    "    cursor.execute(\n",
    "        \"\"\"\n",
    "        SELECT * \n",
    "        FROM exercises\n",
    "        WHERE sub_muscles LIKE ?\n",
    "        OR main_muscle LIKE ?;\n",
    "        \"\"\",\n",
    "        (f\"%{sub}%\", f\"%{main}%\")\n",
    "    )\n",
    "    rows = cursor.fetchall()\n",
    "    print(\"I am here\")\n",
    "    # Display the results\n",
    "    for row in rows:\n",
    "        print(row)\n"
   ]
  },
  {
   "cell_type": "code",
   "execution_count": 46,
   "metadata": {},
   "outputs": [
    {
     "name": "stdout",
     "output_type": "stream",
     "text": [
      "I am here\n",
      "(8, 'T-Bar Row', '3 sets', '8-12 reps', 'Mid-back, lats, traps', 'Focuses on mid-back thickness.', 'Back')\n"
     ]
    }
   ],
   "source": [
    "search_exercises('back')"
   ]
  },
  {
   "cell_type": "code",
   "execution_count": null,
   "metadata": {},
   "outputs": [],
   "source": []
  }
 ],
 "metadata": {
  "kernelspec": {
   "display_name": "lang",
   "language": "python",
   "name": "python3"
  },
  "language_info": {
   "codemirror_mode": {
    "name": "ipython",
    "version": 3
   },
   "file_extension": ".py",
   "mimetype": "text/x-python",
   "name": "python",
   "nbconvert_exporter": "python",
   "pygments_lexer": "ipython3",
   "version": "3.13.0"
  }
 },
 "nbformat": 4,
 "nbformat_minor": 2
}
