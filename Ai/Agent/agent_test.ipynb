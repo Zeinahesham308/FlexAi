{
 "cells": [
  {
   "cell_type": "code",
   "execution_count": null,
   "metadata": {},
   "outputs": [],
   "source": []
  },
  {
   "cell_type": "code",
   "execution_count": 1,
   "metadata": {},
   "outputs": [],
   "source": [
    "import os\n",
    "from typing import  List\n",
    "from typing_extensions import TypedDict\n",
    "from pydantic import BaseModel, Field\n",
    "from IPython.display import Image, display\n",
    "from langgraph.graph import START, END, StateGraph\n",
    "from langgraph.checkpoint.memory import MemorySaver\n",
    "from langchain_core.messages import AIMessage, HumanMessage, SystemMessage\n",
    "import sqlite3\n",
    "from langchain.tools import Tool\n",
    "from langchain_core.tools import tool\n",
    "\n",
    "connection = sqlite3.connect(\"gym.db\")"
   ]
  },
  {
   "cell_type": "code",
   "execution_count": 2,
   "metadata": {},
   "outputs": [],
   "source": [
    "os.environ[\"GROQ_API_KEY\"] = \"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\"\n",
    "from langchain_groq import ChatGroq\n",
    "\n",
    "llm = ChatGroq(\n",
    "    model=\"llama-3.3-70b-versatile\",\n",
    "    temperature=0,\n",
    "    max_tokens=None,\n",
    "    timeout=None,\n",
    "    max_retries=2,\n",
    ")"
   ]
  },
  {
   "cell_type": "code",
   "execution_count": 19,
   "metadata": {},
   "outputs": [],
   "source": [
    "\n",
    "@tool\n",
    "def serach_by_sub_muscle_tool(TargetedSubMuscles: str, MainMuscle: str):\n",
    "    \"\"\"\n",
    "    Fetches exercises from the SQLite database based on targeted and main muscles.\n",
    "  Args:\n",
    "        inputs (str): 'TargetedMuscles' and 'MainMuscle'.\n",
    "        \n",
    "    Returns:\n",
    "    List: A list of query results.\"\"\"\n",
    "    print(\"i am here\")\n",
    "    print(\"main muscle\", MainMuscle)\n",
    "    cursor = connection.cursor()\n",
    "    query = \"\"\"\n",
    "        SELECT * \n",
    "        FROM exercises\n",
    "        WHERE sub_muscles LIKE ?\n",
    "        OR main_muscle LIKE ?;\n",
    "    \"\"\"\n",
    "    # Use '%' wildcard for LIKE\n",
    "    parameters = (f\"%{TargetedSubMuscles}%\", f\"%{MainMuscle}%\")\n",
    "    cursor.execute(query, parameters)\n",
    "    rows = cursor.fetchall()\n",
    "    \n",
    "    exercises = []\n",
    "    for row in rows:\n",
    "        exercises.append(row)\n",
    "    \n",
    "    return exercises\n",
    "\n",
    "    "
   ]
  },
  {
   "cell_type": "code",
   "execution_count": 4,
   "metadata": {},
   "outputs": [],
   "source": [
    "tools=[serach_by_sub_muscle_tool]"
   ]
  },
  {
   "cell_type": "code",
   "execution_count": 5,
   "metadata": {},
   "outputs": [],
   "source": [
    "llm=llm.bind_tools(tools)"
   ]
  },
  {
   "cell_type": "code",
   "execution_count": 6,
   "metadata": {},
   "outputs": [
    {
     "data": {
      "text/plain": [
       "AIMessage(content='', additional_kwargs={'tool_calls': [{'id': 'call_9rbd', 'function': {'arguments': '{\"MainMuscle\": \"Lats\", \"TargetedSubMuscles\": \"Latissimus Dorsi\"}', 'name': 'serach_by_sub_muscle_tool'}, 'type': 'function'}]}, response_metadata={'token_usage': {'completion_tokens': 38, 'prompt_tokens': 335, 'total_tokens': 373, 'completion_time': 0.138181818, 'prompt_time': 0.042796089, 'queue_time': 0.009913773, 'total_time': 0.180977907}, 'model_name': 'llama-3.3-70b-versatile', 'system_fingerprint': 'fp_4e32347616', 'finish_reason': 'tool_calls', 'logprobs': None}, id='run-898c7706-fd4b-482d-9f61-f5d5f3e488a9-0', tool_calls=[{'name': 'serach_by_sub_muscle_tool', 'args': {'MainMuscle': 'Lats', 'TargetedSubMuscles': 'Latissimus Dorsi'}, 'id': 'call_9rbd', 'type': 'tool_call'}], usage_metadata={'input_tokens': 335, 'output_tokens': 38, 'total_tokens': 373})"
      ]
     },
     "execution_count": 6,
     "metadata": {},
     "output_type": "execute_result"
    }
   ],
   "source": [
    "llm.invoke(\"i want an good exercise for my lats\")"
   ]
  },
  {
   "cell_type": "code",
   "execution_count": 7,
   "metadata": {},
   "outputs": [],
   "source": [
    "class MainMuscle(TypedDict):\n",
    "    main_muscle: str=Field(description=\"main muscle name\")\n",
    "    sub_muscle: List[str]=Field(description=\"list of sub_muscle groups\")\n",
    "    exercise: List[str]=Field(description=\"list of exercises\")\n",
    "    @property\n",
    "    def summary(self):\n",
    "        return f\"name: {self.main_muscle}, description: {self.description}, exercise: {self.exercise}\""
   ]
  },
  {
   "cell_type": "code",
   "execution_count": 9,
   "metadata": {},
   "outputs": [],
   "source": [
    "class Perspectives(BaseModel):\n",
    "    muscle_workouts: List[MainMuscle] = Field(\n",
    "        description=\"Comprehensive list of all workout with sub_muscles.\",\n",
    "    )"
   ]
  },
  {
   "cell_type": "code",
   "execution_count": 11,
   "metadata": {},
   "outputs": [],
   "source": [
    "class Generate_plans(TypedDict):\n",
    "    goal:str # goal of the workout_plans\n",
    "    intensity: str # intensity of the workout\n",
    "    tall: int \n",
    "    weight: int\n",
    "    human_feedback: str\n",
    "    max_exercises: int\n",
    "    muscle_workouts: List[MainMuscle] # list of whole body exercise"
   ]
  },
  {
   "cell_type": "code",
   "execution_count": 12,
   "metadata": {},
   "outputs": [],
   "source": [
    "import langchain_core"
   ]
  },
  {
   "cell_type": "code",
   "execution_count": 13,
   "metadata": {},
   "outputs": [],
   "source": [
    "fitness_instructions=\"\"\"You are tasked with retreiving and review a set of exercises for each muscle group. Follow these instructions carefully:\n",
    "\n",
    "1. First, review the research topic:\n",
    "{goal}\n",
    "        \n",
    "2. Examine any editorial feedback that has been optionally provided to guide creation of the analysts: \n",
    "{human_feedback}\n",
    "3. take notes on the level of {intensity} and / or feedback above.\n",
    "4. Assign one set of exercises to each main muscle group.\n",
    "5. Pick the top {max_exercises} exercises for each SUB muscle group.\"\"\"\n"
   ]
  },
  {
   "cell_type": "code",
   "execution_count": 20,
   "metadata": {},
   "outputs": [],
   "source": [
    "def create_plans(state: Generate_plans):\n",
    "    \n",
    "    \"\"\" Create plans \"\"\"\n",
    "    print(\"i am here\")\n",
    "    goal=state.get('goal', '')\n",
    "    intensity=state.get('intensity', '')\n",
    "    human_feedback=state.get('human_feedback', '')\n",
    "    max_exercises=state.get('max_exercises', 0)    \n",
    "    # Enforce structured output\n",
    "    structured_llm = llm.with_structured_output(Perspectives)\n",
    "\n",
    "    # System message\n",
    "    system_message = fitness_instructions.format(goal=goal,\n",
    "                                                            human_feedback=human_feedback, \n",
    "                                                            intensity=intensity,max_exercises=max_exercises)\n",
    "\n",
    "    # Generate question \n",
    "    main_muscle_plans = structured_llm.invoke([SystemMessage(content=system_message)]+[HumanMessage(content=\"serach the set of exercises with serach_by_sub_muscle_tool and enhance it.\")])\n",
    "    \n",
    "    # Write the list of analysis to state\n",
    "    return {\"muscle_workouts\": main_muscle_plans}"
   ]
  },
  {
   "cell_type": "code",
   "execution_count": null,
   "metadata": {},
   "outputs": [],
   "source": [
    "def search_exercises(main: str = None, sub: str = None):\n",
    "    cursor = connection.cursor()\n",
    "    cursor.execute(\n",
    "        \"\"\"\n",
    "        SELECT * \n",
    "        FROM exercises\n",
    "        WHERE sub_muscles LIKE ?\n",
    "        OR main_muscle LIKE ?;\n",
    "        \"\"\",\n",
    "        (f\"%{sub}%\", f\"%{main}%\")\n",
    "    )\n",
    "    rows = cursor.fetchall()\n",
    "    print(\"I am here\")\n",
    "    # Display the results\n",
    "    return rows\n"
   ]
  },
  {
   "cell_type": "code",
   "execution_count": 21,
   "metadata": {},
   "outputs": [
    {
     "data": {
      "image/png": "[encoded data removed]",
      "text/plain": [
       "<IPython.core.display.Image object>"
      ]
     },
     "metadata": {},
     "output_type": "display_data"
    }
   ],
   "source": [
    "def human_feedback_nod(state: Generate_plans):\n",
    "    \"\"\" No-op node that should be interrupted on \"\"\"\n",
    "    pass\n",
    "\n",
    "def should_continue(state: Generate_plans):\n",
    "    \"\"\" Return the next node to execute \"\"\"\n",
    "\n",
    "    # Check if human feedback\n",
    "    human_analyst_feedback=state.get('human_feedback', None)\n",
    "    if human_analyst_feedback:\n",
    "        return \"create_plans\"\n",
    "    \n",
    "    # Otherwise end\n",
    "    return END\n",
    "\n",
    "# Add nodes and edges \n",
    "builder = StateGraph(Generate_plans)\n",
    "builder.add_node(\"create_plans\", create_plans)\n",
    "builder.add_node(\"human_feedback_nod\", human_feedback_nod)\n",
    "builder.add_edge(START, \"create_plans\")\n",
    "builder.add_edge(\"create_plans\", \"human_feedback_nod\")\n",
    "builder.add_conditional_edges(\"human_feedback_nod\", should_continue, [\"create_plans\", END])\n",
    "\n",
    "# Compile\n",
    "memory = MemorySaver()\n",
    "graph = builder.compile(interrupt_before=['human_feedback_nod'], checkpointer=memory)\n",
    "\n",
    "# View\n",
    "display(Image(graph.get_graph(xray=1).draw_mermaid_png()))"
   ]
  },
  {
   "cell_type": "code",
   "execution_count": 22,
   "metadata": {},
   "outputs": [
    {
     "name": "stdout",
     "output_type": "stream",
     "text": [
      "i am here\n",
      "('muscle_workouts', [{'main_muscle': 'Chest', 'sub_muscle': ['Pectoralis Major', 'Pectoralis Minor'], 'exercise': ['Bench Press', 'Dumbbell Press', 'Incline Press']}, {'main_muscle': 'Back', 'sub_muscle': ['Latissimus Dorsi', 'Trapezius'], 'exercise': ['Pull-ups', 'Lat Pulldowns', 'Rows']}, {'main_muscle': 'Legs', 'sub_muscle': ['Quadriceps', 'Hamstrings'], 'exercise': ['Squats', 'Lunges', 'Leg Press']}, {'main_muscle': 'Shoulders', 'sub_muscle': ['Deltoids', 'Rotator Cuff'], 'exercise': ['Shoulder Press', 'Lateral Raises', 'Rear Delt Fly']}, {'main_muscle': 'Arms', 'sub_muscle': ['Biceps', 'Triceps'], 'exercise': ['Bicep Curls', 'Tricep Pushdowns', 'Overhead Dumbbell Extension']}])\n"
     ]
    }
   ],
   "source": [
    "# Input\n",
    "max_exercises = 2\n",
    "goal = \"lose weight\"\n",
    "intessity = \"high\"\n",
    "tall=178\n",
    "weight=60\n",
    "thread = {\"configurable\": {\"thread_id\": \"1\"}}\n",
    "\n",
    "# Run the graph until the first interruption\n",
    "for event in graph.stream({\"goal\":goal,\"max_exercises\":max_exercises,\"instensity\":intessity}, thread, stream_mode=\"values\"):\n",
    "    # Review\n",
    "    muscle_workouts = event.get('muscle_workouts', '')\n",
    "    if muscle_workouts:\n",
    "        for set in muscle_workouts:\n",
    "            print(set)"
   ]
  },
  {
   "cell_type": "code",
   "execution_count": 18,
   "metadata": {},
   "outputs": [
    {
     "name": "stdout",
     "output_type": "stream",
     "text": [
      "StateSnapshot(values={'goal': 'lose weight', 'max_exercises': 2, 'muscle_workouts': Perspectives(muscle_workouts=[{'main_muscle': 'Chest', 'sub_muscle': ['Pectoralis Major', 'Pectoralis Minor'], 'exercise': ['Bench Press', 'Dumbbell Press', 'Incline Press']}, {'main_muscle': 'Back', 'sub_muscle': ['Latissimus Dorsi', 'Trapezius'], 'exercise': ['Pull-ups', 'Lat Pulldowns', 'Rows']}, {'main_muscle': 'Legs', 'sub_muscle': ['Quadriceps', 'Hamstrings'], 'exercise': ['Squats', 'Lunges', 'Leg Press']}, {'main_muscle': 'Shoulders', 'sub_muscle': ['Deltoids', 'Rotator Cuff'], 'exercise': ['Shoulder Press', 'Lateral Raises', 'Rear Delt Fly']}, {'main_muscle': 'Arms', 'sub_muscle': ['Biceps', 'Triceps'], 'exercise': ['Bicep Curls', 'Tricep Pushdowns', 'Overhead Dumbbell Extension']}])}, next=('human_feedback_nod',), config={'configurable': {'thread_id': '1', 'checkpoint_ns': '', 'checkpoint_id': '1efb9e79-7665-6672-8001-cbe35fa2ccc6'}}, metadata={'source': 'loop', 'writes': {'create_plans': {'muscle_workouts': Perspectives(muscle_workouts=[{'main_muscle': 'Chest', 'sub_muscle': ['Pectoralis Major', 'Pectoralis Minor'], 'exercise': ['Bench Press', 'Dumbbell Press', 'Incline Press']}, {'main_muscle': 'Back', 'sub_muscle': ['Latissimus Dorsi', 'Trapezius'], 'exercise': ['Pull-ups', 'Lat Pulldowns', 'Rows']}, {'main_muscle': 'Legs', 'sub_muscle': ['Quadriceps', 'Hamstrings'], 'exercise': ['Squats', 'Lunges', 'Leg Press']}, {'main_muscle': 'Shoulders', 'sub_muscle': ['Deltoids', 'Rotator Cuff'], 'exercise': ['Shoulder Press', 'Lateral Raises', 'Rear Delt Fly']}, {'main_muscle': 'Arms', 'sub_muscle': ['Biceps', 'Triceps'], 'exercise': ['Bicep Curls', 'Tricep Pushdowns', 'Overhead Dumbbell Extension']}])}}, 'thread_id': '1', 'step': 1, 'parents': {}}, created_at='2024-12-14T06:49:40.042486+00:00', parent_config={'configurable': {'thread_id': '1', 'checkpoint_ns': '', 'checkpoint_id': '1efb9e79-5fda-6f78-8000-f74c7bb920e9'}}, tasks=(PregelTask(id='d80022b2-bcda-b817-8f1b-053e5d12ba75', name='human_feedback_nod', path=('__pregel_pull', 'human_feedback_nod'), error=None, interrupts=(), state=None, result=None),))\n"
     ]
    }
   ],
   "source": [
    "state = graph.get_state(thread)\n",
    "print(state)"
   ]
  }
 ],
 "metadata": {
  "kernelspec": {
   "display_name": "lang",
   "language": "python",
   "name": "python3"
  },
  "language_info": {
   "codemirror_mode": {
    "name": "ipython",
    "version": 3
   },
   "file_extension": ".py",
   "mimetype": "text/x-python",
   "name": "python",
   "nbconvert_exporter": "python",
   "pygments_lexer": "ipython3",
   "version": "3.13.0"
  }
 },
 "nbformat": 4,
 "nbformat_minor": 2
}
