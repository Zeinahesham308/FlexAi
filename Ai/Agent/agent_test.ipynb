{
 "cells": [
  {
   "cell_type": "code",
   "execution_count": 1,
   "metadata": {},
   "outputs": [],
   "source": [
    "import os\n",
    "from typing import  List\n",
    "from pydantic import BaseModel, Field\n",
    "from IPython.display import Image, display\n",
    "from langgraph.graph import START, END, StateGraph\n",
    "from langgraph.checkpoint.memory import MemorySaver\n",
    "from langchain_core.messages import AIMessage, HumanMessage, SystemMessage\n",
    "import sqlite3\n",
    "\n",
    "from yaml import load\n",
    "from yaml import SafeLoader\n",
    "from langchain.agents import AgentExecutor, create_tool_calling_agent\n",
    "from langgraph.prebuilt import ToolNode\n",
    "from langchain_core.messages import ToolMessage\n",
    "import json\n",
    "import logging\n",
    "from io import BytesIO\n",
    "from typing import Annotated, Literal\n",
    "from langchain_openai import ChatOpenAI\n",
    "from langgraph.graph.message import add_messages\n",
    "from langgraph.prebuilt import ToolNode\n",
    "\n",
    "from typing_extensions import TypedDict\n",
    "import openai\n",
    "from typing import Optional\n",
    "os.environ[\"OPENAI_API_KEY\"] = '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'"
   ]
  },
  {
   "cell_type": "code",
   "execution_count": 2,
   "metadata": {},
   "outputs": [],
   "source": [
    "from langchain_core.prompts import ChatPromptTemplate\n",
    "\n",
    "\n"
   ]
  },
  {
   "cell_type": "code",
   "execution_count": 316,
   "metadata": {},
   "outputs": [],
   "source": [
    "#make a judge a node"
   ]
  },
  {
   "cell_type": "code",
   "execution_count": 3,
   "metadata": {},
   "outputs": [],
   "source": [
    "INITIAL_PROMPT = \"\"\"\n",
    "You are a professional fitness coach.\n",
    "\n",
    "Your mission is to help people reach their fitness goals by:\n",
    "- Analyzing their current fitness level, body weghit and height\n",
    "\n",
    "WEGHIT:{weight}\n",
    "HEIGHT:{tall}\n",
    "GOAL:{goal}\n",
    "intensity:{intensity}\n",
    "age:{age}\n",
    "sex:{sex}\n",
    "Equipment: local gym\n",
    "\n",
    "\n",
    "1.Use your knowledge and tools to search for relevant exercises from a database\n",
    "   and determine optimal sets, reps, and intensity based on the user's goals.\n",
    "   search one primary muscle group and one sub-muscle group at a time.\n",
    "2. Organize the workout into a structured, goal-specific plan, categorized by\n",
    "   body parts (e.g., back, chest, legs) and sub-muscle groups.\n",
    "3. Allow for feedback, adjustments, and improvements based on user input or\n",
    "   progress tracking.\n",
    "4. Output the full program in a clean, structured format that includes:\n",
    "   - Exercises with primary/secondary muscle groups\n",
    "   - Instructions, sets, reps, and variations\n",
    "   - Weekly split and progression strategies\n",
    "NOTIFIY THE USER WHETHER THE DATABASE RETUREND THE CORRECT ANSWER OR NOT\n",
    "IMPORTANT:\n",
    "- Avoid repeating the same movement pattern within a body part.\n",
    "- Prioritize **variety** and **muscle group balance**.\n",
    "- Rotate between compound and isolation exercises, machines and free weights, unilateral and bilateral movements.\n",
    "- Focus on muscle groups from the following comprehensive lists:\n",
    "Body parts: Back, Chest, Leg, Shoulders, Arms\n",
    "THIS the list of all the primary mucsle names\n",
    ":[\n",
    "    'Biceps Brachii', 'Brachialis', 'Brachioradialis', 'Deltoid', 'Gluteus Maximus', 'Hamstrings',\n",
    "    'Deltoid Lateral', 'biceps', 'brachialis', 'brachioradialis', 'chest', 'Anterior Deltoids',\n",
    "    'Lateral Deltoids', 'Triceps Brachii', 'Upper Pectorals', 'Pectoralis Major', 'Triceps',\n",
    "    'Latissimus Dorsi', 'Trapezius', 'Rhomboids', 'Deltoids', 'biceps femoris', 'semitendinosus',\n",
    "    'semimembranosus', 'quads', 'glutes', 'Chest', 'Shoulders', 'Core', 'Rear Deltoids',\n",
    "    'Rotator Cuff', 'Posterior Deltoids', 'Quadriceps', 'Hips', 'Gluteal muscles', 'Front Deltoids',\n",
    "    'Lateral Deltoid', 'Rear Deltoid', 'Pectoralis', 'Pectoralis major', 'Erector Spinae',\n",
    "    'adductors', 'inner thigh muscles', 'Lower Back', 'Middle Back', 'Gastrocnemius', 'Soleus',\n",
    "    'lower back', 'Gluteus Medius', 'Gluteus Minimus', 'calves', 'Spinal Erectors',\n",
    "    'forearm extensors', 'back', 'Pectoral muscles', 'Chest muscles', 'Medial Deltoid',\n",
    "    'Serratus Anterior', 'Middle delts', 'Rear delts', 'Traps', 'Rectus Femoris', 'Vastus Medialis',\n",
    "    'Back muscles', 'forearm muscles', 'latissimus dorsi', 'Wrist Flexor', 'Wrist Flexors',\n",
    "    'Lateral Deltoids', 'Posterior Deltoids', 'Latissimus dorsi', 'Lower trapezius',\n",
    "    'Pectoralis Minor', 'Pectoralis Major - Clavicular Head', 'Multifidus', 'lats', 'traps',\n",
    "    'Vastus Lateralis', 'Vastus Intermedius', 'legs', 'Upper Back', 'Middle Trapezii',\n",
    "    'Lower Trapezii', 'Teres Major', 'Teres Minor', 'Infraspinatus', 'delts', 'pecs',\n",
    "    'Thenar muscles', 'Finger Flexors', 'Pectoral (Chest) Muscles'\n",
    "]\n",
    "\n",
    "THIS the list of all the secondary mucsle names\n",
    "'abdominal muscles', 'abdominals', 'abductors', 'abs', 'adductor brevis', 'adductor longus', 'adductor magnus', 'adductors', 'ankle stabilizers', \n",
    "'anterior deltoid', 'anterior deltoids', 'arm muscles', 'arms', 'back', 'back muscles', 'biceps', 'biceps brachii', 'brachialis', 'brachioradialis',\n",
    "'branchialis', 'calf muscles', 'calves', 'chest', 'core', 'core muscles', 'core musculature', 'deep core muscles', 'deltoids', 'elbow flexors', 'erector\n",
    "spinae', 'erectors', 'external oblique', 'external obliques', 'forearm', 'forearm flexors', 'forearm flexors and extensors', 'forearm muscles', 'forearms',\n",
    "'gastrocnemius', 'gluteus maximus', 'glutes', 'grip muscles', 'hamstrings', 'hands', 'hip flexors', 'hips', 'infraspinatus', 'inner thighs', 'lateral deltoid', 'lateral deltoids', 'lats', 'legs', \n",
    "'levator scapulae', 'lower back', 'lower back muscles', 'lower leg', 'lower traps', 'multifidus', 'neck', 'obliques', 'outer thighs', 'pecs', 'posterior deltoids',\n",
    "'posterior delts', 'posterior oblique sling', 'postural muscles', 'quadriceps', 'quads', 'rear deltoids', 'rectus abdominis', 'rhomboid major', 'rhomboid minor',\n",
    "'rhomboids', 'rotator', 'rotator cuff muscles', 'scapular', 'serratus anterior', 'shoulder stabilizers', 'shoulders', 'soleus', 'spinal erectors', \n",
    "'stabilizing muscles', 'teres major', 'teres minor', 'thighs', 'tibialis anterior', 'transverse abdominis', 'trapezius', 'traps', 'triceps',\n",
    "'triceps brachii', 'upper back', 'upper back muscles', 'upper body', 'upper chest', 'upper pectoralis', 'upper traps', 'wrist extensor', \n",
    "'wrist extensors', 'wrist flexors'\n",
    "\"\"\"\n"
   ]
  },
  {
   "cell_type": "code",
   "execution_count": 4,
   "metadata": {},
   "outputs": [],
   "source": [
    "def print_stream(stream):\n",
    "    for s in stream:\n",
    "        message = s[\"messages\"][-1]\n",
    "        message.pretty_print()"
   ]
  },
  {
   "cell_type": "code",
   "execution_count": 5,
   "metadata": {},
   "outputs": [],
   "source": [
    "config = load(open(\"config.yaml\"), Loader=SafeLoader)\n",
    "os.environ[\"GROQ_API_KEY\"] = config[\"groq\"][\"apiKey\"]\n",
    "from langchain_groq import ChatGroq\n"
   ]
  },
  {
   "cell_type": "code",
   "execution_count": null,
   "metadata": {},
   "outputs": [],
   "source": [
    "from langchain.tools import tool\n",
    "connection = sqlite3.connect(\"work_out.db\")\n",
    "@tool\n",
    "def get_exercises(body_part: str, primary_muscles: str, secondary_muscles: str) -> list:\n",
    "    \"\"\"\n",
    "    Fetches exercises from the SQLite database based on primary and sub muscle.\n",
    "\n",
    "    Args:\n",
    "        body_part (str): The body part to filter exercises by.\n",
    "        primary_muscles (str): Primary muscle group targeted.\n",
    "        secondary_muscle (str): Secondary muscle group targeted.\n",
    "\n",
    "    \n",
    "    Returns:\n",
    "        str: A formatted string listing matching exercises, one per line.\n",
    "    \"\"\"\n",
    "    primary_muscles = primary_muscles.lower().strip()\n",
    "    secondary_muscles = secondary_muscles.lower().strip()\n",
    "    body_part = body_part.lower().strip()\n",
    "    body_part_modified = body_part[:-1] if body_part.endswith('s') else body_part\n",
    "\n",
    "    connection = sqlite3.connect(\"work_out.db\")\n",
    "    cursor = connection.cursor()\n",
    "    query = f\"\"\"\n",
    "        SELECT primary_muscles,secondary_muscles \n",
    "        FROM DATASET\n",
    "        WHERE (primary_muscles LIKE '%{primary_muscles}%' \n",
    "               OR secondary_muscles LIKE '%{secondary_muscles}%')\n",
    "        AND body_part = '{body_part_modified}'\n",
    "        LIMIT 10;\n",
    "    \"\"\"\n",
    "    parameters = (f\"%{primary_muscles}%\", f\"%{secondary_muscles}%\", body_part_modified)\n",
    "    cursor.execute(query)\n",
    "    rows = cursor.fetchall()\n",
    "    connection.close()\n",
    "    if not rows:\n",
    "        return \"no exercises found\"\n",
    "    exercises = []\n",
    "    for i, (name, prim, sec) in enumerate(rows, 1):\n",
    "        exercises.append(\n",
    "            f\"{i}. {name}\\n   Primary: {prim}\\n   Secondary: {sec}\"\n",
    "        )\n",
    "    # Format as a numbered list\n",
    "    exercises2 = \"\\n\".join([f\"{i+1}. {row[0]}\" for i, row in enumerate(rows)])\n",
    "    return f\"Found these exercises:\\n{exercises2}\"\n",
    "    \n",
    "    \n"
   ]
  },
  {
   "cell_type": "code",
   "execution_count": 321,
   "metadata": {},
   "outputs": [],
   "source": [
    "connection = sqlite3.connect(\"work_out.db\")\n",
    "cursor = connection.cursor()\n",
    "query = \"\"\"\n",
    "    SELECT DISTINCT body_part\n",
    "    FROM DATASET\n",
    "\n",
    "\"\"\"\n",
    "cursor.execute(query)\n",
    "rows = cursor.fetchall()\n",
    "connection.close()"
   ]
  },
  {
   "cell_type": "code",
   "execution_count": 322,
   "metadata": {},
   "outputs": [
    {
     "name": "stdout",
     "output_type": "stream",
     "text": [
      "[('arm',), ('leg',), ('shoulder',), ('back',), ('chest',)]\n"
     ]
    }
   ],
   "source": [
    "print(rows)"
   ]
  },
  {
   "cell_type": "code",
   "execution_count": 7,
   "metadata": {},
   "outputs": [
    {
     "data": {
      "text/plain": [
       "'Found these exercises:\\n1. Barbell Bicep Curl\\n2. Dumbbell Bicep Curl\\n3. Hammer Curl\\n4. Incline Dumbbell Curl\\n5. Concentration Curl\\n6. Preacher Curl\\n7. Cable Bicep Curl\\n8. Reverse Curl (Barbell or Dumbbell)\\n9. EZ Bar Curl\\n10. Zottman Curl'"
      ]
     },
     "execution_count": 7,
     "metadata": {},
     "output_type": "execute_result"
    }
   ],
   "source": [
    "get_exercises.invoke({\"body_part\": \"arm\", \"primary_muscles\": \"Biceps \", \"secondary_muscles\": \"Brachialis\"})"
   ]
  },
  {
   "cell_type": "code",
   "execution_count": 324,
   "metadata": {},
   "outputs": [],
   "source": [
    "tools=[get_exercises]"
   ]
  },
  {
   "cell_type": "code",
   "execution_count": 325,
   "metadata": {},
   "outputs": [],
   "source": [
    "\n",
    "llm = ChatGroq(\n",
    "    model=\"llama-3.3-70b-versatile\",\n",
    "    temperature=0.1,\n",
    "    max_tokens=None,\n",
    "    timeout=None,\n",
    "    max_retries=2,\n",
    ").bind_tools(tools)"
   ]
  },
  {
   "cell_type": "code",
   "execution_count": 326,
   "metadata": {},
   "outputs": [],
   "source": [
    "\n",
    "llm=llm.bind_tools(tools)"
   ]
  },
  {
   "cell_type": "code",
   "execution_count": 327,
   "metadata": {},
   "outputs": [],
   "source": [
    "tool_node=ToolNode(tools)"
   ]
  },
  {
   "cell_type": "code",
   "execution_count": 328,
   "metadata": {},
   "outputs": [],
   "source": [
    "class State(TypedDict):\n",
    "    messages: Annotated[list,add_messages]\n",
    "    summary_plan: str"
   ]
  },
  {
   "cell_type": "code",
   "execution_count": 329,
   "metadata": {},
   "outputs": [],
   "source": [
    "# def should_continue(state: State) -> Literal[\"tools\", \"summary\"]:  # Changed \"summary\" to \"end\"\n",
    "#     messages = state[\"messages\"]\n",
    "#     last_message = messages[-1]\n",
    "    \n",
    "#     # Only continue to tools if there are active tool calls\n",
    "#     if hasattr(last_message, \"tool_calls\") and last_message.tool_calls:\n",
    "#         return \"tools\"\n",
    "#     return   \"summary\"\n",
    "\n"
   ]
  },
  {
   "cell_type": "code",
   "execution_count": 330,
   "metadata": {},
   "outputs": [],
   "source": [
    "def should_continue(state: State) -> Literal[\"tools\", END]:  # Changed \"summary\" to \"end\"\n",
    "    messages = state[\"messages\"]\n",
    "    last_message = messages[-1]\n",
    "    \n",
    "    # Only continue to tools if there are active tool calls\n",
    "    if hasattr(last_message, \"tool_calls\") and last_message.tool_calls:\n",
    "        return \"tools\"\n",
    "    return END  \n",
    "\n"
   ]
  },
  {
   "cell_type": "code",
   "execution_count": 331,
   "metadata": {},
   "outputs": [],
   "source": [
    "summary_prompt = \"\"\" Summarize the workout plan in a nice and clean format\"\"\""
   ]
  },
  {
   "cell_type": "code",
   "execution_count": 332,
   "metadata": {},
   "outputs": [],
   "source": [
    "llm2=ChatOpenAI(model=\"google/gemini-2.5-pro-exp-03-25:free\",base_url=\"https://openrouter.ai/api/v1\")\n",
    "\n"
   ]
  },
  {
   "cell_type": "code",
   "execution_count": 333,
   "metadata": {},
   "outputs": [],
   "source": [
    "llm=llm2.bind_tools(tools)"
   ]
  },
  {
   "cell_type": "code",
   "execution_count": 334,
   "metadata": {},
   "outputs": [
    {
     "data": {
      "text/plain": [
       "AIMessage(content=\"Okay, I can search for exercises. However, it's quite uncommon for a single exercise to strongly target both the chest as a primary mover and the biceps as a significant secondary mover (or vice-versa). Chest exercises typically involve the triceps and shoulders, while bicep exercises usually involve forearm muscles.\\n\\nWould you like me to search for:\\n1.  Exercises where the **chest is primary** and **biceps are secondary**?\\n2.  Exercises where the **biceps are primary** and **chest is secondary**?\\n3.  Or, would you prefer separate lists: one for exercises primarily targeting the **chest**, and another list for exercises primarily targeting the **biceps**?\", additional_kwargs={'refusal': None}, response_metadata={'token_usage': {'completion_tokens': 145, 'prompt_tokens': 110, 'total_tokens': 1640, 'completion_tokens_details': None}, 'model_name': 'google/gemini-2.5-pro-exp-03-25', 'system_fingerprint': None, 'finish_reason': 'stop', 'logprobs': None}, id='run-73270e33-01ce-4661-8baa-a36e6a11d904-0', usage_metadata={'input_tokens': 110, 'output_tokens': 145, 'total_tokens': 1640})"
      ]
     },
     "execution_count": 334,
     "metadata": {},
     "output_type": "execute_result"
    }
   ],
   "source": [
    "llm.invoke(\"what exercises traget chest and biceps\")"
   ]
  },
  {
   "cell_type": "code",
   "execution_count": 335,
   "metadata": {},
   "outputs": [],
   "source": [
    "def call_model(state: State):\n",
    "    \n",
    "    print(\"you are in call model \")\n",
    "    messages = state[\"messages\"]\n",
    "    \n",
    "    \n",
    "    for i, msg in enumerate(messages):\n",
    "        if isinstance(msg, ToolMessage) and not isinstance(msg.content, str):\n",
    "            messages[i] = ToolMessage(\n",
    "                tool_call_id=msg.tool_call_id,\n",
    "                content=json.dumps(msg.content)\n",
    "            )\n",
    "\n",
    "\n",
    "    response = llm.invoke(messages)\n",
    "    return {\"messages\": [response]}"
   ]
  },
  {
   "cell_type": "code",
   "execution_count": 336,
   "metadata": {},
   "outputs": [],
   "source": [
    "def summary_node(state: State):\n",
    "    print(\"you are in summary \")\n",
    "    messages = state[\"messages\"]\n",
    "    messages.append( summary_prompt)\n",
    "    summarize =llm.invoke(messages)\n",
    "    print(\"you are near end \")\n",
    "\n",
    "    return {\n",
    "        \"messages\": messages,\n",
    "        \"summary_plan\": summarize,\n",
    "    }"
   ]
  },
  {
   "cell_type": "code",
   "execution_count": 337,
   "metadata": {},
   "outputs": [
    {
     "data": {
      "image/png": "[encoded data removed]",
      "text/plain": [
       "<IPython.core.display.Image object>"
      ]
     },
     "metadata": {},
     "output_type": "display_data"
    }
   ],
   "source": [
    "workflow = StateGraph(State)\n",
    "workflow.add_node(\"agent\", call_model)\n",
    "workflow.add_node(\"tools\", tool_node)\n",
    "#workflow.add_node(\"summary\", summary_node)\n",
    "workflow.add_edge(START, \"agent\")\n",
    "workflow.add_conditional_edges(\"agent\", should_continue)\n",
    "workflow.add_edge(\"tools\", \"agent\")\n",
    "#workflow.add_edge(\"summary\", END)\n",
    "checkpointer = MemorySaver()\n",
    "graph = workflow.compile(checkpointer=checkpointer)\n",
    "display(Image(graph.get_graph(xray=1).draw_mermaid_png()))\n"
   ]
  },
  {
   "cell_type": "code",
   "execution_count": 338,
   "metadata": {},
   "outputs": [],
   "source": [
    "INITIAL_PROMPT=INITIAL_PROMPT.format(weight=90, tall=180,goal=\"get lean muscle\",sex=\"male\",age=25,intensity=\"high\")"
   ]
  },
  {
   "cell_type": "code",
   "execution_count": 339,
   "metadata": {},
   "outputs": [],
   "source": [
    "from langchain_core.runnables.config import RunnableConfig\n"
   ]
  },
  {
   "cell_type": "code",
   "execution_count": 340,
   "metadata": {},
   "outputs": [],
   "source": [
    "config = {\n",
    "    \"configurable\": {\n",
    "        \"thread_id\": 17\n",
    "    }\n",
    "}\n"
   ]
  },
  {
   "cell_type": "code",
   "execution_count": 341,
   "metadata": {},
   "outputs": [],
   "source": [
    "config = RunnableConfig(thread_id=78,recursion_limit=50)"
   ]
  },
  {
   "cell_type": "code",
   "execution_count": 342,
   "metadata": {},
   "outputs": [
    {
     "name": "stdout",
     "output_type": "stream",
     "text": [
      "================================\u001b[1m Human Message \u001b[0m=================================\n",
      "\n",
      "\n",
      "You are a professional fitness coach.\n",
      "\n",
      "Your mission is to help people reach their fitness goals by:\n",
      "- Analyzing their current fitness level, body weghit and height\n",
      "\n",
      "WEGHIT:90\n",
      "HEIGHT:180\n",
      "GOAL:get lean muscle\n",
      "intensity:high\n",
      "age:25\n",
      "sex:male\n",
      "Equipment: local gym\n",
      "\n",
      "\n",
      "1.Use your knowledge and tools to search for relevant exercises from a database\n",
      "   and determine optimal sets, reps, and intensity based on the user's goals.\n",
      "   search one primary muscle group and one sub-muscle group at a time.\n",
      "2. Organize the workout into a structured, goal-specific plan, categorized by\n",
      "   body parts (e.g., back, chest, legs) and sub-muscle groups.\n",
      "3. Allow for feedback, adjustments, and improvements based on user input or\n",
      "   progress tracking.\n",
      "4. Output the full program in a clean, structured format that includes:\n",
      "   - Exercises with primary/secondary muscle groups\n",
      "   - Instructions, sets, reps, and variations\n",
      "   - Weekly split and progression strategies\n",
      "NOTIFIY THE USER WHETHER THE DATABASE RETUREND THE CORRECT ANSWER OR NOT\n",
      "IMPORTANT:\n",
      "- Avoid repeating the same movement pattern within a body part.\n",
      "- Prioritize **variety** and **muscle group balance**.\n",
      "- Rotate between compound and isolation exercises, machines and free weights, unilateral and bilateral movements.\n",
      "- Focus on muscle groups from the following comprehensive lists:\n",
      "Body parts: Back, Chest, Leg, Shoulders, Arms\n",
      "THIS the list of all the primary mucsle names\n",
      ":[\n",
      "    'Biceps Brachii', 'Brachialis', 'Brachioradialis', 'Deltoid', 'Gluteus Maximus', 'Hamstrings',\n",
      "    'Deltoid Lateral', 'biceps', 'brachialis', 'brachioradialis', 'chest', 'Anterior Deltoids',\n",
      "    'Lateral Deltoids', 'Triceps Brachii', 'Upper Pectorals', 'Pectoralis Major', 'Triceps',\n",
      "    'Latissimus Dorsi', 'Trapezius', 'Rhomboids', 'Deltoids', 'biceps femoris', 'semitendinosus',\n",
      "    'semimembranosus', 'quads', 'glutes', 'Chest', 'Shoulders', 'Core', 'Rear Deltoids',\n",
      "    'Rotator Cuff', 'Posterior Deltoids', 'Quadriceps', 'Hips', 'Gluteal muscles', 'Front Deltoids',\n",
      "    'Lateral Deltoid', 'Rear Deltoid', 'Pectoralis', 'Pectoralis major', 'Erector Spinae',\n",
      "    'adductors', 'inner thigh muscles', 'Lower Back', 'Middle Back', 'Gastrocnemius', 'Soleus',\n",
      "    'lower back', 'Gluteus Medius', 'Gluteus Minimus', 'calves', 'Spinal Erectors',\n",
      "    'forearm extensors', 'back', 'Pectoral muscles', 'Chest muscles', 'Medial Deltoid',\n",
      "    'Serratus Anterior', 'Middle delts', 'Rear delts', 'Traps', 'Rectus Femoris', 'Vastus Medialis',\n",
      "    'Back muscles', 'forearm muscles', 'latissimus dorsi', 'Wrist Flexor', 'Wrist Flexors',\n",
      "    'Lateral Deltoids', 'Posterior Deltoids', 'Latissimus dorsi', 'Lower trapezius',\n",
      "    'Pectoralis Minor', 'Pectoralis Major - Clavicular Head', 'Multifidus', 'lats', 'traps',\n",
      "    'Vastus Lateralis', 'Vastus Intermedius', 'legs', 'Upper Back', 'Middle Trapezii',\n",
      "    'Lower Trapezii', 'Teres Major', 'Teres Minor', 'Infraspinatus', 'delts', 'pecs',\n",
      "    'Thenar muscles', 'Finger Flexors', 'Pectoral (Chest) Muscles'\n",
      "]\n",
      "\n",
      "THIS the list of all the secondary mucsle names\n",
      "[\"['Calves', 'Abdominals']\", \"['Abs', 'Adductors', 'Lower Back', 'Shoulders', 'Traps', 'Upper Back']\", \"['Arms']\", \"['Lateral Deltoid', 'Trapezius', 'Rotator cuff muscles']\", \"['Shoulders', 'Biceps', 'Back']\", \"['Brachialis', 'Forearm muscles', 'Brachioradialis']\", \"['Rotator']\", \"['Posterior delts']\", \"['Glutes', 'Quads', 'Hamstrings']\", \"['Brachialis', 'Brachioradialis', 'Forearms']\", \"['Rhomboids']\", \"['Biceps', 'Trapezius', 'Rhomboids', 'Shoulders', 'Forearms']\", \"['Shoulders', 'Triceps', 'Core', 'Upper Back', 'Neck']\", \"['Triceps', 'Pecs', 'Shoulder Stabilizers', 'Upper Back Muscles']\", \"['Gastrocnemius']\", \"['Lower Back']\", \"['Serratus Anterior', 'Upper Back']\", \"['Quadriceps', 'Erectors', 'Adductor Magnus', 'Lats', 'Abs']\", \"['Hamstrings', 'Adductors', 'Abductors', 'Core muscles']\", \"['Shoulders', 'Triceps']\", \"['Biceps brachii', 'Brachialis', 'Brachioradialis', 'Rhomboids', 'Infraspinatus']\", \"['abs', 'obliques']\", \"['Posterior Deltoids', 'Upper Back Muscles']\", \"['Rhomboid Major', 'Rhomboid Minor']\", \"['Teres Minor', 'Shoulders', 'Triceps', 'Core']\", \"['core', 'upper body']\", \"['Upper Pectoralis', 'Trapezius', 'Serratus Anterior', 'Lateral Deltoid']\", \"['Tibialis Anterior', 'Soleus']\", \"['Shoulders', 'Core']\", \"['Anterior Deltoid', 'Triceps']\", \"['Quadriceps', 'Erectors', 'Trapezius', 'Rhomboids', 'Deltoids', 'Abdominals']\", \"['Triceps Brachii']\", \"['Lower leg', 'Core']\", \"['hip flexors', 'outer thighs']\", \"['Deltoids', 'Triceps']\", \"['Biceps', 'Shoulders']\", \"['Grip Muscles', 'Wrist Extensors']\", \"['Anterior Deltoids', 'Triceps']\", \"['Triceps', 'Upper Pectorals']\", \"['Abs', 'Back']\", \"['arms', 'shoulders', 'abs', 'core']\", \"['Lateral Deltoids', 'Trapezius', 'Upper Chest']\", \"['Calves', 'Gluteus Maximus', 'Gastrocnemius']\", \"['none']\", \"['glutes', 'deep core muscles', 'calf muscles']\", \"['Brachialis']\", \"['Calves', 'Glutes']\", \"['Traps']\", \"['Upper Back', 'Lower Traps', 'Abs', 'Upper Chest']\", \"['Biceps', 'Rear Deltoids']\", \"['biceps', 'triceps', 'forearm muscles']\", \"['Core']\", \"['Infraspinatus', 'Teres Minor']\", \"['Upper Chest', 'Trapezius', 'Biceps']\", \"['Chest', 'Shoulders', 'Teres major', 'Forearms', 'Core', 'Erector spinae', 'Hip flexors']\", \"['Anterior Deltoid', 'Triceps Brachii']\", \"['Brachioradialis', 'Forearm muscles']\", \"['Brachioradialis', 'Branchialis', 'Forearm muscles']\", \"['Brachialis', 'Brachioradialis', 'Wrist flexors', 'Obliques', 'Rectus abdominis']\", \"['Triceps', 'Trapezius', 'Rotator cuff muscles', 'Levator scapulae', 'Upper back']\", \"['Hamstrings', 'Core']\", \"['Biceps Brachii']\", \"['quads', 'hamstrings', 'core muscles']\", \"['Back', 'Core', 'Shoulders', 'Arms']\", \"['Lats', 'Upper Back', 'Calves', 'Adductor Magnus']\", \"['external obliques', 'serratus anterior', 'rectus abdominis']\", \"['Forearm Flexors', 'Triceps']\", \"['Adductors', 'Calves', 'Quadriceps']\", \"['Chest']\", \"['core', 'spinal erectors', 'forearms', 'shoulders', 'upper back']\", \"['abs', 'lower back']\", \"['Quadriceps', 'Trapezius', 'Rectus Abdominis', 'Obliques', 'Adductors', 'Multifidus']\", \"['Hamstrings', 'Calves', 'Glutes', 'Core', 'Adductors']\", \"['biceps', 'triceps', 'quadriceps', 'hamstrings', 'calves', 'lower back', 'obliques', 'transverse abdominis', 'rectus abdominis', 'chest']\", \"['Hamstrings', 'Inner thighs', 'Upper back']\", \"['Hips', 'Thighs', 'Legs']\", \"['chest', 'shoulders']\", \"['Trapezius', 'Triceps', 'Upper Chest']\", \"['Chest', 'Shoulders']\", \"['Traps', 'Triceps', 'Upper Trapezius']\", \"['Triceps', 'Shoulders']\", \"['Deltoids', 'Triceps', 'Biceps', 'Serratus Anterior', 'Shoulders', 'Arms']\", \"['Anterior deltoids', 'Biceps']\", \"['Upper Back', 'External Oblique', 'Arm Muscles', 'Grip Muscles']\", \"['core muscles']\", \"['Calves', 'Core', 'Forearms', 'Lats', 'Traps']\", \"['Adductors', 'Abductors', 'Spinal Erectors', 'Back Muscles']\", \"['Arms', 'Triceps', 'Chest']\", \"['Brachialis', 'Brachioradialis']\", \"['Hip Flexors']\", \"['Core', 'Triceps', 'Anterior Deltoids']\", \"['Upper Back', 'Lats', 'Calves']\", \"['Glutes', 'Hamstrings', 'Hip Flexors']\", \"['Traps', 'Triceps', 'Biceps', 'Back', 'Chest']\", \"['Trapezius', 'Serratus Anterior']\", \"['Wrist Extensor']\", \"['Brachialis', 'Forearms', 'Elbow flexors']\", \"['Gluteus Maximus', 'Hamstrings', 'Lower Back Muscles']\", \"['Lower Trapezius']\", \"['adductor longus', 'adductor brevis', 'adductor magnus', 'core']\", \"['Glutes', 'Lower Back', 'Core']\", \"['Hamstrings', 'Calves']\", \"['Biceps', 'Forearms', 'Upper back', 'Teres Minor']\", \"['Core', 'Posterior oblique sling', 'Abdominals', 'Hamstrings']\", \"['Abs', 'Biceps', 'Forearms', 'Upper Back']\", \"['Hamstrings', 'Quadriceps', 'Adductors', 'Core']\", \"['Triceps', 'Core']\", \"['Biceps Brachii', 'Triceps', 'Deltoids']\", \"['Triceps']\", \"['Brachialis', 'Brachioradialis', 'Forearm']\", \"['Chest', 'Shoulders', 'Upper back']\", \"['Brachialis', 'Triceps']\", \"['Erector Spinae']\", \"['Traps', 'Triceps', 'Abs', 'Obliques']\", \"['Anterior Deltoids', 'Glutes', 'Abdominal muscles']\", \"['abs', 'triceps', 'lower back', 'shoulders', 'core']\", \"['Hamstrings', 'Calves', 'Core musculature']\", \"['Shoulders']\", \"['Biceps']\", \"['calf muscles', 'ankle stabilizers']\", \"['Brachialis', 'Brachioradialis', 'Forearm flexors and extensors']\", \"['hamstrings', 'calves', 'stabilizing muscles']\", \"['Shoulders', 'Teres major', 'Forearms', 'Core', 'Erector spinae', 'Hip flexors']\", \"['core', 'stabilizing muscles']\", \"['Adductors', 'Postural muscles']\", \"['Posterior Deltoids']\", \"['Back', 'Biceps', 'Obliques', 'Anterior deltoids']\", \"['rhomboids', 'traps', 'rear deltoids', 'quadriceps', 'hamstrings', 'calves', 'abdominals', 'lower back', 'shoulders', 'arms']\", \"['Shoulder stabilizers']\", \"['forearms']\", \"['Shoulders', 'Arms']\", \"['Biceps', 'Core']\", \"['Lateral Deltoids']\", \"['Back', 'Arms', 'Hands', 'Abs', 'Chest', 'Scapular']\", \"['Deltoids', 'Rhomboids', 'Lower Back', 'Forearms']\", \"['Calf Muscles', 'Core Muscles']\"]\n",
      "\n",
      "you are in call model \n"
     ]
    },
    {
     "ename": "ValueError",
     "evalue": "{'message': 'Internal Server Error', 'code': 500}",
     "output_type": "error",
     "traceback": [
      "\u001b[1;31m---------------------------------------------------------------------------\u001b[0m",
      "\u001b[1;31mValueError\u001b[0m                                Traceback (most recent call last)",
      "Cell \u001b[1;32mIn[342], line 2\u001b[0m\n\u001b[0;32m      1\u001b[0m inputs \u001b[38;5;241m=\u001b[39m {\u001b[38;5;124m\"\u001b[39m\u001b[38;5;124mmessages\u001b[39m\u001b[38;5;124m\"\u001b[39m: [(\u001b[38;5;124m\"\u001b[39m\u001b[38;5;124muser\u001b[39m\u001b[38;5;124m\"\u001b[39m, INITIAL_PROMPT)]}\n\u001b[1;32m----> 2\u001b[0m \u001b[43mprint_stream\u001b[49m\u001b[43m(\u001b[49m\u001b[43mgraph\u001b[49m\u001b[38;5;241;43m.\u001b[39;49m\u001b[43mstream\u001b[49m\u001b[43m(\u001b[49m\u001b[43minputs\u001b[49m\u001b[43m,\u001b[49m\u001b[43m \u001b[49m\u001b[43mconfig\u001b[49m\u001b[43m,\u001b[49m\u001b[43m \u001b[49m\u001b[43mstream_mode\u001b[49m\u001b[38;5;241;43m=\u001b[39;49m\u001b[38;5;124;43m\"\u001b[39;49m\u001b[38;5;124;43mvalues\u001b[39;49m\u001b[38;5;124;43m\"\u001b[39;49m\u001b[43m)\u001b[49m\u001b[43m)\u001b[49m\n\u001b[0;32m      3\u001b[0m \u001b[38;5;66;03m# Start chatbot\u001b[39;00m\n",
      "Cell \u001b[1;32mIn[318], line 2\u001b[0m, in \u001b[0;36mprint_stream\u001b[1;34m(stream)\u001b[0m\n\u001b[0;32m      1\u001b[0m \u001b[38;5;28;01mdef\u001b[39;00m \u001b[38;5;21mprint_stream\u001b[39m(stream):\n\u001b[1;32m----> 2\u001b[0m     \u001b[38;5;28;01mfor\u001b[39;00m s \u001b[38;5;129;01min\u001b[39;00m stream:\n\u001b[0;32m      3\u001b[0m         message \u001b[38;5;241m=\u001b[39m s[\u001b[38;5;124m\"\u001b[39m\u001b[38;5;124mmessages\u001b[39m\u001b[38;5;124m\"\u001b[39m][\u001b[38;5;241m-\u001b[39m\u001b[38;5;241m1\u001b[39m]\n\u001b[0;32m      4\u001b[0m         message\u001b[38;5;241m.\u001b[39mpretty_print()\n",
      "File \u001b[1;32mc:\\Users\\Hossa\\miniconda3\\envs\\py310\\lib\\site-packages\\langgraph\\pregel\\__init__.py:1273\u001b[0m, in \u001b[0;36mPregel.stream\u001b[1;34m(self, input, config, stream_mode, output_keys, interrupt_before, interrupt_after, debug, subgraphs)\u001b[0m\n\u001b[0;32m   1262\u001b[0m     \u001b[38;5;66;03m# Similarly to Bulk Synchronous Parallel / Pregel model\u001b[39;00m\n\u001b[0;32m   1263\u001b[0m     \u001b[38;5;66;03m# computation proceeds in steps, while there are channel updates\u001b[39;00m\n\u001b[0;32m   1264\u001b[0m     \u001b[38;5;66;03m# channel updates from step N are only visible in step N+1\u001b[39;00m\n\u001b[0;32m   1265\u001b[0m     \u001b[38;5;66;03m# channels are guaranteed to be immutable for the duration of the step,\u001b[39;00m\n\u001b[0;32m   1266\u001b[0m     \u001b[38;5;66;03m# with channel updates applied only at the transition between steps\u001b[39;00m\n\u001b[0;32m   1267\u001b[0m     \u001b[38;5;28;01mwhile\u001b[39;00m loop\u001b[38;5;241m.\u001b[39mtick(\n\u001b[0;32m   1268\u001b[0m         input_keys\u001b[38;5;241m=\u001b[39m\u001b[38;5;28mself\u001b[39m\u001b[38;5;241m.\u001b[39minput_channels,\n\u001b[0;32m   1269\u001b[0m         interrupt_before\u001b[38;5;241m=\u001b[39minterrupt_before_,\n\u001b[0;32m   1270\u001b[0m         interrupt_after\u001b[38;5;241m=\u001b[39minterrupt_after_,\n\u001b[0;32m   1271\u001b[0m         manager\u001b[38;5;241m=\u001b[39mrun_manager,\n\u001b[0;32m   1272\u001b[0m     ):\n\u001b[1;32m-> 1273\u001b[0m         \u001b[38;5;28;01mfor\u001b[39;00m _ \u001b[38;5;129;01min\u001b[39;00m runner\u001b[38;5;241m.\u001b[39mtick(\n\u001b[0;32m   1274\u001b[0m             loop\u001b[38;5;241m.\u001b[39mtasks\u001b[38;5;241m.\u001b[39mvalues(),\n\u001b[0;32m   1275\u001b[0m             timeout\u001b[38;5;241m=\u001b[39m\u001b[38;5;28mself\u001b[39m\u001b[38;5;241m.\u001b[39mstep_timeout,\n\u001b[0;32m   1276\u001b[0m             retry_policy\u001b[38;5;241m=\u001b[39m\u001b[38;5;28mself\u001b[39m\u001b[38;5;241m.\u001b[39mretry_policy,\n\u001b[0;32m   1277\u001b[0m             get_waiter\u001b[38;5;241m=\u001b[39mget_waiter,\n\u001b[0;32m   1278\u001b[0m         ):\n\u001b[0;32m   1279\u001b[0m             \u001b[38;5;66;03m# emit output\u001b[39;00m\n\u001b[0;32m   1280\u001b[0m             \u001b[38;5;28;01myield from\u001b[39;00m output()\n\u001b[0;32m   1281\u001b[0m \u001b[38;5;66;03m# emit output\u001b[39;00m\n",
      "File \u001b[1;32mc:\\Users\\Hossa\\miniconda3\\envs\\py310\\lib\\site-packages\\langgraph\\pregel\\runner.py:56\u001b[0m, in \u001b[0;36mPregelRunner.tick\u001b[1;34m(self, tasks, reraise, timeout, retry_policy, get_waiter)\u001b[0m\n\u001b[0;32m     54\u001b[0m t \u001b[38;5;241m=\u001b[39m tasks[\u001b[38;5;241m0\u001b[39m]\n\u001b[0;32m     55\u001b[0m \u001b[38;5;28;01mtry\u001b[39;00m:\n\u001b[1;32m---> 56\u001b[0m     \u001b[43mrun_with_retry\u001b[49m\u001b[43m(\u001b[49m\u001b[43mt\u001b[49m\u001b[43m,\u001b[49m\u001b[43m \u001b[49m\u001b[43mretry_policy\u001b[49m\u001b[43m)\u001b[49m\n\u001b[0;32m     57\u001b[0m     \u001b[38;5;28mself\u001b[39m\u001b[38;5;241m.\u001b[39mcommit(t, \u001b[38;5;28;01mNone\u001b[39;00m)\n\u001b[0;32m     58\u001b[0m \u001b[38;5;28;01mexcept\u001b[39;00m \u001b[38;5;167;01mException\u001b[39;00m \u001b[38;5;28;01mas\u001b[39;00m exc:\n",
      "File \u001b[1;32mc:\\Users\\Hossa\\miniconda3\\envs\\py310\\lib\\site-packages\\langgraph\\pregel\\retry.py:29\u001b[0m, in \u001b[0;36mrun_with_retry\u001b[1;34m(task, retry_policy)\u001b[0m\n\u001b[0;32m     27\u001b[0m task\u001b[38;5;241m.\u001b[39mwrites\u001b[38;5;241m.\u001b[39mclear()\n\u001b[0;32m     28\u001b[0m \u001b[38;5;66;03m# run the task\u001b[39;00m\n\u001b[1;32m---> 29\u001b[0m \u001b[43mtask\u001b[49m\u001b[38;5;241;43m.\u001b[39;49m\u001b[43mproc\u001b[49m\u001b[38;5;241;43m.\u001b[39;49m\u001b[43minvoke\u001b[49m\u001b[43m(\u001b[49m\u001b[43mtask\u001b[49m\u001b[38;5;241;43m.\u001b[39;49m\u001b[43minput\u001b[49m\u001b[43m,\u001b[49m\u001b[43m \u001b[49m\u001b[43mconfig\u001b[49m\u001b[43m)\u001b[49m\n\u001b[0;32m     30\u001b[0m \u001b[38;5;66;03m# if successful, end\u001b[39;00m\n\u001b[0;32m     31\u001b[0m \u001b[38;5;28;01mbreak\u001b[39;00m\n",
      "File \u001b[1;32mc:\\Users\\Hossa\\miniconda3\\envs\\py310\\lib\\site-packages\\langgraph\\utils\\runnable.py:410\u001b[0m, in \u001b[0;36mRunnableSeq.invoke\u001b[1;34m(self, input, config, **kwargs)\u001b[0m\n\u001b[0;32m    408\u001b[0m context\u001b[38;5;241m.\u001b[39mrun(_set_config_context, config)\n\u001b[0;32m    409\u001b[0m \u001b[38;5;28;01mif\u001b[39;00m i \u001b[38;5;241m==\u001b[39m \u001b[38;5;241m0\u001b[39m:\n\u001b[1;32m--> 410\u001b[0m     \u001b[38;5;28minput\u001b[39m \u001b[38;5;241m=\u001b[39m context\u001b[38;5;241m.\u001b[39mrun(step\u001b[38;5;241m.\u001b[39minvoke, \u001b[38;5;28minput\u001b[39m, config, \u001b[38;5;241m*\u001b[39m\u001b[38;5;241m*\u001b[39mkwargs)\n\u001b[0;32m    411\u001b[0m \u001b[38;5;28;01melse\u001b[39;00m:\n\u001b[0;32m    412\u001b[0m     \u001b[38;5;28minput\u001b[39m \u001b[38;5;241m=\u001b[39m context\u001b[38;5;241m.\u001b[39mrun(step\u001b[38;5;241m.\u001b[39minvoke, \u001b[38;5;28minput\u001b[39m, config)\n",
      "File \u001b[1;32mc:\\Users\\Hossa\\miniconda3\\envs\\py310\\lib\\site-packages\\langgraph\\utils\\runnable.py:184\u001b[0m, in \u001b[0;36mRunnableCallable.invoke\u001b[1;34m(self, input, config, **kwargs)\u001b[0m\n\u001b[0;32m    182\u001b[0m \u001b[38;5;28;01melse\u001b[39;00m:\n\u001b[0;32m    183\u001b[0m     context\u001b[38;5;241m.\u001b[39mrun(_set_config_context, config)\n\u001b[1;32m--> 184\u001b[0m     ret \u001b[38;5;241m=\u001b[39m context\u001b[38;5;241m.\u001b[39mrun(\u001b[38;5;28mself\u001b[39m\u001b[38;5;241m.\u001b[39mfunc, \u001b[38;5;28minput\u001b[39m, \u001b[38;5;241m*\u001b[39m\u001b[38;5;241m*\u001b[39mkwargs)\n\u001b[0;32m    185\u001b[0m \u001b[38;5;28;01mif\u001b[39;00m \u001b[38;5;28misinstance\u001b[39m(ret, Runnable) \u001b[38;5;129;01mand\u001b[39;00m \u001b[38;5;28mself\u001b[39m\u001b[38;5;241m.\u001b[39mrecurse:\n\u001b[0;32m    186\u001b[0m     \u001b[38;5;28;01mreturn\u001b[39;00m ret\u001b[38;5;241m.\u001b[39minvoke(\u001b[38;5;28minput\u001b[39m, config)\n",
      "Cell \u001b[1;32mIn[335], line 15\u001b[0m, in \u001b[0;36mcall_model\u001b[1;34m(state)\u001b[0m\n\u001b[0;32m      8\u001b[0m     \u001b[38;5;28;01mif\u001b[39;00m \u001b[38;5;28misinstance\u001b[39m(msg, ToolMessage) \u001b[38;5;129;01mand\u001b[39;00m \u001b[38;5;129;01mnot\u001b[39;00m \u001b[38;5;28misinstance\u001b[39m(msg\u001b[38;5;241m.\u001b[39mcontent, \u001b[38;5;28mstr\u001b[39m):\n\u001b[0;32m      9\u001b[0m         messages[i] \u001b[38;5;241m=\u001b[39m ToolMessage(\n\u001b[0;32m     10\u001b[0m             tool_call_id\u001b[38;5;241m=\u001b[39mmsg\u001b[38;5;241m.\u001b[39mtool_call_id,\n\u001b[0;32m     11\u001b[0m             content\u001b[38;5;241m=\u001b[39mjson\u001b[38;5;241m.\u001b[39mdumps(msg\u001b[38;5;241m.\u001b[39mcontent)\n\u001b[0;32m     12\u001b[0m         )\n\u001b[1;32m---> 15\u001b[0m response \u001b[38;5;241m=\u001b[39m \u001b[43mllm\u001b[49m\u001b[38;5;241;43m.\u001b[39;49m\u001b[43minvoke\u001b[49m\u001b[43m(\u001b[49m\u001b[43mmessages\u001b[49m\u001b[43m)\u001b[49m\n\u001b[0;32m     16\u001b[0m \u001b[38;5;28;01mreturn\u001b[39;00m {\u001b[38;5;124m\"\u001b[39m\u001b[38;5;124mmessages\u001b[39m\u001b[38;5;124m\"\u001b[39m: [response]}\n",
      "File \u001b[1;32mc:\\Users\\Hossa\\miniconda3\\envs\\py310\\lib\\site-packages\\langchain_core\\runnables\\base.py:5354\u001b[0m, in \u001b[0;36mRunnableBindingBase.invoke\u001b[1;34m(self, input, config, **kwargs)\u001b[0m\n\u001b[0;32m   5348\u001b[0m \u001b[38;5;28;01mdef\u001b[39;00m \u001b[38;5;21minvoke\u001b[39m(\n\u001b[0;32m   5349\u001b[0m     \u001b[38;5;28mself\u001b[39m,\n\u001b[0;32m   5350\u001b[0m     \u001b[38;5;28minput\u001b[39m: Input,\n\u001b[0;32m   5351\u001b[0m     config: Optional[RunnableConfig] \u001b[38;5;241m=\u001b[39m \u001b[38;5;28;01mNone\u001b[39;00m,\n\u001b[0;32m   5352\u001b[0m     \u001b[38;5;241m*\u001b[39m\u001b[38;5;241m*\u001b[39mkwargs: Optional[Any],\n\u001b[0;32m   5353\u001b[0m ) \u001b[38;5;241m-\u001b[39m\u001b[38;5;241m>\u001b[39m Output:\n\u001b[1;32m-> 5354\u001b[0m     \u001b[38;5;28;01mreturn\u001b[39;00m \u001b[38;5;28mself\u001b[39m\u001b[38;5;241m.\u001b[39mbound\u001b[38;5;241m.\u001b[39minvoke(\n\u001b[0;32m   5355\u001b[0m         \u001b[38;5;28minput\u001b[39m,\n\u001b[0;32m   5356\u001b[0m         \u001b[38;5;28mself\u001b[39m\u001b[38;5;241m.\u001b[39m_merge_configs(config),\n\u001b[0;32m   5357\u001b[0m         \u001b[38;5;241m*\u001b[39m\u001b[38;5;241m*\u001b[39m{\u001b[38;5;241m*\u001b[39m\u001b[38;5;241m*\u001b[39m\u001b[38;5;28mself\u001b[39m\u001b[38;5;241m.\u001b[39mkwargs, \u001b[38;5;241m*\u001b[39m\u001b[38;5;241m*\u001b[39mkwargs},\n\u001b[0;32m   5358\u001b[0m     )\n",
      "File \u001b[1;32mc:\\Users\\Hossa\\miniconda3\\envs\\py310\\lib\\site-packages\\langchain_core\\language_models\\chat_models.py:286\u001b[0m, in \u001b[0;36mBaseChatModel.invoke\u001b[1;34m(self, input, config, stop, **kwargs)\u001b[0m\n\u001b[0;32m    275\u001b[0m \u001b[38;5;28;01mdef\u001b[39;00m \u001b[38;5;21minvoke\u001b[39m(\n\u001b[0;32m    276\u001b[0m     \u001b[38;5;28mself\u001b[39m,\n\u001b[0;32m    277\u001b[0m     \u001b[38;5;28minput\u001b[39m: LanguageModelInput,\n\u001b[1;32m   (...)\u001b[0m\n\u001b[0;32m    281\u001b[0m     \u001b[38;5;241m*\u001b[39m\u001b[38;5;241m*\u001b[39mkwargs: Any,\n\u001b[0;32m    282\u001b[0m ) \u001b[38;5;241m-\u001b[39m\u001b[38;5;241m>\u001b[39m BaseMessage:\n\u001b[0;32m    283\u001b[0m     config \u001b[38;5;241m=\u001b[39m ensure_config(config)\n\u001b[0;32m    284\u001b[0m     \u001b[38;5;28;01mreturn\u001b[39;00m cast(\n\u001b[0;32m    285\u001b[0m         ChatGeneration,\n\u001b[1;32m--> 286\u001b[0m         \u001b[38;5;28mself\u001b[39m\u001b[38;5;241m.\u001b[39mgenerate_prompt(\n\u001b[0;32m    287\u001b[0m             [\u001b[38;5;28mself\u001b[39m\u001b[38;5;241m.\u001b[39m_convert_input(\u001b[38;5;28minput\u001b[39m)],\n\u001b[0;32m    288\u001b[0m             stop\u001b[38;5;241m=\u001b[39mstop,\n\u001b[0;32m    289\u001b[0m             callbacks\u001b[38;5;241m=\u001b[39mconfig\u001b[38;5;241m.\u001b[39mget(\u001b[38;5;124m\"\u001b[39m\u001b[38;5;124mcallbacks\u001b[39m\u001b[38;5;124m\"\u001b[39m),\n\u001b[0;32m    290\u001b[0m             tags\u001b[38;5;241m=\u001b[39mconfig\u001b[38;5;241m.\u001b[39mget(\u001b[38;5;124m\"\u001b[39m\u001b[38;5;124mtags\u001b[39m\u001b[38;5;124m\"\u001b[39m),\n\u001b[0;32m    291\u001b[0m             metadata\u001b[38;5;241m=\u001b[39mconfig\u001b[38;5;241m.\u001b[39mget(\u001b[38;5;124m\"\u001b[39m\u001b[38;5;124mmetadata\u001b[39m\u001b[38;5;124m\"\u001b[39m),\n\u001b[0;32m    292\u001b[0m             run_name\u001b[38;5;241m=\u001b[39mconfig\u001b[38;5;241m.\u001b[39mget(\u001b[38;5;124m\"\u001b[39m\u001b[38;5;124mrun_name\u001b[39m\u001b[38;5;124m\"\u001b[39m),\n\u001b[0;32m    293\u001b[0m             run_id\u001b[38;5;241m=\u001b[39mconfig\u001b[38;5;241m.\u001b[39mpop(\u001b[38;5;124m\"\u001b[39m\u001b[38;5;124mrun_id\u001b[39m\u001b[38;5;124m\"\u001b[39m, \u001b[38;5;28;01mNone\u001b[39;00m),\n\u001b[0;32m    294\u001b[0m             \u001b[38;5;241m*\u001b[39m\u001b[38;5;241m*\u001b[39mkwargs,\n\u001b[0;32m    295\u001b[0m         )\u001b[38;5;241m.\u001b[39mgenerations[\u001b[38;5;241m0\u001b[39m][\u001b[38;5;241m0\u001b[39m],\n\u001b[0;32m    296\u001b[0m     )\u001b[38;5;241m.\u001b[39mmessage\n",
      "File \u001b[1;32mc:\\Users\\Hossa\\miniconda3\\envs\\py310\\lib\\site-packages\\langchain_core\\language_models\\chat_models.py:786\u001b[0m, in \u001b[0;36mBaseChatModel.generate_prompt\u001b[1;34m(self, prompts, stop, callbacks, **kwargs)\u001b[0m\n\u001b[0;32m    778\u001b[0m \u001b[38;5;28;01mdef\u001b[39;00m \u001b[38;5;21mgenerate_prompt\u001b[39m(\n\u001b[0;32m    779\u001b[0m     \u001b[38;5;28mself\u001b[39m,\n\u001b[0;32m    780\u001b[0m     prompts: \u001b[38;5;28mlist\u001b[39m[PromptValue],\n\u001b[1;32m   (...)\u001b[0m\n\u001b[0;32m    783\u001b[0m     \u001b[38;5;241m*\u001b[39m\u001b[38;5;241m*\u001b[39mkwargs: Any,\n\u001b[0;32m    784\u001b[0m ) \u001b[38;5;241m-\u001b[39m\u001b[38;5;241m>\u001b[39m LLMResult:\n\u001b[0;32m    785\u001b[0m     prompt_messages \u001b[38;5;241m=\u001b[39m [p\u001b[38;5;241m.\u001b[39mto_messages() \u001b[38;5;28;01mfor\u001b[39;00m p \u001b[38;5;129;01min\u001b[39;00m prompts]\n\u001b[1;32m--> 786\u001b[0m     \u001b[38;5;28;01mreturn\u001b[39;00m \u001b[38;5;28mself\u001b[39m\u001b[38;5;241m.\u001b[39mgenerate(prompt_messages, stop\u001b[38;5;241m=\u001b[39mstop, callbacks\u001b[38;5;241m=\u001b[39mcallbacks, \u001b[38;5;241m*\u001b[39m\u001b[38;5;241m*\u001b[39mkwargs)\n",
      "File \u001b[1;32mc:\\Users\\Hossa\\miniconda3\\envs\\py310\\lib\\site-packages\\langchain_core\\language_models\\chat_models.py:643\u001b[0m, in \u001b[0;36mBaseChatModel.generate\u001b[1;34m(self, messages, stop, callbacks, tags, metadata, run_name, run_id, **kwargs)\u001b[0m\n\u001b[0;32m    641\u001b[0m         \u001b[38;5;28;01mif\u001b[39;00m run_managers:\n\u001b[0;32m    642\u001b[0m             run_managers[i]\u001b[38;5;241m.\u001b[39mon_llm_error(e, response\u001b[38;5;241m=\u001b[39mLLMResult(generations\u001b[38;5;241m=\u001b[39m[]))\n\u001b[1;32m--> 643\u001b[0m         \u001b[38;5;28;01mraise\u001b[39;00m e\n\u001b[0;32m    644\u001b[0m flattened_outputs \u001b[38;5;241m=\u001b[39m [\n\u001b[0;32m    645\u001b[0m     LLMResult(generations\u001b[38;5;241m=\u001b[39m[res\u001b[38;5;241m.\u001b[39mgenerations], llm_output\u001b[38;5;241m=\u001b[39mres\u001b[38;5;241m.\u001b[39mllm_output)  \u001b[38;5;66;03m# type: ignore[list-item]\u001b[39;00m\n\u001b[0;32m    646\u001b[0m     \u001b[38;5;28;01mfor\u001b[39;00m res \u001b[38;5;129;01min\u001b[39;00m results\n\u001b[0;32m    647\u001b[0m ]\n\u001b[0;32m    648\u001b[0m llm_output \u001b[38;5;241m=\u001b[39m \u001b[38;5;28mself\u001b[39m\u001b[38;5;241m.\u001b[39m_combine_llm_outputs([res\u001b[38;5;241m.\u001b[39mllm_output \u001b[38;5;28;01mfor\u001b[39;00m res \u001b[38;5;129;01min\u001b[39;00m results])\n",
      "File \u001b[1;32mc:\\Users\\Hossa\\miniconda3\\envs\\py310\\lib\\site-packages\\langchain_core\\language_models\\chat_models.py:633\u001b[0m, in \u001b[0;36mBaseChatModel.generate\u001b[1;34m(self, messages, stop, callbacks, tags, metadata, run_name, run_id, **kwargs)\u001b[0m\n\u001b[0;32m    630\u001b[0m \u001b[38;5;28;01mfor\u001b[39;00m i, m \u001b[38;5;129;01min\u001b[39;00m \u001b[38;5;28menumerate\u001b[39m(messages):\n\u001b[0;32m    631\u001b[0m     \u001b[38;5;28;01mtry\u001b[39;00m:\n\u001b[0;32m    632\u001b[0m         results\u001b[38;5;241m.\u001b[39mappend(\n\u001b[1;32m--> 633\u001b[0m             \u001b[38;5;28mself\u001b[39m\u001b[38;5;241m.\u001b[39m_generate_with_cache(\n\u001b[0;32m    634\u001b[0m                 m,\n\u001b[0;32m    635\u001b[0m                 stop\u001b[38;5;241m=\u001b[39mstop,\n\u001b[0;32m    636\u001b[0m                 run_manager\u001b[38;5;241m=\u001b[39mrun_managers[i] \u001b[38;5;28;01mif\u001b[39;00m run_managers \u001b[38;5;28;01melse\u001b[39;00m \u001b[38;5;28;01mNone\u001b[39;00m,\n\u001b[0;32m    637\u001b[0m                 \u001b[38;5;241m*\u001b[39m\u001b[38;5;241m*\u001b[39mkwargs,\n\u001b[0;32m    638\u001b[0m             )\n\u001b[0;32m    639\u001b[0m         )\n\u001b[0;32m    640\u001b[0m     \u001b[38;5;28;01mexcept\u001b[39;00m \u001b[38;5;167;01mBaseException\u001b[39;00m \u001b[38;5;28;01mas\u001b[39;00m e:\n\u001b[0;32m    641\u001b[0m         \u001b[38;5;28;01mif\u001b[39;00m run_managers:\n",
      "File \u001b[1;32mc:\\Users\\Hossa\\miniconda3\\envs\\py310\\lib\\site-packages\\langchain_core\\language_models\\chat_models.py:851\u001b[0m, in \u001b[0;36mBaseChatModel._generate_with_cache\u001b[1;34m(self, messages, stop, run_manager, **kwargs)\u001b[0m\n\u001b[0;32m    849\u001b[0m \u001b[38;5;28;01melse\u001b[39;00m:\n\u001b[0;32m    850\u001b[0m     \u001b[38;5;28;01mif\u001b[39;00m inspect\u001b[38;5;241m.\u001b[39msignature(\u001b[38;5;28mself\u001b[39m\u001b[38;5;241m.\u001b[39m_generate)\u001b[38;5;241m.\u001b[39mparameters\u001b[38;5;241m.\u001b[39mget(\u001b[38;5;124m\"\u001b[39m\u001b[38;5;124mrun_manager\u001b[39m\u001b[38;5;124m\"\u001b[39m):\n\u001b[1;32m--> 851\u001b[0m         result \u001b[38;5;241m=\u001b[39m \u001b[38;5;28mself\u001b[39m\u001b[38;5;241m.\u001b[39m_generate(\n\u001b[0;32m    852\u001b[0m             messages, stop\u001b[38;5;241m=\u001b[39mstop, run_manager\u001b[38;5;241m=\u001b[39mrun_manager, \u001b[38;5;241m*\u001b[39m\u001b[38;5;241m*\u001b[39mkwargs\n\u001b[0;32m    853\u001b[0m         )\n\u001b[0;32m    854\u001b[0m     \u001b[38;5;28;01melse\u001b[39;00m:\n\u001b[0;32m    855\u001b[0m         result \u001b[38;5;241m=\u001b[39m \u001b[38;5;28mself\u001b[39m\u001b[38;5;241m.\u001b[39m_generate(messages, stop\u001b[38;5;241m=\u001b[39mstop, \u001b[38;5;241m*\u001b[39m\u001b[38;5;241m*\u001b[39mkwargs)\n",
      "File \u001b[1;32mc:\\Users\\Hossa\\miniconda3\\envs\\py310\\lib\\site-packages\\langchain_openai\\chat_models\\base.py:689\u001b[0m, in \u001b[0;36mBaseChatOpenAI._generate\u001b[1;34m(self, messages, stop, run_manager, **kwargs)\u001b[0m\n\u001b[0;32m    687\u001b[0m \u001b[38;5;28;01melse\u001b[39;00m:\n\u001b[0;32m    688\u001b[0m     response \u001b[38;5;241m=\u001b[39m \u001b[38;5;28mself\u001b[39m\u001b[38;5;241m.\u001b[39mclient\u001b[38;5;241m.\u001b[39mcreate(\u001b[38;5;241m*\u001b[39m\u001b[38;5;241m*\u001b[39mpayload)\n\u001b[1;32m--> 689\u001b[0m \u001b[38;5;28;01mreturn\u001b[39;00m \u001b[38;5;28;43mself\u001b[39;49m\u001b[38;5;241;43m.\u001b[39;49m\u001b[43m_create_chat_result\u001b[49m\u001b[43m(\u001b[49m\u001b[43mresponse\u001b[49m\u001b[43m,\u001b[49m\u001b[43m \u001b[49m\u001b[43mgeneration_info\u001b[49m\u001b[43m)\u001b[49m\n",
      "File \u001b[1;32mc:\\Users\\Hossa\\miniconda3\\envs\\py310\\lib\\site-packages\\langchain_openai\\chat_models\\base.py:722\u001b[0m, in \u001b[0;36mBaseChatOpenAI._create_chat_result\u001b[1;34m(self, response, generation_info)\u001b[0m\n\u001b[0;32m    717\u001b[0m \u001b[38;5;66;03m# Sometimes the AI Model calling will get error, we should raise it.\u001b[39;00m\n\u001b[0;32m    718\u001b[0m \u001b[38;5;66;03m# Otherwise, the next code 'choices.extend(response[\"choices\"])'\u001b[39;00m\n\u001b[0;32m    719\u001b[0m \u001b[38;5;66;03m# will throw a \"TypeError: 'NoneType' object is not iterable\" error\u001b[39;00m\n\u001b[0;32m    720\u001b[0m \u001b[38;5;66;03m# to mask the true error. Because 'response[\"choices\"]' is None.\u001b[39;00m\n\u001b[0;32m    721\u001b[0m \u001b[38;5;28;01mif\u001b[39;00m response_dict\u001b[38;5;241m.\u001b[39mget(\u001b[38;5;124m\"\u001b[39m\u001b[38;5;124merror\u001b[39m\u001b[38;5;124m\"\u001b[39m):\n\u001b[1;32m--> 722\u001b[0m     \u001b[38;5;28;01mraise\u001b[39;00m \u001b[38;5;167;01mValueError\u001b[39;00m(response_dict\u001b[38;5;241m.\u001b[39mget(\u001b[38;5;124m\"\u001b[39m\u001b[38;5;124merror\u001b[39m\u001b[38;5;124m\"\u001b[39m))\n\u001b[0;32m    724\u001b[0m token_usage \u001b[38;5;241m=\u001b[39m response_dict\u001b[38;5;241m.\u001b[39mget(\u001b[38;5;124m\"\u001b[39m\u001b[38;5;124musage\u001b[39m\u001b[38;5;124m\"\u001b[39m, {})\n\u001b[0;32m    725\u001b[0m \u001b[38;5;28;01mfor\u001b[39;00m res \u001b[38;5;129;01min\u001b[39;00m response_dict[\u001b[38;5;124m\"\u001b[39m\u001b[38;5;124mchoices\u001b[39m\u001b[38;5;124m\"\u001b[39m]:\n",
      "\u001b[1;31mValueError\u001b[0m: {'message': 'Internal Server Error', 'code': 500}"
     ]
    }
   ],
   "source": [
    "inputs = {\"messages\": [(\"user\", INITIAL_PROMPT)]}\n",
    "print_stream(graph.stream(inputs, config, stream_mode=\"values\"))\n",
    "# Start chatbot\n"
   ]
  },
  {
   "cell_type": "code",
   "execution_count": null,
   "metadata": {},
   "outputs": [
    {
     "data": {
      "text/plain": [
       "'Found these exercises:\\n1. Kickbacks (Dumbbell or Cable)\\n2. Farmer’s Carry'"
      ]
     },
     "execution_count": 296,
     "metadata": {},
     "output_type": "execute_result"
    }
   ],
   "source": [
    "get_exercises.invoke({\"body_part\": \"Arm\", \"primary_muscles\": \"Quadriceps\", \"secondary_muscles\": \"Hamstrings\"})"
   ]
  },
  {
   "cell_type": "code",
   "execution_count": null,
   "metadata": {},
   "outputs": [],
   "source": [
    "\n",
    "\n",
    "# while True:\n",
    "#     user_input = input(\"User: \")\n",
    "#     inputs = {\"messages\": [(\"user\", user_input)]}\n",
    "#     print_stream(graph.stream(inputs, config, stream_mode=\"values\"))"
   ]
  },
  {
   "cell_type": "code",
   "execution_count": null,
   "metadata": {},
   "outputs": [
    {
     "ename": "KeyError",
     "evalue": "'summary_plan'",
     "output_type": "error",
     "traceback": [
      "\u001b[1;31m---------------------------------------------------------------------------\u001b[0m",
      "\u001b[1;31mKeyError\u001b[0m                                  Traceback (most recent call last)",
      "Cell \u001b[1;32mIn[298], line 1\u001b[0m\n\u001b[1;32m----> 1\u001b[0m \u001b[43mgraph\u001b[49m\u001b[38;5;241;43m.\u001b[39;49m\u001b[43mget_state\u001b[49m\u001b[43m(\u001b[49m\u001b[43mconfig\u001b[49m\u001b[43m)\u001b[49m\u001b[38;5;241;43m.\u001b[39;49m\u001b[43mvalues\u001b[49m\u001b[43m[\u001b[49m\u001b[38;5;124;43m\"\u001b[39;49m\u001b[38;5;124;43msummary_plan\u001b[39;49m\u001b[38;5;124;43m\"\u001b[39;49m\u001b[43m]\u001b[49m\u001b[38;5;241m.\u001b[39mcontent\n",
      "\u001b[1;31mKeyError\u001b[0m: 'summary_plan'"
     ]
    }
   ],
   "source": [
    "graph.get_state(config).values[\"summary_plan\"].content"
   ]
  },
  {
   "cell_type": "code",
   "execution_count": null,
   "metadata": {},
   "outputs": [
    {
     "data": {
      "text/plain": [
       "CompletedProcess(args=['C:\\\\Users\\\\Hossa\\\\AppData\\\\Local\\\\Programs\\\\MiKTeX\\\\miktex\\\\bin\\\\x64\\\\pdflatex.exe', 'output.tex'], returncode=0)"
      ]
     },
     "execution_count": 26,
     "metadata": {},
     "output_type": "execute_result"
    },
    {
     "ename": "",
     "evalue": "",
     "output_type": "error",
     "traceback": [
      "\u001b[1;31mThe Kernel crashed while executing code in the current cell or a previous cell. \n",
      "\u001b[1;31mPlease review the code in the cell(s) to identify a possible cause of the failure. \n",
      "\u001b[1;31mClick <a href='https://aka.ms/vscodeJupyterKernelCrash'>here</a> for more info. \n",
      "\u001b[1;31mView Jupyter <a href='command:jupyter.viewOutput'>log</a> for further details."
     ]
    }
   ],
   "source": [
    "import os\n",
    "import subprocess\n",
    "\n",
    "# Define LaTeX content\n",
    "latex_code = r\"\"\"\n",
    "\\documentclass{article}\n",
    "\\usepackage{amsmath}\n",
    "\\usepackage[margin=1in]{geometry}\n",
    "\\begin{document}\n",
    "\n",
    "\\section*{4-Day Workout Plan}\n",
    "\n",
    "\\subsection*{Day 1: Chest and Triceps}\n",
    "\\begin{itemize}\n",
    "    \\item \\textbf{Barbell Bench Press (3 sets of 8--12 reps)}\\\\\n",
    "    Primary: Pectoralis Major, Secondary: Triceps\n",
    "    \\item \\textbf{Incline Dumbbell Press (3 sets of 10--15 reps)}\\\\\n",
    "    Primary: Pectoralis Major, Secondary: Anterior Deltoids\n",
    "    \\item \\textbf{Tricep Pushdown (3 sets of 12--15 reps)}\\\\\n",
    "    Primary: Triceps\n",
    "    \\item \\textbf{Overhead Dumbbell Extension (3 sets of 12--15 reps)}\\\\\n",
    "    Primary: Triceps\n",
    "\\end{itemize}\n",
    "\n",
    "\\subsection*{Day 2: Back and Biceps}\n",
    "\\begin{itemize}\n",
    "    \\item \\textbf{Pull-ups (3 sets of 8--12 reps)}\\\\\n",
    "    Primary: Latissimus Dorsi, Secondary: Biceps\n",
    "    \\item \\textbf{Barbell Rows (3 sets of 8--12 reps)}\\\\\n",
    "    Primary: Latissimus Dorsi, Secondary: Trapezius\n",
    "    \\item \\textbf{Dumbbell Bicep Curls (3 sets of 10--12 reps)}\\\\\n",
    "    Primary: Biceps\n",
    "    \\item \\textbf{Hammer Curls (3 sets of 10--12 reps)}\\\\\n",
    "    Primary: Biceps\n",
    "\\end{itemize}\n",
    "\n",
    "\\subsection*{Day 3: Legs}\n",
    "\\begin{itemize}\n",
    "    \\item \\textbf{Squats (3 sets of 8--12 reps)}\\\\\n",
    "    Primary: Quadriceps, Secondary: Hamstrings\n",
    "    \\item \\textbf{Leg Press (3 sets of 10--12 reps)}\\\\\n",
    "    Primary: Quadriceps, Secondary: Hamstrings\n",
    "    \\item \\textbf{Lunges (3 sets of 10--12 reps per leg)}\\\\\n",
    "    Primary: Quadriceps, Secondary: Hamstrings\n",
    "    \\item \\textbf{Leg Extensions (3 sets of 12--15 reps)}\\\\\n",
    "    Primary: Quadriceps\n",
    "\\end{itemize}\n",
    "\n",
    "\\subsection*{Day 4: Shoulders and Abs}\n",
    "\\begin{itemize}\n",
    "    \\item \\textbf{Standing Military Press (3 sets of 8--12 reps)}\\\\\n",
    "    Primary: Deltoids, Secondary: Triceps\n",
    "    \\item \\textbf{Lateral Raises (3 sets of 10--12 reps)}\\\\\n",
    "    Primary: Deltoids\n",
    "    \\item \\textbf{Reverse Fly (3 sets of 12--15 reps)}\\\\\n",
    "    Primary: Deltoids\n",
    "    \\item \\textbf{Plank (3 sets of 30--60 seconds)}\\\\\n",
    "    Primary: Rectus Abdominis, Secondary: Obliques\n",
    "\\end{itemize}\n",
    "\n",
    "\\end{document}\n",
    "\"\"\"\n",
    "\n",
    "# Save LaTeX content to file\n",
    "with open(\"output.tex\", \"w\", encoding=\"utf-8\") as f:\n",
    "    f.write(latex_code)\n",
    "\n",
    "# Run pdflatex in the current directory\n",
    "import subprocess\n",
    "\n",
    "# Full path to pdflatex\n",
    "pdflatex_path = r\"C:\\Users\\Hossa\\AppData\\Local\\Programs\\MiKTeX\\miktex\\bin\\x64\\pdflatex.exe\"\n",
    "\n",
    "# Compile the LaTeX file\n",
    "subprocess.run([pdflatex_path, \"output.tex\"], check=True)\n"
   ]
  },
  {
   "cell_type": "code",
   "execution_count": null,
   "metadata": {},
   "outputs": [],
   "source": [
    "class State(TypedDict):\n",
    "    messages: Annotated[list,add_messages]"
   ]
  },
  {
   "cell_type": "code",
   "execution_count": null,
   "metadata": {},
   "outputs": [],
   "source": [
    "class single_exercise(BaseModel):\n",
    "    exercise: str = Field(description=\"exercise name\")\n",
    "    sub_muscles: list [str] = Field(description=\"list of sub_muscle in this exercise\")\n",
    "    primary_muscles:list [ str] = Field(description=\"list of primary muscle in this exercise\")\n",
    "    sets :str = Field(description=\"number of sets\")\n",
    "    reps: str = Field(description=\"number of reps\")\n",
    "    instruction: str = Field(description=\"exercise instruction\")\n",
    "    @property\n",
    "    def summary(self):\n",
    "        return f\"sub_muscle: {self.sub_muscle}, exercise: {self.exercise}, sets: {self.sets}, reps: {self.reps}, details: {self.details}\"\n",
    "class single_body_part(BaseModel):\n",
    "    body_part: str = Field(description=\"name of the body part\")\n",
    "    exercises: List[single_exercise] = Field(description=\"list of exercises in this body part\")\n",
    "    @property\n",
    "    def summary(self):\n",
    "        return f\"body_part: {self.body_part}, exercises: {self.exercises}\"\n",
    "#structed_output_llm=llm.with_structured_output(single_body_part)"
   ]
  },
  {
   "cell_type": "code",
   "execution_count": null,
   "metadata": {},
   "outputs": [],
   "source": [
    "from langchain_core.prompts import ChatPromptTemplate\n",
    "\n",
    "# Define the prompt template with proper input variables\n",
    "fitness_instructions = ChatPromptTemplate.from_template(\"\"\"\n",
    "You are tasked with generating a list of exercises for {body_part} that the user needs to train. Follow these instructions carefully:\n",
    "\n",
    "1. First, review the Goal: {Goal} and the height and weight of {tall}cm and {weight}kg then specify the level of {the_level_of_cardio}.\n",
    "    \n",
    "2. Examine any editorial feedback: {human_feedback}\n",
    "\n",
    "3. Take notes on the level of {intensity}\n",
    "\n",
    "4. You can search the database for exercises by using tools\n",
    "\n",
    "{input}\n",
    "{agent_scratchpad}\"\"\")  # Required for tool calling\n",
    "\n",
    "# Construct the tool calling agent\n",
    "agent = create_tool_calling_agent(\n",
    "    llm=llm,\n",
    "    tools=tools,\n",
    "    prompt=fitness_instructions\n",
    ")"
   ]
  },
  {
   "cell_type": "code",
   "execution_count": null,
   "metadata": {},
   "outputs": [
    {
     "name": "stdout",
     "output_type": "stream",
     "text": [
      "\n",
      "\n",
      "\u001b[1m> Entering new AgentExecutor chain...\u001b[0m\n",
      "\u001b[32;1m\u001b[1;3m\n",
      "Invoking: `get_exercises` with `{'body_part': 'back', 'primary_muscles': 'latissimus dorsi', 'secondary_muscles': 'trapezius'}`\n",
      "\n",
      "\n",
      "\u001b[0m\u001b[36;1m\u001b[1;3m['Chin-Ups', 'Behind-the-Neck Pulldown']\u001b[0m\u001b[32;1m\u001b[1;3m\n",
      "Invoking: `get_exercises` with `{'body_part': 'back', 'primary_muscles': 'latissimus dorsi', 'secondary_muscles': 'trapezius'}`\n",
      "\n",
      "\n",
      "\u001b[0m\u001b[36;1m\u001b[1;3m['Chin-Ups', 'Behind-the-Neck Pulldown']\u001b[0m\u001b[32;1m\u001b[1;3m\n",
      "Invoking: `get_exercises` with `{'body_part': 'back', 'primary_muscles': 'latissimus dorsi', 'secondary_muscles': 'trapezius'}`\n",
      "\n",
      "\n",
      "\u001b[0m\u001b[36;1m\u001b[1;3m['Chin-Ups', 'Behind-the-Neck Pulldown']\u001b[0m\u001b[32;1m\u001b[1;3m\u001b[0m\n",
      "\n",
      "\u001b[1m> Finished chain.\u001b[0m\n"
     ]
    }
   ],
   "source": [
    "agent_executor = AgentExecutor(agent=agent, tools=tools, verbose=True,max_iterations=3)\n",
    "\n",
    "response = agent_executor.invoke({\n",
    "    \"body_part\": \"back\",\n",
    "    \"Goal\": \"gain muscle\",\n",
    "    \"intensity\": \"moderate\",\n",
    "    \"tall\": 180,\n",
    "    \"weight\": 70,\n",
    "    \"the_level_of_cardio\": \"medium\",\n",
    "    \"human_feedback\": \"\",\n",
    "    \"input\": \"Generate workout exercises for back\",\n",
    "})"
   ]
  },
  {
   "cell_type": "code",
   "execution_count": null,
   "metadata": {},
   "outputs": [
    {
     "data": {
      "text/plain": [
       "{'body_part': 'back',\n",
       " 'Goal': 'gain muscle',\n",
       " 'intensity': 'moderate',\n",
       " 'tall': 180,\n",
       " 'weight': 70,\n",
       " 'the_level_of_cardio': 'medium',\n",
       " 'human_feedback': '',\n",
       " 'input': 'Generate workout exercises for back',\n",
       " 'output': 'Agent stopped due to max iterations.'}"
      ]
     },
     "execution_count": 29,
     "metadata": {},
     "output_type": "execute_result"
    }
   ],
   "source": [
    "response"
   ]
  },
  {
   "cell_type": "code",
   "execution_count": null,
   "metadata": {},
   "outputs": [],
   "source": [
    "class Generate_plans(TypedDict):\n",
    "    goal:str # goal of the workout_plans\n",
    "    intensity: str # intensity of the workout\n",
    "    tall: int \n",
    "    weight: int\n",
    "    human_feedback: str\n",
    "    max_exercises: int\n",
    "    muscle_workouts: List[MainMuscle] # list of whole body exercise"
   ]
  },
  {
   "cell_type": "code",
   "execution_count": null,
   "metadata": {},
   "outputs": [],
   "source": [
    "import langchain_core"
   ]
  },
  {
   "cell_type": "code",
   "execution_count": null,
   "metadata": {},
   "outputs": [],
   "source": [
    "fitness_instructions=\"\"\"You are tasked with retreiving and review a set of exercises for each muscle group. Follow these instructions carefully:\n",
    "\n",
    "1. First, review the research topic:\n",
    "{goal}\n",
    "        \n",
    "2. Examine any editorial feedback that has been optionally provided to guide creation of the analysts: \n",
    "{human_feedback}\n",
    "3. take notes on the level of {intensity} and / or feedback above.\n",
    "4. Assign one set of exercises to each main muscle group.\n",
    "5. Pick the top {max_exercises} exercises for each SUB muscle group.\"\"\"\n"
   ]
  },
  {
   "cell_type": "code",
   "execution_count": null,
   "metadata": {},
   "outputs": [],
   "source": [
    "def create_plans(state: Generate_plans):\n",
    "    \n",
    "    \"\"\" Create plans \"\"\"\n",
    "    print(\"i am here\")\n",
    "    goal=state.get('goal', '')\n",
    "    intensity=state.get('intensity', '')\n",
    "    human_feedback=state.get('human_feedback', '')\n",
    "    max_exercises=state.get('max_exercises', 0)    \n",
    "    # Enforce structured output\n",
    "    structured_llm = llm.with_structured_output(Perspectives)\n",
    "\n",
    "    # System message\n",
    "    system_message = fitness_instructions.format(goal=goal,\n",
    "                                                            human_feedback=human_feedback, \n",
    "                                                            intensity=intensity,max_exercises=max_exercises)\n",
    "\n",
    "    # Generate question \n",
    "    main_muscle_plans = structured_llm.invoke([SystemMessage(content=system_message)]+[HumanMessage(content=\"serach the set of exercises with serach_by_sub_muscle_tool and enhance it.\")])\n",
    "    \n",
    "    # Write the list of analysis to state\n",
    "    return {\"muscle_workouts\": main_muscle_plans}"
   ]
  },
  {
   "cell_type": "code",
   "execution_count": null,
   "metadata": {},
   "outputs": [],
   "source": [
    "def search_exercises(main: str = None, sub: str = None):\n",
    "    cursor = connection.cursor()\n",
    "    cursor.execute(\n",
    "        \"\"\"\n",
    "        SELECT * \n",
    "        FROM exercises\n",
    "        WHERE sub_muscles LIKE ?\n",
    "        OR main_muscle LIKE ?;\n",
    "        \"\"\",\n",
    "        (f\"%{sub}%\", f\"%{main}%\")\n",
    "    )\n",
    "    rows = cursor.fetchall()\n",
    "    print(\"I am here\")\n",
    "    # Display the results\n",
    "    return rows\n"
   ]
  },
  {
   "cell_type": "code",
   "execution_count": null,
   "metadata": {},
   "outputs": [
    {
     "ename": "NameError",
     "evalue": "name 'Generate_plans' is not defined",
     "output_type": "error",
     "traceback": [
      "\u001b[1;31m---------------------------------------------------------------------------\u001b[0m",
      "\u001b[1;31mNameError\u001b[0m                                 Traceback (most recent call last)",
      "Cell \u001b[1;32mIn[55], line 1\u001b[0m\n\u001b[1;32m----> 1\u001b[0m \u001b[38;5;28;01mdef\u001b[39;00m \u001b[38;5;21mhuman_feedback_nod\u001b[39m(state: \u001b[43mGenerate_plans\u001b[49m):\n\u001b[0;32m      2\u001b[0m \u001b[38;5;250m    \u001b[39m\u001b[38;5;124;03m\"\"\" No-op node that should be interrupted on \"\"\"\u001b[39;00m\n\u001b[0;32m      3\u001b[0m     \u001b[38;5;28;01mpass\u001b[39;00m\n",
      "\u001b[1;31mNameError\u001b[0m: name 'Generate_plans' is not defined"
     ]
    }
   ],
   "source": [
    "def human_feedback_nod(state: Generate_plans):\n",
    "    \"\"\" No-op node that should be interrupted on \"\"\"\n",
    "    pass\n",
    "\n",
    "def should_continue(state: Generate_plans):\n",
    "    \"\"\" Return the next node to execute \"\"\"\n",
    "\n",
    "    # Check if human feedback\n",
    "    human_analyst_feedback=state.get('human_feedback', None)\n",
    "    if human_analyst_feedback:\n",
    "        return \"create_plans\"\n",
    "    \n",
    "    # Otherwise end\n",
    "    return END\n",
    "\n",
    "# Add nodes and edges \n",
    "builder = StateGraph(Generate_plans)\n",
    "builder.add_node(\"create_plans\", create_plans)\n",
    "builder.add_node(\"human_feedback_nod\", human_feedback_nod)\n",
    "builder.add_edge(START, \"create_plans\")\n",
    "builder.add_edge(\"create_plans\", \"human_feedback_nod\")\n",
    "builder.add_conditional_edges(\"human_feedback_nod\", should_continue, [\"create_plans\", END])\n",
    "\n",
    "# Compile\n",
    "memory = MemorySaver()\n",
    "graph = builder.compile(interrupt_before=['human_feedback_nod'], checkpointer=memory)\n",
    "\n",
    "# View\n",
    "display(Image(graph.get_graph(xray=1).draw_mermaid_png()))"
   ]
  },
  {
   "cell_type": "code",
   "execution_count": null,
   "metadata": {},
   "outputs": [
    {
     "name": "stdout",
     "output_type": "stream",
     "text": [
      "i am here\n",
      "('muscle_workouts', [{'main_muscle': 'Chest', 'sub_muscle': ['Pectoralis Major', 'Pectoralis Minor'], 'exercise': ['Bench Press', 'Dumbbell Press', 'Incline Press']}, {'main_muscle': 'Back', 'sub_muscle': ['Latissimus Dorsi', 'Trapezius'], 'exercise': ['Pull-ups', 'Lat Pulldowns', 'Rows']}, {'main_muscle': 'Legs', 'sub_muscle': ['Quadriceps', 'Hamstrings'], 'exercise': ['Squats', 'Lunges', 'Leg Press']}, {'main_muscle': 'Shoulders', 'sub_muscle': ['Deltoids', 'Rotator Cuff'], 'exercise': ['Shoulder Press', 'Lateral Raises', 'Rear Delt Fly']}, {'main_muscle': 'Arms', 'sub_muscle': ['Biceps', 'Triceps'], 'exercise': ['Bicep Curls', 'Tricep Pushdowns', 'Overhead Dumbbell Extension']}])\n"
     ]
    }
   ],
   "source": [
    "# Input\n",
    "max_exercises = 2\n",
    "goal = \"lose weight\"\n",
    "intessity = \"high\"\n",
    "tall=178\n",
    "weight=60\n",
    "thread = {\"configurable\": {\"thread_id\": \"1\"}}\n",
    "\n",
    "# Run the graph until the first interruption\n",
    "for event in graph.stream({\"goal\":goal,\"max_exercises\":max_exercises,\"instensity\":intessity}, thread, stream_mode=\"values\"):\n",
    "    # Review\n",
    "    muscle_workouts = event.get('muscle_workouts', '')\n",
    "    if muscle_workouts:\n",
    "        for set in muscle_workouts:\n",
    "            print(set)"
   ]
  },
  {
   "cell_type": "code",
   "execution_count": null,
   "metadata": {},
   "outputs": [
    {
     "name": "stdout",
     "output_type": "stream",
     "text": [
      "StateSnapshot(values={'goal': 'lose weight', 'max_exercises': 2, 'muscle_workouts': Perspectives(muscle_workouts=[{'main_muscle': 'Chest', 'sub_muscle': ['Pectoralis Major', 'Pectoralis Minor'], 'exercise': ['Bench Press', 'Dumbbell Press', 'Incline Press']}, {'main_muscle': 'Back', 'sub_muscle': ['Latissimus Dorsi', 'Trapezius'], 'exercise': ['Pull-ups', 'Lat Pulldowns', 'Rows']}, {'main_muscle': 'Legs', 'sub_muscle': ['Quadriceps', 'Hamstrings'], 'exercise': ['Squats', 'Lunges', 'Leg Press']}, {'main_muscle': 'Shoulders', 'sub_muscle': ['Deltoids', 'Rotator Cuff'], 'exercise': ['Shoulder Press', 'Lateral Raises', 'Rear Delt Fly']}, {'main_muscle': 'Arms', 'sub_muscle': ['Biceps', 'Triceps'], 'exercise': ['Bicep Curls', 'Tricep Pushdowns', 'Overhead Dumbbell Extension']}])}, next=('human_feedback_nod',), config={'configurable': {'thread_id': '1', 'checkpoint_ns': '', 'checkpoint_id': '1efb9e79-7665-6672-8001-cbe35fa2ccc6'}}, metadata={'source': 'loop', 'writes': {'create_plans': {'muscle_workouts': Perspectives(muscle_workouts=[{'main_muscle': 'Chest', 'sub_muscle': ['Pectoralis Major', 'Pectoralis Minor'], 'exercise': ['Bench Press', 'Dumbbell Press', 'Incline Press']}, {'main_muscle': 'Back', 'sub_muscle': ['Latissimus Dorsi', 'Trapezius'], 'exercise': ['Pull-ups', 'Lat Pulldowns', 'Rows']}, {'main_muscle': 'Legs', 'sub_muscle': ['Quadriceps', 'Hamstrings'], 'exercise': ['Squats', 'Lunges', 'Leg Press']}, {'main_muscle': 'Shoulders', 'sub_muscle': ['Deltoids', 'Rotator Cuff'], 'exercise': ['Shoulder Press', 'Lateral Raises', 'Rear Delt Fly']}, {'main_muscle': 'Arms', 'sub_muscle': ['Biceps', 'Triceps'], 'exercise': ['Bicep Curls', 'Tricep Pushdowns', 'Overhead Dumbbell Extension']}])}}, 'thread_id': '1', 'step': 1, 'parents': {}}, created_at='2024-12-14T06:49:40.042486+00:00', parent_config={'configurable': {'thread_id': '1', 'checkpoint_ns': '', 'checkpoint_id': '1efb9e79-5fda-6f78-8000-f74c7bb920e9'}}, tasks=(PregelTask(id='d80022b2-bcda-b817-8f1b-053e5d12ba75', name='human_feedback_nod', path=('__pregel_pull', 'human_feedback_nod'), error=None, interrupts=(), state=None, result=None),))\n"
     ]
    }
   ],
   "source": [
    "state = graph.get_state(thread)\n",
    "print(state)"
   ]
  }
 ],
 "metadata": {
  "kernelspec": {
   "display_name": "lang",
   "language": "python",
   "name": "python3"
  },
  "language_info": {
   "codemirror_mode": {
    "name": "ipython",
    "version": 3
   },
   "file_extension": ".py",
   "mimetype": "text/x-python",
   "name": "python",
   "nbconvert_exporter": "python",
   "pygments_lexer": "ipython3",
   "version": "3.10.14"
  }
 },
 "nbformat": 4,
 "nbformat_minor": 2
}
