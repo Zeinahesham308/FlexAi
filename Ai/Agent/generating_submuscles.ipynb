{
 "cells": [
  {
   "cell_type": "code",
   "execution_count": 1,
   "metadata": {},
   "outputs": [],
   "source": [
    "import os\n",
    "from typing import  List\n",
    "from typing_extensions import TypedDict\n",
    "from pydantic import BaseModel, Field\n",
    "from IPython.display import Image, display\n",
    "from langgraph.graph import START, END, StateGraph\n",
    "from langgraph.checkpoint.memory import MemorySaver\n",
    "from langchain_core.messages import AIMessage, HumanMessage, SystemMessage\n",
    "import sqlite3\n",
    "from langchain.tools import Tool\n",
    "from langchain_core.tools import tool\n",
    "\n",
    "connection = sqlite3.connect(\"gym.db\")"
   ]
  },
  {
   "cell_type": "code",
   "execution_count": 2,
   "metadata": {},
   "outputs": [],
   "source": [
    "os.environ[\"GROQ_API_KEY\"] = \"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\"\n",
    "from langchain_groq import ChatGroq\n",
    "\n",
    "llm = ChatGroq(\n",
    "    model=\"llama-3.3-70b-versatile\",\n",
    "    temperature=0,\n",
    "    max_tokens=None,\n",
    "    timeout=None,\n",
    "    max_retries=2,\n",
    ")"
   ]
  },
  {
   "cell_type": "code",
   "execution_count": 3,
   "metadata": {},
   "outputs": [],
   "source": [
    "\n",
    "@tool\n",
    "def serach_by_sub_muscle_tool(TargetedSubMuscles: str, MainMuscle: str):\n",
    "    \"\"\"\n",
    "    Fetches exercises from the SQLite database based on targeted and main muscles.\n",
    "  Args:\n",
    "        inputs (str): 'TargetedMuscles' and 'MainMuscle'.\n",
    "        \n",
    "    Returns:\n",
    "    List: A list of query results.\"\"\"\n",
    "    print(\"i am here\")\n",
    "    print(\"main muscle\", MainMuscle)\n",
    "    cursor = connection.cursor()\n",
    "    query = \"\"\"\n",
    "        SELECT * \n",
    "        FROM exercises\n",
    "        WHERE sub_muscles LIKE ?\n",
    "        OR main_muscle LIKE ?;\n",
    "    \"\"\"\n",
    "    # Use '%' wildcard for LIKE\n",
    "    parameters = (f\"%{TargetedSubMuscles}%\", f\"%{MainMuscle}%\")\n",
    "    cursor.execute(query, parameters)\n",
    "    rows = cursor.fetchall()\n",
    "    \n",
    "    exercises = []\n",
    "    for row in rows:\n",
    "        exercises.append(row)\n",
    "    \n",
    "    return exercises\n",
    "\n",
    "    "
   ]
  },
  {
   "cell_type": "code",
   "execution_count": 4,
   "metadata": {},
   "outputs": [],
   "source": [
    "tools=[serach_by_sub_muscle_tool]"
   ]
  },
  {
   "cell_type": "code",
   "execution_count": 5,
   "metadata": {},
   "outputs": [
    {
     "data": {
      "text/plain": [
       "ChatGroq(client=<groq.resources.chat.completions.Completions object at 0x00000216FE21A3C0>, async_client=<groq.resources.chat.completions.AsyncCompletions object at 0x00000216FE26C050>, model_name='llama-3.3-70b-versatile', temperature=1e-08, model_kwargs={}, groq_api_key=SecretStr('**********'))"
      ]
     },
     "execution_count": 5,
     "metadata": {},
     "output_type": "execute_result"
    }
   ],
   "source": [
    "llm"
   ]
  },
  {
   "cell_type": "code",
   "execution_count": 6,
   "metadata": {},
   "outputs": [],
   "source": [
    "def search_exercises_sqlite(main: str = None, sub: str = None):\n",
    "    cursor = connection.cursor()\n",
    "    cursor.execute(\n",
    "        \"\"\"\n",
    "        SELECT * \n",
    "        FROM exercises\n",
    "        WHERE sub_muscles LIKE ?\n",
    "        OR main_muscle LIKE ?;\n",
    "        \"\"\",\n",
    "        (f\"%{sub}%\", f\"%{main}%\")\n",
    "    )\n",
    "    rows = cursor.fetchall()\n",
    "    print(\"I am here\")\n",
    "    # Display the results\n",
    "    return rows\n"
   ]
  },
  {
   "cell_type": "code",
   "execution_count": 7,
   "metadata": {},
   "outputs": [],
   "source": [
    "class MainMuscle(TypedDict):\n",
    "    main_muscle: str=Field(description=\"main muscle name\")\n",
    "    sub_muscle: List[str]=Field(description=\"list of sub_muscle groups\")\n",
    "    level_of_cardio: str=Field(description=\"level of cardio\")\n",
    "    @property\n",
    "    def summary(self):\n",
    "        return f\"name: {self.main_muscle}, description: {self.description}, level_of_cardio: {self.level_of_cardio}\""
   ]
  },
  {
   "cell_type": "code",
   "execution_count": 8,
   "metadata": {},
   "outputs": [],
   "source": [
    "class Perspectives(BaseModel):\n",
    "    muscle_workouts: List[MainMuscle] = Field(\n",
    "        description=\"Comprehensive list of all main muscles and their sub_muscles.\",\n",
    "    )"
   ]
  },
  {
   "cell_type": "code",
   "execution_count": 9,
   "metadata": {},
   "outputs": [],
   "source": [
    "class SubMuscleExercises(TypedDict):\n",
    "    sub_muscle: str = Field(description=\"sub_muscle name\")\n",
    "    exercise: str = Field(description=\"exercise name\")\n",
    "    sets :str = Field(description=\"number of sets\")\n",
    "    reps: str = Field(description=\"number of reps\")\n",
    "    details: str = Field(description=\"exercise details\")\n",
    "    @property\n",
    "    def summary(self):\n",
    "        return f\"sub_muscle: {self.sub_muscle}, exercise: {self.exercise}, sets: {self.sets}, reps: {self.reps}, details: {self.details}\""
   ]
  },
  {
   "cell_type": "code",
   "execution_count": 10,
   "metadata": {},
   "outputs": [],
   "source": [
    "class SubMuscleExercisesList(BaseModel):\n",
    "    exercises: List[SubMuscleExercises]=Field(description=\"list of sub_muscle exercises\")"
   ]
  },
  {
   "cell_type": "code",
   "execution_count": 11,
   "metadata": {},
   "outputs": [],
   "source": [
    "class Generate__main_muscle(TypedDict):\n",
    "    goal:str # goal of the workout_plans\n",
    "    max_sub_muscles: int\n",
    "    intensity: str # intensity of the workout\n",
    "    tall: int \n",
    "    weight: int\n",
    "    human_feedback: str\n",
    "    the_level_of_cardio: str\n",
    "    muscle_workouts: List[MainMuscle] # list of main_muscle and sub_muscle\n",
    "    exercises: List[SubMuscleExercises]\n",
    "    "
   ]
  },
  {
   "cell_type": "code",
   "execution_count": 12,
   "metadata": {},
   "outputs": [],
   "source": [
    "fitness_instructions=\"\"\"You are tasked with generating a list of sub muscle groups for each muscle group that the user need to train . Follow these instructions carefully:\n",
    "\n",
    "1. First, review the goal:\n",
    "{goal} and the height and weight of {tall} and {weight} then specify the level of the_level_of_cardio.\n",
    "        \n",
    "2. Examine any editorial feedback that has been optionally provided to guide creation of the analysts: \n",
    "{human_feedback}\n",
    "3. take notes on the level of {intensity} and / or feedback above.\n",
    "4. the sub muscles should be limited to {max_sub_muscles}\n",
    "\"\"\""
   ]
  },
  {
   "cell_type": "code",
   "execution_count": 13,
   "metadata": {},
   "outputs": [],
   "source": [
    "def create_plans(state: Generate__main_muscle):\n",
    "    \n",
    "    \"\"\" Create plans \"\"\"\n",
    "    goal=state.get('goal', '')\n",
    "    intensity=state.get('intensity', '')\n",
    "    human_feedback=state.get('human_feedback', '')\n",
    "    max_sub_muscles=state.get('max_sub_muscles', 0)   \n",
    "    tall=state.get('tall', 0)\n",
    "    weight=state.get('weight', 0)\n",
    "    # Enforce structured output\n",
    "    structured_llm = llm.with_structured_output(Perspectives)\n",
    "    print(\"i am here at create_plans\")\n",
    "    # System message\n",
    "    system_message = fitness_instructions.format(goal=goal,\n",
    "                                                            human_feedback=human_feedback, \n",
    "                                                            intensity=intensity,\n",
    "                                                            tall=tall,\n",
    "                                                            weight=weight,max_sub_muscles=max_sub_muscles)\n",
    "\n",
    "    # Generate question \n",
    "    main_muscle_plans = structured_llm.invoke([SystemMessage(content=system_message)]+[HumanMessage(content=\"populate the list of sub muscles groups for each muscle group\")])\n",
    "    \n",
    "    # Write the list of analysis to state\n",
    "    return {\"muscle_workouts\": main_muscle_plans}"
   ]
  },
  {
   "cell_type": "code",
   "execution_count": 14,
   "metadata": {},
   "outputs": [
    {
     "data": {
      "image/png": "[encoded data removed]",
      "text/plain": [
       "<IPython.core.display.Image object>"
      ]
     },
     "metadata": {},
     "output_type": "display_data"
    }
   ],
   "source": [
    "def human_feedback_nod(state: Generate__main_muscle):\n",
    "    \"\"\" No-op node that should be interrupted on \"\"\"\n",
    "    pass\n",
    "\n",
    "def should_continue(state: Generate__main_muscle):\n",
    "    \"\"\" Return the next node to execute \"\"\"\n",
    "\n",
    "    # Check if human feedback\n",
    "    human_analyst_feedback=state.get('human_feedback', None)\n",
    "    if human_analyst_feedback:\n",
    "        return \"create_plans\"\n",
    "    \n",
    "    # Otherwise end\n",
    "    return END\n",
    "\n",
    "# Add nodes and edges \n",
    "builder = StateGraph(Generate__main_muscle)\n",
    "builder.add_node(\"create_plans\", create_plans)\n",
    "builder.add_node(\"human_feedback_nod\", human_feedback_nod)\n",
    "builder.add_edge(START, \"create_plans\")\n",
    "builder.add_edge(\"create_plans\", \"human_feedback_nod\")\n",
    "builder.add_conditional_edges(\"human_feedback_nod\", should_continue, [\"create_plans\", END])\n",
    "\n",
    "# Compile\n",
    "memory = MemorySaver()\n",
    "graph = builder.compile(interrupt_before=['human_feedback_nod'], checkpointer=memory)\n",
    "\n",
    "# View\n",
    "display(Image(graph.get_graph(xray=1).draw_mermaid_png()))"
   ]
  },
  {
   "cell_type": "code",
   "execution_count": 15,
   "metadata": {},
   "outputs": [
    {
     "name": "stdout",
     "output_type": "stream",
     "text": [
      "i am here at create_plans\n",
      "('muscle_workouts', [{'main_muscle': 'Chest', 'sub_muscle': ['Pectoralis major'], 'level_of_cardio': 'moderate'}, {'main_muscle': 'Back', 'sub_muscle': ['Trapezius'], 'level_of_cardio': 'moderate'}, {'main_muscle': 'Shoulders', 'sub_muscle': ['Deltoids'], 'level_of_cardio': 'moderate'}, {'main_muscle': 'Biceps', 'sub_muscle': ['Biceps brachii'], 'level_of_cardio': 'low'}, {'main_muscle': 'Triceps', 'sub_muscle': ['Triceps brachii'], 'level_of_cardio': 'low'}, {'main_muscle': 'Legs', 'sub_muscle': ['Quadriceps'], 'level_of_cardio': 'high'}, {'main_muscle': 'Core', 'sub_muscle': ['Abdominals'], 'level_of_cardio': 'low'}])\n"
     ]
    }
   ],
   "source": [
    "# Input\n",
    "max_sub_muscles = 1\n",
    "goal = \"lose weight\"\n",
    "intensity= \"high\"\n",
    "tall=178\n",
    "weight=60\n",
    "thread = {\"configurable\": {\"thread_id\": \"1\"}}\n",
    "\n",
    "# Run the graph until the first interruption\n",
    "for event in graph.stream({\"goal\":goal,\"max_sub_muscles\":max_sub_muscles,\"instensity\":intensity,\"tall\":tall,\"weight\":weight}, thread, stream_mode=\"values\"):\n",
    "    # Review\n",
    "    muscle_workouts = event.get('muscle_workouts', '')\n",
    "    if muscle_workouts:\n",
    "        for set in muscle_workouts:\n",
    "            print(set)"
   ]
  },
  {
   "cell_type": "code",
   "execution_count": 16,
   "metadata": {},
   "outputs": [
    {
     "name": "stdout",
     "output_type": "stream",
     "text": [
      "StateSnapshot(values={'goal': 'lose weight', 'max_sub_muscles': 1, 'tall': 178, 'weight': 60, 'muscle_workouts': Perspectives(muscle_workouts=[{'main_muscle': 'Chest', 'sub_muscle': ['Pectoralis major'], 'level_of_cardio': 'moderate'}, {'main_muscle': 'Back', 'sub_muscle': ['Trapezius'], 'level_of_cardio': 'moderate'}, {'main_muscle': 'Shoulders', 'sub_muscle': ['Deltoids'], 'level_of_cardio': 'moderate'}, {'main_muscle': 'Biceps', 'sub_muscle': ['Biceps brachii'], 'level_of_cardio': 'low'}, {'main_muscle': 'Triceps', 'sub_muscle': ['Triceps brachii'], 'level_of_cardio': 'low'}, {'main_muscle': 'Legs', 'sub_muscle': ['Quadriceps'], 'level_of_cardio': 'high'}, {'main_muscle': 'Core', 'sub_muscle': ['Abdominals'], 'level_of_cardio': 'low'}])}, next=('human_feedback_nod',), config={'configurable': {'thread_id': '1', 'checkpoint_ns': '', 'checkpoint_id': '1efbaef9-eaf5-6df5-8001-96117e9f526d'}}, metadata={'source': 'loop', 'writes': {'create_plans': {'muscle_workouts': Perspectives(muscle_workouts=[{'main_muscle': 'Chest', 'sub_muscle': ['Pectoralis major'], 'level_of_cardio': 'moderate'}, {'main_muscle': 'Back', 'sub_muscle': ['Trapezius'], 'level_of_cardio': 'moderate'}, {'main_muscle': 'Shoulders', 'sub_muscle': ['Deltoids'], 'level_of_cardio': 'moderate'}, {'main_muscle': 'Biceps', 'sub_muscle': ['Biceps brachii'], 'level_of_cardio': 'low'}, {'main_muscle': 'Triceps', 'sub_muscle': ['Triceps brachii'], 'level_of_cardio': 'low'}, {'main_muscle': 'Legs', 'sub_muscle': ['Quadriceps'], 'level_of_cardio': 'high'}, {'main_muscle': 'Core', 'sub_muscle': ['Abdominals'], 'level_of_cardio': 'low'}])}}, 'thread_id': '1', 'step': 1, 'parents': {}}, created_at='2024-12-15T14:19:39.401724+00:00', parent_config={'configurable': {'thread_id': '1', 'checkpoint_ns': '', 'checkpoint_id': '1efbaef9-da3d-652d-8000-5eeb8b21d14f'}}, tasks=(PregelTask(id='211cd8ba-69d6-45f2-695c-5611d7cf5dce', name='human_feedback_nod', path=('__pregel_pull', 'human_feedback_nod'), error=None, interrupts=(), state=None, result=None),))\n"
     ]
    }
   ],
   "source": [
    "state = graph.get_state(thread)\n",
    "print(state)"
   ]
  },
  {
   "cell_type": "code",
   "execution_count": 17,
   "metadata": {},
   "outputs": [],
   "source": [
    "def search_exercises(state):\n",
    "    \"\"\"Search for exercises for the sub-muscle groups.\"\"\"\n",
    "    # Extract muscle workouts list from state or default to an empty list\n",
    "    muscle_workouts = state.get(\"muscle_workouts\", [])\n",
    "    muscle_workouts=muscle_workouts.muscle_workouts\n",
    "    exercises = []\n",
    "    print(\"Starting exercise search...\")\n",
    "    #print(muscle_workouts.muscle_workouts[0][\"sub_muscle\"][0])\n",
    "\n",
    "    # Iterate through the list of muscle workout dictionaries\n",
    "    for muscle in muscle_workouts: \n",
    "        main_muscle = muscle[\"main_muscle\"] # Fetch main muscle\n",
    "        sub_muscle_list = muscle.get(\"sub_muscle\", [])  # Fetch list of sub-muscles\n",
    "        \n",
    "        print(f\"Main Muscle: {main_muscle}, Sub-Muscles: {sub_muscle_list}\")\n",
    "        \n",
    "        # Iterate over the sub-muscles and fetch exercises\n",
    "        for sub_muscle in sub_muscle_list:\n",
    "            print(f\"Fetching exercises for Main Muscle: {main_muscle}, Sub-Muscle: {sub_muscle}\")\n",
    "            \n",
    "            # Use the tool to fetch exercises\n",
    "            results = search_exercises_sqlite(main_muscle,  sub_muscle)\n",
    "            \n",
    "            if results:\n",
    "                exercises.append({\n",
    "                    \"main_muscle\": main_muscle,\n",
    "                    \"sub_muscle\": sub_muscle,\n",
    "                    \"exercises\": results\n",
    "                })\n",
    "            else:\n",
    "                print(f\"No exercises found for Sub-Muscle: {sub_muscle}\")\n",
    "\n",
    "    print(\"Exercise search complete.\")\n",
    "    return {\"exercises\": exercises}\n"
   ]
  },
  {
   "cell_type": "code",
   "execution_count": 18,
   "metadata": {},
   "outputs": [
    {
     "data": {
      "image/png": "[encoded data removed]",
      "text/plain": [
       "<IPython.core.display.Image object>"
      ]
     },
     "metadata": {},
     "output_type": "display_data"
    }
   ],
   "source": [
    "\n",
    "# Add a new graph\n",
    "builder2 = StateGraph(Generate__main_muscle)\n",
    "\n",
    "# Nodes\n",
    "builder2.add_node(\"create_plans\", create_plans)\n",
    "builder2.add_node(\"search_exercises\", search_exercises)\n",
    "builder2.add_node(\"human_feedback_nod\", human_feedback_nod)\n",
    "\n",
    "# Edges\n",
    "builder2.add_edge(START, \"create_plans\")\n",
    "builder2.add_edge(\"create_plans\", \"search_exercises\")\n",
    "builder2.add_edge(\"search_exercises\", \"human_feedback_nod\")\n",
    "builder2.add_conditional_edges(\"human_feedback_nod\", should_continue, [\"search_exercises\", END])\n",
    "\n",
    "# Compile and visualize\n",
    "graph2 = builder2.compile(interrupt_before=['human_feedback_nod'], checkpointer=memory)\n",
    "display(Image(graph2.get_graph(xray=1).draw_mermaid_png()))\n"
   ]
  },
  {
   "cell_type": "code",
   "execution_count": 19,
   "metadata": {},
   "outputs": [
    {
     "name": "stdout",
     "output_type": "stream",
     "text": [
      "i am here at create_plans\n",
      "Starting exercise search...\n",
      "Main Muscle: Chest, Sub-Muscles: ['Pectoralis major']\n",
      "Fetching exercises for Main Muscle: Chest, Sub-Muscle: Pectoralis major\n",
      "I am here\n",
      "Main Muscle: Back, Sub-Muscles: ['Trapezius']\n",
      "Fetching exercises for Main Muscle: Back, Sub-Muscle: Trapezius\n",
      "I am here\n",
      "Main Muscle: Shoulders, Sub-Muscles: ['Deltoids']\n",
      "Fetching exercises for Main Muscle: Shoulders, Sub-Muscle: Deltoids\n",
      "I am here\n",
      "No exercises found for Sub-Muscle: Deltoids\n",
      "Main Muscle: Biceps, Sub-Muscles: ['Biceps brachii']\n",
      "Fetching exercises for Main Muscle: Biceps, Sub-Muscle: Biceps brachii\n",
      "I am here\n",
      "Main Muscle: Triceps, Sub-Muscles: ['Triceps brachii']\n",
      "Fetching exercises for Main Muscle: Triceps, Sub-Muscle: Triceps brachii\n",
      "I am here\n",
      "No exercises found for Sub-Muscle: Triceps brachii\n",
      "Main Muscle: Legs, Sub-Muscles: ['Quadriceps']\n",
      "Fetching exercises for Main Muscle: Legs, Sub-Muscle: Quadriceps\n",
      "I am here\n",
      "No exercises found for Sub-Muscle: Quadriceps\n",
      "Main Muscle: Core, Sub-Muscles: ['Abdominals']\n",
      "Fetching exercises for Main Muscle: Core, Sub-Muscle: Abdominals\n",
      "I am here\n",
      "No exercises found for Sub-Muscle: Abdominals\n",
      "Exercise search complete.\n",
      "{'main_muscle': 'Chest', 'sub_muscle': 'Pectoralis major', 'exercises': [(18, 'Flat Barbell Bench Press', '4 sets', '8-12 reps', 'Middle chest (pectoralis major)', 'Builds overall chest size and strength.', 'Chest'), (19, 'Incline Barbell Bench Press', '3 sets', '8-12 reps', 'Upper chest (clavicular head of pectoralis major)', 'Focuses on the upper part of the chest.', 'Chest'), (20, 'Decline Barbell Bench Press', '3 sets', '8-12 reps', 'Lower chest', 'Adds definition to the lower chest.', 'Chest'), (21, 'Flat Dumbbell Press', '4 sets', '8-12 reps', 'Middle chest', 'Enhances range of motion and muscle activation.', 'Chest'), (22, 'Incline Dumbbell Press', '3 sets', '8-12 reps', 'Upper chest', 'Builds mass and definition in the upper chest.', 'Chest'), (23, 'Chest Fly (Machine)', '3 sets', '8-12 reps', 'Inner chest', 'Isolates the chest and enhances the inner portion.', 'Chest'), (24, 'Cable Crossover (High to Low)', '3 sets', '8-12 reps', 'Lower chest', 'Adds definition and stretch to the lower chest.', 'Chest'), (25, 'Cable Crossover (Low to High)', '3 sets', '8-12 reps', 'Upper chest', 'Focuses on the upper chest with a unique angle.', 'Chest'), (26, 'Pec Deck (Butterfly Machine)', '3 sets', '8-12 reps', 'Middle and inner chest', 'Great for isolation and definition.', 'Chest'), (27, 'Push-Up on Gym Rings', '3 sets', '8-12 reps', 'Entire chest, core, and stabilizers', 'Improves stability and chest activation.', 'Chest'), (28, 'Standard Push-Ups', '4 sets', '8-12 reps', 'Middle chest', 'Builds chest endurance and strength.', 'Chest'), (29, 'Incline Push-Ups (Feet on Floor)', '4 sets', '8-12 reps', 'Lower chest', 'Enhances lower chest engagement.', 'Chest'), (30, 'Decline Push-Ups (Feet Elevated)', '4 sets', '8-12 reps', 'Upper chest', 'Works the upper chest without weights.', 'Chest'), (31, 'Diamond Push-Ups', '4 sets', '8-12 reps', 'Inner chest and triceps', 'Focuses on chest contraction and inner chest.', 'Chest'), (32, 'Wide Push-Ups', '4 sets', '8-12 reps', 'Outer chest', 'Increases stretch and activates the outer chest.', 'Chest'), (33, 'Resistance Band Chest Press', '3 sets', '8-12 reps', 'Entire chest', 'A good substitute for bench pressing at home.', 'Chest'), (34, 'Resistance Band Fly', '3 sets', '8-12 reps', 'Inner and middle chest', 'Mimics cable flys for a home setting.', 'Chest'), (35, 'Dumbbell Floor Press', '3 sets', '8-12 reps', 'Middle chest', 'Simple and effective for those with dumbbells at home.', 'Chest'), (36, 'Explosive Clap Push-Ups', '3 sets', '8-12 reps', 'Entire chest', 'Adds power and explosiveness to chest training.', 'Chest'), (37, 'Archer Push-Ups', '3 sets', '8-12 reps', 'One side of the chest at a time', 'Builds unilateral strength and stability.', 'Chest')]}\n",
      "{'main_muscle': 'Back', 'sub_muscle': 'Trapezius', 'exercises': [(1, 'Pull-Ups', '4 sets', '8-12 reps', 'Lats, Biceps', 'Improves width and overall back strength.', 'Back'), (2, 'Deadlifts', '3-5 sets', '5-8 reps', 'Erector Spinae, Lats', 'Full-body exercise; strengthens lower and upper back.', 'Back'), (3, 'Barbell Rows', '4 sets', '8-12 reps', 'Lats, Rhomboids', 'Strengthens the entire back and core.', 'Back'), (4, 'Lat Pulldowns', '4 sets', '10-12 reps', 'Lats, Biceps', 'Great for isolation and width development.', 'Back'), (5, 'Dumbbell Rows', '4 sets', '8-12 reps', 'Lats, Rhomboids', 'Corrects muscle imbalances and improves core stability.', 'Back'), (6, 'Seated Cable Row', '3 sets', '8-12 reps', 'Rhomboids, traps, lats', 'Builds mid-back thickness.', 'Back'), (7, 'Face Pulls', '3 sets', '8-12 reps', 'Rear delts, traps, rhomboids', 'Helps with posture and upper back strength.', 'Back'), (8, 'T-Bar Row', '3 sets', '8-12 reps', 'Mid-back, lats, traps', 'Focuses on mid-back thickness.', 'Back'), (9, 'Chest-Supported Row', '3 sets', '8-12 reps', 'Lats, traps, rhomboids', 'Reduces strain on the lower back.', 'Back'), (10, 'Hyperextensions (Back Extensions)', '4 sets', '8-12 reps', 'Erector spinae, glutes', 'Strengthens lower back and improves posture.', 'Back'), (11, 'Superman Hold', '4 sets', '8-12 reps', 'Erector spinae, lower traps', 'Great for lower back endurance.', 'Back'), (12, 'Reverse Snow Angels', '3 sets', '8-12 reps', 'Lats, traps, rhomboids', 'Focuses on scapular control and mobility.', 'Back'), (13, 'Prone T Raises', '3 sets', '8-12 reps', 'Rear delts, traps', 'Activates upper back muscles effectively.', 'Back'), (14, 'Resistance Band Pull-Apart', '4 sets', '8-12 reps', 'Traps, rhomboids', 'Excellent for posture correction and upper back strength.', 'Back'), (15, 'Plank with Row (Renegade Rows)', '3 sets', '8-12 reps', 'Traps, rhomboids', 'Combines core stability with back strengthening.', 'Back'), (16, 'Resistance Band Rows', '3 sets', '8-12 reps', 'Lats, traps, core', 'A great alternative to cable rows.', 'Back'), (17, 'Bird Dog', '4 sets', '8-12 reps', 'Erector spinae, lats, glutes', 'Improves stability and strengthens lower back.', 'Back')]}\n",
      "{'main_muscle': 'Biceps', 'sub_muscle': 'Biceps brachii', 'exercises': [(38, 'Barbell Bicep Curl', '4 sets', '8-12 reps', 'Overall biceps (long and short heads)', 'Builds strength and mass in the entire biceps.', 'Biceps'), (39, 'Dumbbell Bicep Curl', '4 sets', '10-12 reps', 'Overall biceps', 'Enhances muscle symmetry and balance.', 'Biceps'), (40, 'Hammer Curl (Dumbbells)', '3 sets', '10-12 reps', 'Brachialis and biceps brachii', 'Develops thickness and forearm strength.', 'Biceps'), (41, 'Preacher Curl (Barbell or Dumbbell)', '4 sets', '10-12 reps', 'Lower part of biceps (short head emphasis)', 'Isolates the biceps and eliminates momentum.', 'Biceps'), (42, 'Concentration Curl', '4 sets', '10-12 reps', 'Peak of the biceps (long head)', 'Improves bicep definition and peak.', 'Biceps'), (43, 'Incline Dumbbell Curl', '3 sets', '10-12 reps', 'Long head of the biceps', 'Maximizes the stretch for the long head.', 'Biceps'), (44, 'Cable Bicep Curl', '3 sets', '10-12 reps', 'Overall biceps', 'Provides constant tension throughout the movement.', 'Biceps'), (45, 'Reverse Curl (Barbell or Dumbbells)', '3 sets', '10-12 reps', 'Brachialis and forearms', 'Adds thickness and improves grip strength.', 'Biceps'), (46, 'Zottman Curl', '3 sets', '10-12 reps', 'Biceps and forearms', 'Combines regular and reverse curls for comprehensive arm training.', 'Biceps'), (47, '21s (Barbell or Dumbbells)', '3 sets', '10-12 reps', 'Upper, middle, and lower parts of the biceps', 'A set of 21 reps split into partial and full ranges of motion.', 'Biceps'), (48, 'Resistance Band Bicep Curl', '3 sets', '10-12 reps', 'Entire biceps', 'Mimics cable curls without a machine.', 'Biceps'), (49, 'Isometric Bicep Hold (Dumbbells or Bands)', '3 sets', '10-12 reps', 'Biceps endurance', 'Improves stability and isometric strength.', 'Biceps'), (50, 'Towel Curl (Using a Bicepspack or Bag)', '3 sets', '10-12 reps', 'Overall biceps', 'A creative way to train with household items.', 'Biceps'), (51, 'Wall Bicep Curl (Using Resistance Bands)', '3 sets', '10-12 reps', 'Biceps brachii', 'Keeps tension constant during the curl.', 'Biceps'), (52, 'Reverse Towel Curl', '3 sets', '10-12 reps', 'Brachialis and forearms', 'Great for grip and arm thickness.', 'Biceps'), (53, 'Bodyweight Bicep Curl (Under a Table or Bar)', '3 sets', '10-12 reps', 'Biceps and forearms', 'Works as an alternative to pull-ups.', 'Biceps'), (54, 'Hammer Curl (Using Water Bottles or Cans)', '4 sets', '10-12 reps', 'Brachialis and biceps brachii', 'Adds resistance with everyday items.', 'Biceps'), (55, 'Negative Reps (Slow Dumbbell Lowering)', '4 sets', '10-12 reps', 'Long and short heads of the biceps', 'Focuses on eccentric strength.', 'Biceps'), (56, 'Chin-Ups (Close Grip)', '4 sets', '10-12 reps', 'Biceps brachii (long head emphasis)', 'A compound movement for biceps and Biceps.', 'Biceps')]}\n"
     ]
    }
   ],
   "source": [
    "# Input\n",
    "max_sub_muscles = 1\n",
    "goal = \"lose weight\"\n",
    "intensity= \"high\"\n",
    "tall=178\n",
    "weight=60\n",
    "thread = {\"configurable\": {\"thread_id\": \"1\"}}\n",
    "\n",
    "# Run the graph until the first interruption\n",
    "for event in graph2.stream({\"goal\":goal,\"max_sub_muscles\":max_sub_muscles,\"instensity\":intensity,\"tall\":tall,\"weight\":weight}, thread, stream_mode=\"values\"):\n",
    "    # Review\n",
    "    exercises = event.get('exercises', '')\n",
    "    if exercises:\n",
    "        for set in exercises:\n",
    "            print(set)"
   ]
  },
  {
   "cell_type": "code",
   "execution_count": 20,
   "metadata": {},
   "outputs": [
    {
     "name": "stdout",
     "output_type": "stream",
     "text": [
      "StateSnapshot(values={'goal': 'lose weight', 'max_sub_muscles': 1, 'tall': 178, 'weight': 60, 'muscle_workouts': Perspectives(muscle_workouts=[{'main_muscle': 'Chest', 'sub_muscle': ['Pectoralis major'], 'level_of_cardio': 'moderate'}, {'main_muscle': 'Back', 'sub_muscle': ['Trapezius'], 'level_of_cardio': 'moderate'}, {'main_muscle': 'Shoulders', 'sub_muscle': ['Deltoids'], 'level_of_cardio': 'moderate'}, {'main_muscle': 'Biceps', 'sub_muscle': ['Biceps brachii'], 'level_of_cardio': 'low'}, {'main_muscle': 'Triceps', 'sub_muscle': ['Triceps brachii'], 'level_of_cardio': 'low'}, {'main_muscle': 'Legs', 'sub_muscle': ['Quadriceps'], 'level_of_cardio': 'high'}, {'main_muscle': 'Core', 'sub_muscle': ['Abdominals'], 'level_of_cardio': 'low'}]), 'exercises': [{'main_muscle': 'Chest', 'sub_muscle': 'Pectoralis major', 'exercises': [[18, 'Flat Barbell Bench Press', '4 sets', '8-12 reps', 'Middle chest (pectoralis major)', 'Builds overall chest size and strength.', 'Chest'], [19, 'Incline Barbell Bench Press', '3 sets', '8-12 reps', 'Upper chest (clavicular head of pectoralis major)', 'Focuses on the upper part of the chest.', 'Chest'], [20, 'Decline Barbell Bench Press', '3 sets', '8-12 reps', 'Lower chest', 'Adds definition to the lower chest.', 'Chest'], [21, 'Flat Dumbbell Press', '4 sets', '8-12 reps', 'Middle chest', 'Enhances range of motion and muscle activation.', 'Chest'], [22, 'Incline Dumbbell Press', '3 sets', '8-12 reps', 'Upper chest', 'Builds mass and definition in the upper chest.', 'Chest'], [23, 'Chest Fly (Machine)', '3 sets', '8-12 reps', 'Inner chest', 'Isolates the chest and enhances the inner portion.', 'Chest'], [24, 'Cable Crossover (High to Low)', '3 sets', '8-12 reps', 'Lower chest', 'Adds definition and stretch to the lower chest.', 'Chest'], [25, 'Cable Crossover (Low to High)', '3 sets', '8-12 reps', 'Upper chest', 'Focuses on the upper chest with a unique angle.', 'Chest'], [26, 'Pec Deck (Butterfly Machine)', '3 sets', '8-12 reps', 'Middle and inner chest', 'Great for isolation and definition.', 'Chest'], [27, 'Push-Up on Gym Rings', '3 sets', '8-12 reps', 'Entire chest, core, and stabilizers', 'Improves stability and chest activation.', 'Chest'], [28, 'Standard Push-Ups', '4 sets', '8-12 reps', 'Middle chest', 'Builds chest endurance and strength.', 'Chest'], [29, 'Incline Push-Ups (Feet on Floor)', '4 sets', '8-12 reps', 'Lower chest', 'Enhances lower chest engagement.', 'Chest'], [30, 'Decline Push-Ups (Feet Elevated)', '4 sets', '8-12 reps', 'Upper chest', 'Works the upper chest without weights.', 'Chest'], [31, 'Diamond Push-Ups', '4 sets', '8-12 reps', 'Inner chest and triceps', 'Focuses on chest contraction and inner chest.', 'Chest'], [32, 'Wide Push-Ups', '4 sets', '8-12 reps', 'Outer chest', 'Increases stretch and activates the outer chest.', 'Chest'], [33, 'Resistance Band Chest Press', '3 sets', '8-12 reps', 'Entire chest', 'A good substitute for bench pressing at home.', 'Chest'], [34, 'Resistance Band Fly', '3 sets', '8-12 reps', 'Inner and middle chest', 'Mimics cable flys for a home setting.', 'Chest'], [35, 'Dumbbell Floor Press', '3 sets', '8-12 reps', 'Middle chest', 'Simple and effective for those with dumbbells at home.', 'Chest'], [36, 'Explosive Clap Push-Ups', '3 sets', '8-12 reps', 'Entire chest', 'Adds power and explosiveness to chest training.', 'Chest'], [37, 'Archer Push-Ups', '3 sets', '8-12 reps', 'One side of the chest at a time', 'Builds unilateral strength and stability.', 'Chest']]}, {'main_muscle': 'Back', 'sub_muscle': 'Trapezius', 'exercises': [[1, 'Pull-Ups', '4 sets', '8-12 reps', 'Lats, Biceps', 'Improves width and overall back strength.', 'Back'], [2, 'Deadlifts', '3-5 sets', '5-8 reps', 'Erector Spinae, Lats', 'Full-body exercise; strengthens lower and upper back.', 'Back'], [3, 'Barbell Rows', '4 sets', '8-12 reps', 'Lats, Rhomboids', 'Strengthens the entire back and core.', 'Back'], [4, 'Lat Pulldowns', '4 sets', '10-12 reps', 'Lats, Biceps', 'Great for isolation and width development.', 'Back'], [5, 'Dumbbell Rows', '4 sets', '8-12 reps', 'Lats, Rhomboids', 'Corrects muscle imbalances and improves core stability.', 'Back'], [6, 'Seated Cable Row', '3 sets', '8-12 reps', 'Rhomboids, traps, lats', 'Builds mid-back thickness.', 'Back'], [7, 'Face Pulls', '3 sets', '8-12 reps', 'Rear delts, traps, rhomboids', 'Helps with posture and upper back strength.', 'Back'], [8, 'T-Bar Row', '3 sets', '8-12 reps', 'Mid-back, lats, traps', 'Focuses on mid-back thickness.', 'Back'], [9, 'Chest-Supported Row', '3 sets', '8-12 reps', 'Lats, traps, rhomboids', 'Reduces strain on the lower back.', 'Back'], [10, 'Hyperextensions (Back Extensions)', '4 sets', '8-12 reps', 'Erector spinae, glutes', 'Strengthens lower back and improves posture.', 'Back'], [11, 'Superman Hold', '4 sets', '8-12 reps', 'Erector spinae, lower traps', 'Great for lower back endurance.', 'Back'], [12, 'Reverse Snow Angels', '3 sets', '8-12 reps', 'Lats, traps, rhomboids', 'Focuses on scapular control and mobility.', 'Back'], [13, 'Prone T Raises', '3 sets', '8-12 reps', 'Rear delts, traps', 'Activates upper back muscles effectively.', 'Back'], [14, 'Resistance Band Pull-Apart', '4 sets', '8-12 reps', 'Traps, rhomboids', 'Excellent for posture correction and upper back strength.', 'Back'], [15, 'Plank with Row (Renegade Rows)', '3 sets', '8-12 reps', 'Traps, rhomboids', 'Combines core stability with back strengthening.', 'Back'], [16, 'Resistance Band Rows', '3 sets', '8-12 reps', 'Lats, traps, core', 'A great alternative to cable rows.', 'Back'], [17, 'Bird Dog', '4 sets', '8-12 reps', 'Erector spinae, lats, glutes', 'Improves stability and strengthens lower back.', 'Back']]}, {'main_muscle': 'Biceps', 'sub_muscle': 'Biceps brachii', 'exercises': [[38, 'Barbell Bicep Curl', '4 sets', '8-12 reps', 'Overall biceps (long and short heads)', 'Builds strength and mass in the entire biceps.', 'Biceps'], [39, 'Dumbbell Bicep Curl', '4 sets', '10-12 reps', 'Overall biceps', 'Enhances muscle symmetry and balance.', 'Biceps'], [40, 'Hammer Curl (Dumbbells)', '3 sets', '10-12 reps', 'Brachialis and biceps brachii', 'Develops thickness and forearm strength.', 'Biceps'], [41, 'Preacher Curl (Barbell or Dumbbell)', '4 sets', '10-12 reps', 'Lower part of biceps (short head emphasis)', 'Isolates the biceps and eliminates momentum.', 'Biceps'], [42, 'Concentration Curl', '4 sets', '10-12 reps', 'Peak of the biceps (long head)', 'Improves bicep definition and peak.', 'Biceps'], [43, 'Incline Dumbbell Curl', '3 sets', '10-12 reps', 'Long head of the biceps', 'Maximizes the stretch for the long head.', 'Biceps'], [44, 'Cable Bicep Curl', '3 sets', '10-12 reps', 'Overall biceps', 'Provides constant tension throughout the movement.', 'Biceps'], [45, 'Reverse Curl (Barbell or Dumbbells)', '3 sets', '10-12 reps', 'Brachialis and forearms', 'Adds thickness and improves grip strength.', 'Biceps'], [46, 'Zottman Curl', '3 sets', '10-12 reps', 'Biceps and forearms', 'Combines regular and reverse curls for comprehensive arm training.', 'Biceps'], [47, '21s (Barbell or Dumbbells)', '3 sets', '10-12 reps', 'Upper, middle, and lower parts of the biceps', 'A set of 21 reps split into partial and full ranges of motion.', 'Biceps'], [48, 'Resistance Band Bicep Curl', '3 sets', '10-12 reps', 'Entire biceps', 'Mimics cable curls without a machine.', 'Biceps'], [49, 'Isometric Bicep Hold (Dumbbells or Bands)', '3 sets', '10-12 reps', 'Biceps endurance', 'Improves stability and isometric strength.', 'Biceps'], [50, 'Towel Curl (Using a Bicepspack or Bag)', '3 sets', '10-12 reps', 'Overall biceps', 'A creative way to train with household items.', 'Biceps'], [51, 'Wall Bicep Curl (Using Resistance Bands)', '3 sets', '10-12 reps', 'Biceps brachii', 'Keeps tension constant during the curl.', 'Biceps'], [52, 'Reverse Towel Curl', '3 sets', '10-12 reps', 'Brachialis and forearms', 'Great for grip and arm thickness.', 'Biceps'], [53, 'Bodyweight Bicep Curl (Under a Table or Bar)', '3 sets', '10-12 reps', 'Biceps and forearms', 'Works as an alternative to pull-ups.', 'Biceps'], [54, 'Hammer Curl (Using Water Bottles or Cans)', '4 sets', '10-12 reps', 'Brachialis and biceps brachii', 'Adds resistance with everyday items.', 'Biceps'], [55, 'Negative Reps (Slow Dumbbell Lowering)', '4 sets', '10-12 reps', 'Long and short heads of the biceps', 'Focuses on eccentric strength.', 'Biceps'], [56, 'Chin-Ups (Close Grip)', '4 sets', '10-12 reps', 'Biceps brachii (long head emphasis)', 'A compound movement for biceps and Biceps.', 'Biceps']]}]}, next=('human_feedback_nod',), config={'configurable': {'thread_id': '1', 'checkpoint_ns': '', 'checkpoint_id': '1efbaef9-fc9a-6705-8005-4348f0788c2a'}}, metadata={'source': 'loop', 'writes': {'search_exercises': {'exercises': [{'main_muscle': 'Chest', 'sub_muscle': 'Pectoralis major', 'exercises': [[18, 'Flat Barbell Bench Press', '4 sets', '8-12 reps', 'Middle chest (pectoralis major)', 'Builds overall chest size and strength.', 'Chest'], [19, 'Incline Barbell Bench Press', '3 sets', '8-12 reps', 'Upper chest (clavicular head of pectoralis major)', 'Focuses on the upper part of the chest.', 'Chest'], [20, 'Decline Barbell Bench Press', '3 sets', '8-12 reps', 'Lower chest', 'Adds definition to the lower chest.', 'Chest'], [21, 'Flat Dumbbell Press', '4 sets', '8-12 reps', 'Middle chest', 'Enhances range of motion and muscle activation.', 'Chest'], [22, 'Incline Dumbbell Press', '3 sets', '8-12 reps', 'Upper chest', 'Builds mass and definition in the upper chest.', 'Chest'], [23, 'Chest Fly (Machine)', '3 sets', '8-12 reps', 'Inner chest', 'Isolates the chest and enhances the inner portion.', 'Chest'], [24, 'Cable Crossover (High to Low)', '3 sets', '8-12 reps', 'Lower chest', 'Adds definition and stretch to the lower chest.', 'Chest'], [25, 'Cable Crossover (Low to High)', '3 sets', '8-12 reps', 'Upper chest', 'Focuses on the upper chest with a unique angle.', 'Chest'], [26, 'Pec Deck (Butterfly Machine)', '3 sets', '8-12 reps', 'Middle and inner chest', 'Great for isolation and definition.', 'Chest'], [27, 'Push-Up on Gym Rings', '3 sets', '8-12 reps', 'Entire chest, core, and stabilizers', 'Improves stability and chest activation.', 'Chest'], [28, 'Standard Push-Ups', '4 sets', '8-12 reps', 'Middle chest', 'Builds chest endurance and strength.', 'Chest'], [29, 'Incline Push-Ups (Feet on Floor)', '4 sets', '8-12 reps', 'Lower chest', 'Enhances lower chest engagement.', 'Chest'], [30, 'Decline Push-Ups (Feet Elevated)', '4 sets', '8-12 reps', 'Upper chest', 'Works the upper chest without weights.', 'Chest'], [31, 'Diamond Push-Ups', '4 sets', '8-12 reps', 'Inner chest and triceps', 'Focuses on chest contraction and inner chest.', 'Chest'], [32, 'Wide Push-Ups', '4 sets', '8-12 reps', 'Outer chest', 'Increases stretch and activates the outer chest.', 'Chest'], [33, 'Resistance Band Chest Press', '3 sets', '8-12 reps', 'Entire chest', 'A good substitute for bench pressing at home.', 'Chest'], [34, 'Resistance Band Fly', '3 sets', '8-12 reps', 'Inner and middle chest', 'Mimics cable flys for a home setting.', 'Chest'], [35, 'Dumbbell Floor Press', '3 sets', '8-12 reps', 'Middle chest', 'Simple and effective for those with dumbbells at home.', 'Chest'], [36, 'Explosive Clap Push-Ups', '3 sets', '8-12 reps', 'Entire chest', 'Adds power and explosiveness to chest training.', 'Chest'], [37, 'Archer Push-Ups', '3 sets', '8-12 reps', 'One side of the chest at a time', 'Builds unilateral strength and stability.', 'Chest']]}, {'main_muscle': 'Back', 'sub_muscle': 'Trapezius', 'exercises': [[1, 'Pull-Ups', '4 sets', '8-12 reps', 'Lats, Biceps', 'Improves width and overall back strength.', 'Back'], [2, 'Deadlifts', '3-5 sets', '5-8 reps', 'Erector Spinae, Lats', 'Full-body exercise; strengthens lower and upper back.', 'Back'], [3, 'Barbell Rows', '4 sets', '8-12 reps', 'Lats, Rhomboids', 'Strengthens the entire back and core.', 'Back'], [4, 'Lat Pulldowns', '4 sets', '10-12 reps', 'Lats, Biceps', 'Great for isolation and width development.', 'Back'], [5, 'Dumbbell Rows', '4 sets', '8-12 reps', 'Lats, Rhomboids', 'Corrects muscle imbalances and improves core stability.', 'Back'], [6, 'Seated Cable Row', '3 sets', '8-12 reps', 'Rhomboids, traps, lats', 'Builds mid-back thickness.', 'Back'], [7, 'Face Pulls', '3 sets', '8-12 reps', 'Rear delts, traps, rhomboids', 'Helps with posture and upper back strength.', 'Back'], [8, 'T-Bar Row', '3 sets', '8-12 reps', 'Mid-back, lats, traps', 'Focuses on mid-back thickness.', 'Back'], [9, 'Chest-Supported Row', '3 sets', '8-12 reps', 'Lats, traps, rhomboids', 'Reduces strain on the lower back.', 'Back'], [10, 'Hyperextensions (Back Extensions)', '4 sets', '8-12 reps', 'Erector spinae, glutes', 'Strengthens lower back and improves posture.', 'Back'], [11, 'Superman Hold', '4 sets', '8-12 reps', 'Erector spinae, lower traps', 'Great for lower back endurance.', 'Back'], [12, 'Reverse Snow Angels', '3 sets', '8-12 reps', 'Lats, traps, rhomboids', 'Focuses on scapular control and mobility.', 'Back'], [13, 'Prone T Raises', '3 sets', '8-12 reps', 'Rear delts, traps', 'Activates upper back muscles effectively.', 'Back'], [14, 'Resistance Band Pull-Apart', '4 sets', '8-12 reps', 'Traps, rhomboids', 'Excellent for posture correction and upper back strength.', 'Back'], [15, 'Plank with Row (Renegade Rows)', '3 sets', '8-12 reps', 'Traps, rhomboids', 'Combines core stability with back strengthening.', 'Back'], [16, 'Resistance Band Rows', '3 sets', '8-12 reps', 'Lats, traps, core', 'A great alternative to cable rows.', 'Back'], [17, 'Bird Dog', '4 sets', '8-12 reps', 'Erector spinae, lats, glutes', 'Improves stability and strengthens lower back.', 'Back']]}, {'main_muscle': 'Biceps', 'sub_muscle': 'Biceps brachii', 'exercises': [[38, 'Barbell Bicep Curl', '4 sets', '8-12 reps', 'Overall biceps (long and short heads)', 'Builds strength and mass in the entire biceps.', 'Biceps'], [39, 'Dumbbell Bicep Curl', '4 sets', '10-12 reps', 'Overall biceps', 'Enhances muscle symmetry and balance.', 'Biceps'], [40, 'Hammer Curl (Dumbbells)', '3 sets', '10-12 reps', 'Brachialis and biceps brachii', 'Develops thickness and forearm strength.', 'Biceps'], [41, 'Preacher Curl (Barbell or Dumbbell)', '4 sets', '10-12 reps', 'Lower part of biceps (short head emphasis)', 'Isolates the biceps and eliminates momentum.', 'Biceps'], [42, 'Concentration Curl', '4 sets', '10-12 reps', 'Peak of the biceps (long head)', 'Improves bicep definition and peak.', 'Biceps'], [43, 'Incline Dumbbell Curl', '3 sets', '10-12 reps', 'Long head of the biceps', 'Maximizes the stretch for the long head.', 'Biceps'], [44, 'Cable Bicep Curl', '3 sets', '10-12 reps', 'Overall biceps', 'Provides constant tension throughout the movement.', 'Biceps'], [45, 'Reverse Curl (Barbell or Dumbbells)', '3 sets', '10-12 reps', 'Brachialis and forearms', 'Adds thickness and improves grip strength.', 'Biceps'], [46, 'Zottman Curl', '3 sets', '10-12 reps', 'Biceps and forearms', 'Combines regular and reverse curls for comprehensive arm training.', 'Biceps'], [47, '21s (Barbell or Dumbbells)', '3 sets', '10-12 reps', 'Upper, middle, and lower parts of the biceps', 'A set of 21 reps split into partial and full ranges of motion.', 'Biceps'], [48, 'Resistance Band Bicep Curl', '3 sets', '10-12 reps', 'Entire biceps', 'Mimics cable curls without a machine.', 'Biceps'], [49, 'Isometric Bicep Hold (Dumbbells or Bands)', '3 sets', '10-12 reps', 'Biceps endurance', 'Improves stability and isometric strength.', 'Biceps'], [50, 'Towel Curl (Using a Bicepspack or Bag)', '3 sets', '10-12 reps', 'Overall biceps', 'A creative way to train with household items.', 'Biceps'], [51, 'Wall Bicep Curl (Using Resistance Bands)', '3 sets', '10-12 reps', 'Biceps brachii', 'Keeps tension constant during the curl.', 'Biceps'], [52, 'Reverse Towel Curl', '3 sets', '10-12 reps', 'Brachialis and forearms', 'Great for grip and arm thickness.', 'Biceps'], [53, 'Bodyweight Bicep Curl (Under a Table or Bar)', '3 sets', '10-12 reps', 'Biceps and forearms', 'Works as an alternative to pull-ups.', 'Biceps'], [54, 'Hammer Curl (Using Water Bottles or Cans)', '4 sets', '10-12 reps', 'Brachialis and biceps brachii', 'Adds resistance with everyday items.', 'Biceps'], [55, 'Negative Reps (Slow Dumbbell Lowering)', '4 sets', '10-12 reps', 'Long and short heads of the biceps', 'Focuses on eccentric strength.', 'Biceps'], [56, 'Chin-Ups (Close Grip)', '4 sets', '10-12 reps', 'Biceps brachii (long head emphasis)', 'A compound movement for biceps and Biceps.', 'Biceps']]}]}}, 'thread_id': '1', 'step': 5, 'parents': {}}, created_at='2024-12-15T14:19:41.251740+00:00', parent_config={'configurable': {'thread_id': '1', 'checkpoint_ns': '', 'checkpoint_id': '1efbaef9-fc84-6ea4-8004-4ccba298a8da'}}, tasks=(PregelTask(id='d689d791-5269-b0fe-1f17-2f3800876a78', name='human_feedback_nod', path=('__pregel_pull', 'human_feedback_nod'), error=None, interrupts=(), state=None, result=None),))\n"
     ]
    },
    {
     "ename": "",
     "evalue": "",
     "output_type": "error",
     "traceback": [
      "\u001b[1;31mThe Kernel crashed while executing code in the current cell or a previous cell. \n",
      "\u001b[1;31mPlease review the code in the cell(s) to identify a possible cause of the failure. \n",
      "\u001b[1;31mClick <a href='https://aka.ms/vscodeJupyterKernelCrash'>here</a> for more info. \n",
      "\u001b[1;31mView Jupyter <a href='command:jupyter.viewOutput'>log</a> for further details."
     ]
    }
   ],
   "source": [
    "state = graph2.get_state(thread)\n",
    "print(state)"
   ]
  }
 ],
 "metadata": {
  "kernelspec": {
   "display_name": "lang",
   "language": "python",
   "name": "python3"
  },
  "language_info": {
   "codemirror_mode": {
    "name": "ipython",
    "version": 3
   },
   "file_extension": ".py",
   "mimetype": "text/x-python",
   "name": "python",
   "nbconvert_exporter": "python",
   "pygments_lexer": "ipython3",
   "version": "3.13.0"
  }
 },
 "nbformat": 4,
 "nbformat_minor": 2
}
