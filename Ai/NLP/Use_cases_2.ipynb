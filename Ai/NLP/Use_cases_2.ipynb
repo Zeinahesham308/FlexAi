{
 "cells": [
  {
   "cell_type": "markdown",
   "metadata": {
    "id": "1r_qqibN5niZ"
   },
   "source": [
    "# Introduction"
   ]
  },
  {
   "cell_type": "markdown",
   "metadata": {
    "id": "0uLLTFMG3ksk"
   },
   "source": [
    "## Purpose\n",
    "This notebook documents the test cases for the FlexAI chatbot to ensure it provides accurate and helpful responses. Additionally, it aims to evaluate the chatbot's strengths, weaknesses, and the specific areas where it fails, by analyzing its performance across various prompts. This analysis will help identify areas where the chatbot excels, areas that require improvement, and critical failure points that need to be addressed for better user experience and reliability."
   ]
  },
  {
   "cell_type": "markdown",
   "metadata": {
    "id": "GcldUA467cUn"
   },
   "source": [
    "## Scope\n",
    "Evaluating the chatbot's responses based on these key aspects\n",
    "*   Accuracy\n",
    "*   Relevance\n",
    "*   Tone\n",
    "*   Completeness\n",
    "\n"
   ]
  },
  {
   "cell_type": "markdown",
   "metadata": {
    "id": "vzGkdczW777B"
   },
   "source": [
    "## Evaluation Methodology\n",
    "Currently, the response's evaluation process is manual, where responses are evaluated by reviewing them and comparing them against expected outcomes."
   ]
  },
  {
   "cell_type": "markdown",
   "metadata": {
    "id": "xCiTBWbd9VMD"
   },
   "source": [
    "# Test Case Format\n",
    "*   **Test Case ID**: A unique identifier for each test case.\n",
    "*   **Objective**: What the test case aims to validate.\n",
    "*   **Input Query**: The user query provided to the chatbot.\n",
    "*  **Expected Response**: What the ideal response should look like.\n",
    "*   **Actual Response**: What the chatbot returned.List item\n",
    "*   **Feedback**: feedback based on the metrics.\n",
    "*   **Status**: Mark as Pass or Fail.\n",
    "\n"
   ]
  },
  {
   "cell_type": "markdown",
   "metadata": {},
   "source": [
    "this is the code where we import and the rag and implement some funictions skip if not intersted"
   ]
  },
  {
   "cell_type": "code",
   "execution_count": 2,
   "metadata": {},
   "outputs": [],
   "source": [
    "from rag_mongo_v2 import return_rag_chain\n",
    "from langchain_core.chat_history import  InMemoryChatMessageHistory\n"
   ]
  },
  {
   "cell_type": "code",
   "execution_count": 3,
   "metadata": {},
   "outputs": [
    {
     "name": "stdout",
     "output_type": "stream",
     "text": [
      "Vectorstore created successfully\n"
     ]
    }
   ],
   "source": [
    "rag,llm = return_rag_chain()\n",
    "chat_with_history = InMemoryChatMessageHistory()\n",
    "chain = rag.pick(\"answer\")\n"
   ]
  },
  {
   "cell_type": "code",
   "execution_count": 5,
   "metadata": {},
   "outputs": [],
   "source": [
    "def print_responses(responses):\n",
    "    for response in responses:\n",
    "        print(response, end=\"\",flush=True)"
   ]
  },
  {
   "cell_type": "code",
   "execution_count": 8,
   "metadata": {},
   "outputs": [],
   "source": [
    "def stream(user_prompt):\n",
    "    response=chain.stream({\"input\": user_prompt, \"chat_history\": chat_with_history.messages})\n",
    "    print_responses(response)"
   ]
  },
  {
   "cell_type": "code",
   "execution_count": 4,
   "metadata": {},
   "outputs": [],
   "source": [
    "def prompt(user_prompt):\n",
    "    \n",
    "    assistant_response = chain.invoke({\n",
    "    \"input\": user_prompt,\n",
    "    \"chat_history\": chat_with_history.messages})\n",
    "    print(assistant_response.strip().replace(\". \", \".\\n\"))\n",
    "    "
   ]
  },
  {
   "cell_type": "markdown",
   "metadata": {},
   "source": [
    "# Prompt categories"
   ]
  },
  {
   "cell_type": "markdown",
   "metadata": {},
   "source": [
    "## General advice "
   ]
  },
  {
   "cell_type": "code",
   "execution_count": 11,
   "metadata": {},
   "outputs": [
    {
     "name": "stdout",
     "output_type": "stream",
     "text": [
      "BMI, or Body Mass Index, is a measure of body weight relative to height.\n",
      "It is calculated by multiplying your weight in pounds by 703 and then dividing the product by your height in inches squared.\n",
      "The formula is:\n",
      "\n",
      "BMI = [weight (lb) x 703] ÷ height (in)²\n",
      "\n",
      "Alternatively, you can also calculate BMI by dividing your weight in kilograms by your height in meters squared:\n",
      "\n",
      "BMI = [weight (kg)] ÷ height (m)²\n",
      "\n",
      "To determine whether your BMI is obese or not, you can refer to the BMI categories:\n",
      "\n",
      "- Underweight: BMI < 18.5\n",
      "- Healthy or Normal weight: BMI = 18.5-24.9\n",
      "- Overweight: BMI = 25-29.9\n",
      "- Obese: BMI > 30.0\n",
      "\n",
      "You can also use online BMI calculators provided by reputable sources such as the National Heart, Lung, and Blood Institute (https://www.nhlbisupport.com/bmi/) or the Centers for Disease Control and Prevention (https://www.cdc.gov/healthyweight/assessing/bmi/adult_bmi/english_bmi_calculator/bmi_calculator.html).\n"
     ]
    }
   ],
   "source": [
    "prompt(\"What is BMI, and how is it calculated? and how can I determine whether the BMI is obese or not?\")"
   ]
  },
  {
   "cell_type": "markdown",
   "metadata": {},
   "source": [
    "[Reference link ](https://www.nhlbi.nih.gov/health/educational/lose_wt/BMI/bmicalc.htm) for BMI calculations"
   ]
  },
  {
   "cell_type": "code",
   "execution_count": 10,
   "metadata": {},
   "outputs": [
    {
     "name": "stdout",
     "output_type": "stream",
     "text": [
      "Sleep has a significant impact on mental health.\n",
      "Inadequate sleep or poor sleep quality can increase the risk of developing mental health conditions such as depression.\n",
      "Additionally, abnormal breathing during sleep, also known as sleep apnea, is linked to an increased risk of chronic disease.\n"
     ]
    }
   ],
   "source": [
    "prompt(\"How does sleep affect mental health?\")"
   ]
  },
  {
   "cell_type": "markdown",
   "metadata": {},
   "source": [
    "old response: Sleep can affect mental health in several ways. Inadequate amounts of sleep or not sleeping well can increase the risk for depression.\n",
    "\n",
    "issue: the answer is too vague because it was answered completely based on the document.\n",
    "\n",
    "fix: we modified the system prompt so that if the answer was unclear like this to answer based on combination of the document and it's knowledge "
   ]
  },
  {
   "cell_type": "code",
   "execution_count": 14,
   "metadata": {},
   "outputs": [
    {
     "name": "stdout",
     "output_type": "stream",
     "text": [
      "The main difference between \"bad\" and \"good\" cholesterol lies in their functions and effects on the body.\n",
      "\n",
      "\"Bad\" cholesterol, also known as low-density lipoprotein (LDL), carries cholesterol from the liver to the cells and can accumulate in the walls of the arteries, leading to plaque buildup and increased risk of heart disease.\n",
      "High levels of LDL cholesterol can cause the arteries to narrow and harden, making it more difficult for blood to flow and increasing the risk of heart attack and stroke.\n",
      "\n",
      "On the other hand, \"good\" cholesterol, also known as high-density lipoprotein (HDL), carries excess cholesterol from the cells to the liver for removal.\n",
      "HDL helps to remove excess cholesterol from the bloodstream and transport it to the liver, where it is either reused or excreted.\n",
      "High levels of HDL cholesterol are associated with a lower risk of heart disease.\n",
      "\n",
      "In simple terms, LDL cholesterol is like a delivery truck that brings cholesterol to the cells, while HDL cholesterol is like a garbage truck that takes away excess cholesterol from the cells and removes it from the body.\n"
     ]
    }
   ],
   "source": [
    "prompt(\"can you explain the difference between the bad and good cholesterol ?\")"
   ]
  },
  {
   "cell_type": "markdown",
   "metadata": {},
   "source": [
    "[Reference link ](https://my.clevelandclinic.org/health/articles/11920-cholesterol-numbers-what-do-they-mean) for cholesterol difference"
   ]
  },
  {
   "cell_type": "code",
   "execution_count": 15,
   "metadata": {},
   "outputs": [
    {
     "name": "stdout",
     "output_type": "stream",
     "text": [
      "Intermittent fasting (IF) can have both positive and negative effects on metabolism, depending on the individual and the specific fasting regimen.\n",
      "\n",
      "Positive effects on metabolism:\n",
      "\n",
      "1.\n",
      "Increased fat burning: IF can lead to increased fat burning as the body adapts to using stored fat for energy instead of relying on glucose from food.\n",
      "2.\n",
      "Improved insulin sensitivity: IF has been shown to improve insulin sensitivity, which can help prevent or manage type 2 diabetes.\n",
      "3.\n",
      "Increased human growth hormone (HGH) production: IF has been linked to increased production of HGH, which can help with weight loss and muscle gain.\n",
      "4.\n",
      "Autophagy: IF can stimulate autophagy, a natural process in which the body breaks down and recycles damaged cells and proteins.\n",
      "\n",
      "Negative effects on metabolism:\n",
      "\n",
      "1.\n",
      "Reduced muscle mass: IF can lead to muscle loss if the body is not receiving enough protein to support muscle growth and maintenance.\n",
      "2.\n",
      "Decreased leptin levels: IF can lead to decreased leptin levels, which can increase hunger and make it harder to stick to a diet.\n",
      "3.\n",
      "Increased cortisol levels: IF can lead to increased cortisol levels, which can have negative effects on metabolism and overall health.\n",
      "\n",
      "Safety of IF for everyone:\n",
      "\n",
      "IF is not suitable for everyone, particularly:\n",
      "\n",
      "1.\n",
      "Pregnant or breastfeeding women: IF can deprive the fetus or baby of essential nutrients.\n",
      "2.\n",
      "Children and teenagers: IF can affect growth and development in young people.\n",
      "3.\n",
      "People with a history of eating disorders: IF can trigger or exacerbate eating disorders such as anorexia nervosa.\n",
      "4.\n",
      "People with certain medical conditions: IF can be contraindicated for people with conditions such as diabetes, low blood pressure, and a history of heart disease.\n",
      "5.\n",
      "Older adults: IF can lead to malnutrition and dehydration in older adults, particularly if they have a history of weight loss or malnutrition.\n",
      "\n",
      "It's essential to consult with a healthcare professional before starting any IF regimen, especially if you have any underlying health conditions or concerns.\n",
      "They can help you determine the best approach for your individual needs and health status.\n"
     ]
    }
   ],
   "source": [
    "prompt(\"How does intermittent fasting impact metabolism, and is it safe for everyone?\")"
   ]
  },
  {
   "cell_type": "markdown",
   "metadata": {},
   "source": [
    "[Reference link ](https://www.healthline.com/nutrition/intermittent-fasting-metabolism)"
   ]
  },
  {
   "cell_type": "code",
   "execution_count": 6,
   "metadata": {},
   "outputs": [
    {
     "name": "stdout",
     "output_type": "stream",
     "text": [
      "Based on the provided information, one basic exercise for beginners is the one-arm lateral pull.\n",
      "This exercise involves standing beside a horizontal or vertical fixed bar, grasping the bar with one hand, and letting yourself fall away from the bar sideways while keeping your body rigid.\n",
      "Then, you pull back using your arm, bringing your elbow in to your ribs.\n",
      "This exercise is suitable for beginners and can also be used as a warm-up.\n",
      "\n",
      "Another exercise mentioned is the one where you are on all fours (kneeling and supporting your body on your hands or elbows) and lift one knee to kick backwards.\n",
      "This exercise is also suitable for beginners and can be modified to shift some of the work to the hamstrings by extending the leg as you extend the hip.\n",
      "\n",
      "Additionally, warming up is essential before starting any exercise routine.\n",
      "A basic warm-up routine can include warming up your joints around the area you intend to work out without using weights, doing a couple of sets of the basic exercise you intend to do first with half the usual weight, and briefly stretching the muscles concerned in the planned exercises.\n"
     ]
    }
   ],
   "source": [
    "prompt(\"What are some basic exercises for beginners?\")"
   ]
  },
  {
   "cell_type": "code",
   "execution_count": 10,
   "metadata": {},
   "outputs": [
    {
     "name": "stdout",
     "output_type": "stream",
     "text": [
      "Cardio and strength training are two different types of exercise that serve distinct purposes.\n",
      "\n",
      "\n",
      "Cardio, short for cardiovascular exercise, is primarily focused on improving the health and efficiency of the heart, lungs, and the body's ability to use oxygen.\n",
      "Cardio exercises, such as running, cycling, or swimming, are typically aerobic, meaning they require oxygen to generate energy.\n",
      "The main goals of cardio training are to improve endurance, increase stamina, and burn calories, which can help with weight loss.\n",
      "\n",
      "Strength training, on the other hand, is focused on building muscle mass and increasing overall muscle strength.\n",
      "This type of training typically involves resistance exercises, such as weightlifting or bodyweight exercises, that challenge the muscles and stimulate growth.\n",
      "The primary goals of strength training are to increase muscle mass, boost metabolism, and improve overall muscle function.\n",
      "\n",
      "While cardio exercises can help with weight loss and improving cardiovascular health, they do not directly contribute to building muscle mass.\n",
      "Conversely, strength training can help improve overall muscle function and boost metabolism, but it may not be as effective for improving cardiovascular health or burning calories.\n",
      "\n",
      "In the context provided, it is mentioned that if your aim is to lose weight or \"define\" your muscles, you will need to concentrate mainly on diet and aerobic exercise (cardio).\n",
      "However, if you want to gain strength, muscle volume, or both, you will need to train using a considerable amount of weight (strength training).\n"
     ]
    }
   ],
   "source": [
    "prompt(\"What is the difference between cardio and strength training?\")"
   ]
  },
  {
   "cell_type": "code",
   "execution_count": 11,
   "metadata": {},
   "outputs": [
    {
     "name": "stdout",
     "output_type": "stream",
     "text": [
      "To perform a squat with proper form, follow these steps:\n",
      "\n",
      "1.\n",
      "Stand with your feet slightly wider than hip-width apart, pointing slightly outward (about 20-30 degrees).\n",
      "This will help you maintain balance and generate power.\n",
      "\n",
      "2.\n",
      "Keep your back straight, with a slight arch in the lower back.\n",
      "This will help distribute the weight and reduce strain on your lower back.\n",
      "\n",
      "3.\n",
      "Bend your knees outward, in line with your feet, until your thighs are almost parallel to the floor.\n",
      "Make sure your knees are above your feet at the bottom of the movement.\n",
      "\n",
      "4.\n",
      "Keep your heels on the ground and avoid lifting them off the floor.\n",
      "If necessary, you can place something low under your heels for support.\n",
      "\n",
      "5.\n",
      "Contract your abdominal and lower back muscles to maintain stability and control throughout the movement.\n",
      "\n",
      "6.\n",
      "Breathe in as you begin bending your knees, hold your breath as you lower down, and exhale as you reach the top of the movement.\n",
      "\n",
      "7.\n",
      "Avoid bending at the waist or leaning forward, as this can put unnecessary strain on your lower back.\n",
      "\n",
      "8.\n",
      "Focus on using your quadriceps, gluteus maximus, and other leg muscles to control the movement and generate power.\n",
      "\n",
      "Remember to start with a weight that feels comfortable and gradually increase the load as you build strength and confidence.\n",
      "It's also essential to practice proper form and technique to minimize the risk of injury.\n"
     ]
    }
   ],
   "source": [
    "prompt(\"Can you explain the proper form for a squat?\")"
   ]
  },
  {
   "cell_type": "code",
   "execution_count": 13,
   "metadata": {},
   "outputs": [
    {
     "name": "stdout",
     "output_type": "stream",
     "text": [
      "High-intensity interval training (HIIT) has several benefits.\n",
      "It can improve cardiovascular health, increase muscle strength and endurance, boost metabolism, and enhance fat loss.\n",
      "HIIT also stimulates the production of certain hormones, such as human growth hormone (HGH) and testosterone, which play a role in muscle growth and development.\n",
      "\n",
      "Specifically, HIIT workouts that involve sub-maximum anaerobic exercises (65-85% intensity) with incomplete recovery (approximately 60 seconds) can stimulate the secretion of HGH.\n",
      "This type of training is particularly effective when combined with exercises that work multiple muscle groups.\n",
      "\n",
      "Additionally, HIIT workouts that focus on maximum strength (80-95% intensity) with short rest periods (30 to 60 seconds) can stimulate the production of testosterone, especially in men.\n",
      "This type of training is particularly effective when combined with exercises that work major muscle groups.\n",
      "\n",
      "Overall, HIIT can be an effective and efficient way to improve overall fitness and promote muscle growth and development.\n"
     ]
    }
   ],
   "source": [
    "prompt(\"What are the benefits of high-intensity interval training (HIIT)?\")"
   ]
  },
  {
   "cell_type": "code",
   "execution_count": 14,
   "metadata": {},
   "outputs": [
    {
     "name": "stdout",
     "output_type": "stream",
     "text": [
      "To create a balanced weekly workout routine, consider the following steps:\n",
      "\n",
      "1.\n",
      "Determine your fitness goals and objectives: Are you looking to build muscle, increase endurance, or improve overall health? This will help you decide on the type and intensity of your workouts.\n",
      "\n",
      "2.\n",
      "Choose the right frequency: Aim for 3-6 days of workouts per week, depending on your intensity level, fitness level, and available time.\n",
      "If your workouts are very intense, you may only need to work out 3 times a week.\n",
      "\n",
      "3.\n",
      "Divide your workouts by muscle group: Allocate specific days for large muscle groups (e.g., chest, back, legs) and smaller muscle groups (e.g., shoulders, arms, core).\n",
      "Aim for 2-4 exercises per muscle group, with more exercises for larger groups and fewer for smaller groups.\n",
      "\n",
      "4.\n",
      "Prioritize exercises: Start with the most hazardous exercises (e.g., bench press) and move on to safer ones (e.g., pushups).\n",
      "Begin with atrophied or weaker muscles and progress to hypertrophied ones.\n",
      "Use free weights before machines, and start with combined exercises before moving on to simpler ones.\n",
      "\n",
      "5.\n",
      "Allow for rest and recovery: Rest for 1-3 minutes between sets, depending on the muscle group and intensity.\n",
      "Ensure you get 8-9 hours of sleep per night and maintain a balanced diet with sufficient hydration.\n",
      "\n",
      "6.\n",
      "Make adjustments as needed: Be prepared to make weekly changes to your routine if you experience stagnation, discomfort, injury, or changes in your goals or schedule.\n",
      "Consider consulting with a trainer or doctor for personalized advice.\n",
      "\n",
      "7.\n",
      "Incorporate progressive overload: Gradually increase the intensity of your workouts over time by adding weight, reps, or sets to challenge your muscles and promote growth.\n",
      "\n",
      "8.\n",
      "Include variety in your routine: Mix up your exercises and workouts every few months to avoid plateaus and prevent overuse injuries.\n",
      "\n",
      "By following these steps, you can create a balanced and effective weekly workout routine that suits your needs and goals.\n"
     ]
    }
   ],
   "source": [
    "prompt(\"How can I create a balanced weekly workout routine?\")"
   ]
  },
  {
   "cell_type": "code",
   "execution_count": 15,
   "metadata": {},
   "outputs": [
    {
     "name": "stdout",
     "output_type": "stream",
     "text": [
      "Although the provided context does not specifically mention exercises targeting the core muscles, I can provide some general information on effective core exercises.\n",
      "\n",
      "Some effective exercises that target the core muscles include:\n",
      "\n",
      "1.\n",
      "Plank: This exercise targets the rectus abdominis, transverse abdominis, and obliques.\n",
      "It involves holding a position with your hands under your shoulders and your toes on the ground, engaging your core muscles to support your body.\n",
      "\n",
      "2.\n",
      "Russian twists: This exercise targets the obliques.\n",
      "It involves sitting on the floor with your knees bent and feet flat, leaning back slightly, and twisting your torso from side to side.\n",
      "\n",
      "3.\n",
      "Leg raises: This exercise targets the lower abs.\n",
      "It involves lying on your back with your arms extended overhead and raising your legs straight up towards the ceiling.\n",
      "\n",
      "4.\n",
      "Bicycle crunches: This exercise targets the entire core, including the rectus abdominis and obliques.\n",
      "It involves lying on your back with your hands behind your head and alternating bringing your knees towards your chest, as if pedaling a bicycle.\n",
      "\n",
      "5.\n",
      "Pallof press: This exercise targets the rotational strength of the core.\n",
      "It involves holding a resistance band or cable handle and pressing it away from your body, keeping your core muscles engaged to maintain control.\n",
      "\n",
      "These are just a few examples of effective core exercises.\n",
      "It's essential to incorporate a variety of exercises into your workout routine to target all the muscles in your core.\n"
     ]
    }
   ],
   "source": [
    "prompt(\"What exercises target the core muscles effectively?\")"
   ]
  },
  {
   "cell_type": "code",
   "execution_count": 17,
   "metadata": {},
   "outputs": [
    {
     "name": "stdout",
     "output_type": "stream",
     "text": [
      "To design a workout plan for building muscle while losing fat, you should focus on a combination of resistance training and a calorie-controlled diet.\n",
      "Here are some key points to consider:\n",
      "\n",
      "1.\n",
      "**Resistance Training**: Incorporate weightlifting exercises that work multiple muscle groups at once, such as squats, deadlifts, and bench press.\n",
      "This will help you build muscle mass.\n",
      "2.\n",
      "**Progressive Overload**: Gradually increase the weight or resistance you're lifting over time to challenge your muscles and stimulate growth.\n",
      "3.\n",
      "**Aerobic Exercise**: Include some form of aerobic exercise, such as cardio, to help with fat loss.\n",
      "However, keep in mind that anaerobic exercises (like weightlifting) can also burn calories and contribute to fat loss.\n",
      "4.\n",
      "**Diet**: Focus on a calorie-controlled diet that provides enough protein to support muscle growth.\n",
      "Aim for a caloric deficit to promote fat loss, but not so low that it hinders muscle growth.\n",
      "5.\n",
      "**Specificity and Transfer Principle**: Train for strength and muscle volume by using considerable weight, and focus on diet for fat loss and muscle definition.\n",
      "6.\n",
      "**Consistency and Patience**: Building muscle and losing fat takes time and consistency.\n",
      "Make sure to stick to your workout plan and diet for an extended period to see results.\n",
      "\n",
      "A sample workout plan might include:\n",
      "\n",
      "* 3-4 days of weightlifting per week, focusing on compound exercises like squats, deadlifts, and bench press\n",
      "* 1-2 days of cardio per week, such as jogging or cycling\n",
      "* A calorie-controlled diet with a balance of protein, carbohydrates, and healthy fats\n",
      "* Progressive overload by increasing weight or resistance over time\n",
      "* Adequate rest and recovery time to allow muscles to grow and repair.\n",
      "\n",
      "Remember, everyone's body is different, and it's essential to consult with a healthcare professional or certified personal trainer to create a personalized workout plan that suits your needs and goals.\n"
     ]
    }
   ],
   "source": [
    "prompt(\"How can I design a workout plan for building muscle while losing fat?\")"
   ]
  },
  {
   "cell_type": "code",
   "execution_count": 18,
   "metadata": {},
   "outputs": [
    {
     "name": "stdout",
     "output_type": "stream",
     "text": [
      "If you have knee pain, there are several adjustments you can make to your workouts to help alleviate the discomfort and prevent further injury.\n",
      "\n",
      "\n",
      "Firstly, avoid exercises that exacerbate the pain or put excessive stress on the knee joint.\n",
      "This may include high-impact activities such as running or jumping, as well as deep knee bends or heavy squats.\n",
      "\n",
      "Secondly, incorporate exercises that strengthen the muscles surrounding the knee, such as the quadriceps, hamstrings, and calf muscles.\n",
      "Strengthening these muscles can help provide additional support and stability to the knee joint.\n",
      "\n",
      "Thirdly, consider modifying your exercises to reduce the stress on your knees.\n",
      "For example, you can try using lighter weights, reducing the range of motion, or switching to low-impact exercises such as cycling or swimming.\n",
      "\n",
      "Additionally, pay attention to your form and technique when performing exercises.\n",
      "Avoid bouncing or jerking movements, and try to maintain a smooth, controlled motion.\n",
      "This can help reduce the stress on your knee joint and prevent further injury.\n",
      "\n",
      "It's also essential to listen to your body and take regular breaks to rest and recover.\n",
      "If your knee pain persists or worsens, consult with a healthcare professional or a qualified fitness trainer to develop a workout plan that's tailored to your specific needs and abilities.\n",
      "\n",
      "In the context of the provided exercises, it's recommended to avoid letting the ligaments that stabilize the knees take the entire weight, and to use a slight knee bend and the resulting contraction of the muscles surrounding the knees to help prevent injury.\n",
      "It's also crucial to avoid common mistakes such as bouncing without controlling the weight, using too much weight, and not resting enough of the foot on the platform.\n"
     ]
    }
   ],
   "source": [
    "prompt(\"What adjustments should I make to my workouts if I have knee pain?\")"
   ]
  },
  {
   "cell_type": "code",
   "execution_count": 16,
   "metadata": {},
   "outputs": [
    {
     "name": "stdout",
     "output_type": "stream",
     "text": [
      "Progressive overload is a training principle that involves gradually increasing the intensity of workouts over time to continue making progress and achieving gains in strength and muscle growth.\n",
      "This can be achieved by increasing the weight used, the number of repetitions, or the frequency of workouts.\n",
      "\n",
      "Progressive overload is important because it allows the body to adapt to the demands placed upon it and to continue making progress.\n",
      "When the body is subjected to a new stimulus, such as a new exercise or a heavier weight, it adapts by becoming stronger and more resilient.\n",
      "However, if the stimulus remains the same over time, the body will eventually adapt to the point where no further progress is made.\n",
      "\n",
      "By progressively increasing the intensity of workouts, individuals can continue to challenge their bodies and stimulate further growth and adaptation.\n",
      "This is particularly important for individuals looking to build muscle or increase strength, as it allows them to continue making progress and achieving their goals.\n",
      "\n",
      "In practical terms, progressive overload can be achieved by:\n",
      "\n",
      "* Increasing the weight used over time\n",
      "* Increasing the number of repetitions performed\n",
      "* Decreasing rest time between sets and exercises\n",
      "* Increasing the frequency of workouts\n",
      "* Changing the type of exercise or training program to continue challenging the body.\n",
      "\n",
      "Overall, progressive overload is a key principle of effective training and is essential for achieving long-term progress and success in strength training and muscle building.\n"
     ]
    }
   ],
   "source": [
    "prompt(\"What is progressive overload, and why is it important?\")"
   ]
  },
  {
   "cell_type": "code",
   "execution_count": 20,
   "metadata": {},
   "outputs": [
    {
     "name": "stdout",
     "output_type": "stream",
     "text": [
      "It is recommended to exercise between 3 and 6 days per week, depending on the intensity of your workouts, your level of fitness, and your available time.\n"
     ]
    }
   ],
   "source": [
    "prompt(\"How many times a week should I exercise to stay healthy?\")"
   ]
  },
  {
   "cell_type": "code",
   "execution_count": 21,
   "metadata": {},
   "outputs": [
    {
     "name": "stdout",
     "output_type": "stream",
     "text": [
      "Cardio and strength training are two different types of exercise that serve distinct purposes and offer unique benefits.\n",
      "\n",
      "Cardio, short for cardiovascular exercise, is designed to improve the health and efficiency of the heart, lungs, and circulatory system.\n",
      "It typically involves aerobic activities such as running, cycling, swimming, or brisk walking that raise your heart rate and increase blood flow.\n",
      "The primary goal of cardio exercise is to improve cardiovascular health, increase endurance, and burn calories.\n",
      "\n",
      "Strength training, on the other hand, is a type of exercise that focuses on building muscle mass and increasing overall strength.\n",
      "It typically involves weightlifting, resistance band exercises, or bodyweight exercises that challenge the muscles and stimulate growth.\n",
      "The primary goal of strength training is to improve muscular strength, endurance, and overall muscle mass.\n",
      "\n",
      "While cardio exercise is essential for heart health and weight management, strength training is crucial for building and maintaining muscle mass, bone density, and overall physical function.\n",
      "A well-rounded fitness routine should include a combination of both cardio and strength training exercises to achieve overall health and fitness.\n"
     ]
    }
   ],
   "source": [
    "prompt(\"What is the difference between cardio and strength training?\")"
   ]
  },
  {
   "cell_type": "markdown",
   "metadata": {},
   "source": [
    "Workout plans"
   ]
  },
  {
   "cell_type": "code",
   "execution_count": 22,
   "metadata": {},
   "outputs": [
    {
     "name": "stdout",
     "output_type": "stream",
     "text": [
      "Based on the provided context and general knowledge, I'll create a workout plan for you.\n",
      "Since you're 178 cm tall and weigh 80 kg, and your goal is to lose fat, I'll focus on a combination of aerobic exercise and weight training.\n",
      "\n",
      "**Warm-up (10-15 minutes)**\n",
      "\n",
      "1.\n",
      "Light cardio such as jogging, cycling, or rowing to get your heart rate up and warm your muscles.\n",
      "2.\n",
      "Dynamic stretching, such as leg swings, arm circles, and torso twists.\n",
      "\n",
      "**Monday (Chest and Triceps)**\n",
      "\n",
      "1.\n",
      "Barbell Bench Press (3 sets of 8-12 reps)\n",
      "2.\n",
      "Incline Dumbbell Press (3 sets of 10-15 reps)\n",
      "3.\n",
      "Cable Flyes (3 sets of 12-15 reps)\n",
      "4.\n",
      "Tricep Pushdowns (3 sets of 10-12 reps)\n",
      "5.\n",
      "Tricep Dips (3 sets of 12-15 reps)\n",
      "6.\n",
      "Overhead Dumbbell Extension (3 sets of 12-15 reps)\n",
      "\n",
      "**Tuesday (Back and Biceps)**\n",
      "\n",
      "1.\n",
      "Pull-ups or Lat Pulldowns (3 sets of 8-12 reps)\n",
      "2.\n",
      "Barbell Rows (3 sets of 8-12 reps)\n",
      "3.\n",
      "Seated Cable Rows (3 sets of 10-12 reps)\n",
      "4.\n",
      "Dumbbell Bicep Curls (3 sets of 10-12 reps)\n",
      "5.\n",
      "Hammer Curls (3 sets of 10-12 reps)\n",
      "6.\n",
      "Preacher Curls (3 sets of 10-12 reps)\n",
      "\n",
      "**Wednesday (Rest Day)**\n",
      "\n",
      "**Thursday (Legs)**\n",
      "\n",
      "1.\n",
      "Squats (3 sets of 8-12 reps)\n",
      "2.\n",
      "Leg Press (3 sets of 10-12 reps)\n",
      "3.\n",
      "Lunges (3 sets of 10-12 reps per leg)\n",
      "4.\n",
      "Leg Extensions (3 sets of 12-15 reps)\n",
      "5.\n",
      "Leg Curls (3 sets of 10-12 reps)\n",
      "6.\n",
      "Calf Raises (3 sets of 12-15 reps)\n",
      "\n",
      "**Friday (Shoulders and Abs)**\n",
      "\n",
      "1.\n",
      "Dumbbell Shoulder Press (3 sets of 8-12 reps)\n",
      "2.\n",
      "Lateral Raises (3 sets of 10-12 reps)\n",
      "3.\n",
      "Rear Delt Flyes (3 sets of 12-15 reps)\n",
      "4.\n",
      "Hanging Leg Raises (3 sets of 10-12 reps)\n",
      "5.\n",
      "Planks (3 sets of 30-60 seconds)\n",
      "6.\n",
      "Russian Twists (3 sets of 10-12 reps per side)\n",
      "\n",
      "**Saturday and Sunday (Rest Days)**\n",
      "\n",
      "**Aerobic Exercise (30-45 minutes, 3-4 times a week)**\n",
      "\n",
      "Choose one or a combination of the following:\n",
      "\n",
      "* Jogging\n",
      "* Cycling\n",
      "* Rowing\n",
      "* Swimming\n",
      "* High-Intensity Interval Training (HIIT)\n",
      "\n",
      "**Diet**\n",
      "\n",
      "To support your weight loss goal, focus on a balanced diet with a caloric deficit.\n",
      "Aim for:\n",
      "\n",
      "* 1.6-2.2 grams of protein per kilogram of body weight (128-176 grams for you)\n",
      "* 2-3 grams of complex carbohydrates per kilogram of body weight (160-240 grams for you)\n",
      "* 0.5-1 gram of healthy fats per kilogram of body weight (40-80 grams for you)\n",
      "\n",
      "Eat plenty of fruits, vegetables, whole grains, lean proteins, and healthy fats.\n",
      "Avoid processed foods, sugary drinks, and saturated fats.\n",
      "\n",
      "**Progressive Overload**\n",
      "\n",
      "Gradually increase the weight or resistance you're lifting over time to challenge your muscles and promote progress.\n",
      "\n",
      "Remember to listen to your body and adjust the workout plan as needed.\n",
      "It's also essential to consult with a healthcare professional or certified personal trainer before starting any new exercise program.\n"
     ]
    }
   ],
   "source": [
    "prompt(\"please make me a workout plan for a 80 kg and 178 cm and i want to lose fat ?\" )"
   ]
  },
  {
   "cell_type": "code",
   "execution_count": 23,
   "metadata": {},
   "outputs": [
    {
     "name": "stdout",
     "output_type": "stream",
     "text": [
      "As a busy 40-year-old mother, it can be challenging to find time for exercise.\n",
      "Here are some easy and quick exercises that can help you lose weight:\n",
      "\n",
      "**Bodyweight exercises:**\n",
      "\n",
      "1.\n",
      "Squats: Stand with your feet shoulder-width apart, then bend your knees and lower your body down.\n",
      "Stand up and repeat for 10-15 reps.\n",
      "2.\n",
      "Push-ups: Start in a plank position, lower your body down until your chest almost touches the ground, then push back up.\n",
      "Do 10-15 reps.\n",
      "3.\n",
      "Lunges: Stand with your feet together, take a large step forward with one foot, and lower your body down.\n",
      "Push back up and repeat on the other side.\n",
      "Do 10-15 reps on each side.\n",
      "4.\n",
      "Planks: Hold a plank position for 30-60 seconds, rest for 30 seconds, and repeat for 3-5 sets.\n",
      "5.\n",
      "Leg raises: Lie on your back with your arms extended overhead, raise one leg 6-8 inches off the ground, and lower it back down.\n",
      "Do 10-15 reps on each side.\n",
      "\n",
      "**Quick workouts:**\n",
      "\n",
      "1.\n",
      "7-minute workout: Do 12 bodyweight exercises in 7 minutes, with 30 seconds of rest between each exercise.\n",
      "2.\n",
      "High-intensity interval training (HIIT): Alternate between 30 seconds of intense exercise (e.g., burpees, jump squats) and 30 seconds of rest.\n",
      "Repeat for 15-20 minutes.\n",
      "\n",
      "**Home workout routines:**\n",
      "\n",
      "1.\n",
      "Yoga: Follow along with a 10-20 minute yoga video at home, focusing on poses that target your core, arms, and legs.\n",
      "2.\n",
      "Dance workouts: Put on some upbeat music and dance for 20-30 minutes, incorporating movements that get your heart rate up and work your muscles.\n",
      "\n",
      "**Tips:**\n",
      "\n",
      "1.\n",
      "Start small: Begin with short workouts (10-15 minutes) and gradually increase the duration and intensity as you get more comfortable.\n",
      "2.\n",
      "Schedule it in: Treat exercise as a non-negotiable part of your daily routine, just like brushing your teeth or taking a shower.\n",
      "3.\n",
      "Find a workout buddy: Exercise with a friend or family member to make it more enjoyable and help you stay accountable.\n",
      "4.\n",
      "Make it convenient: Find exercises that can be done at home, during commercial breaks while watching TV, or during your lunch break at work.\n",
      "\n",
      "Remember to always listen to your body and consult with a healthcare professional before starting any new exercise routine.\n"
     ]
    }
   ],
   "source": [
    "prompt(\"i am 40 years old mother and i dont have alot of time in my day can you give me some easy exercises to lose weght ?\")"
   ]
  },
  {
   "cell_type": "code",
   "execution_count": 24,
   "metadata": {},
   "outputs": [
    {
     "name": "stdout",
     "output_type": "stream",
     "text": [
      "Losing 10 kg can be challenging, but it's achievable with a combination of healthy diet and regular exercise.\n",
      "Given your busy schedule, I'll suggest some simple and time-efficient tips to help you get started.\n",
      "\n",
      "**Diet:**\n",
      "\n",
      "1.\n",
      "Eat a balanced diet with plenty of fruits, vegetables, whole grains, lean proteins, and healthy fats.\n",
      "Aim for 5-6 meals a day, including 3 main meals, 2-3 snacks, and 1-2 healthy beverages.\n",
      "2.\n",
      "Incorporate raw and boiled vegetables into your meals to reduce calorie intake.\n",
      "Some examples include leafy greens, broccoli, carrots, and sweet potatoes.\n",
      "3.\n",
      "Include protein-rich foods like fish, eggs, lean meats, and legumes to help build and repair muscles.\n",
      "4.\n",
      "Limit your intake of sugary drinks, fast food, and processed snacks.\n",
      "\n",
      "**Exercise:**\n",
      "\n",
      "1.\n",
      "Aim for at least 30 minutes of moderate-intensity exercise per day.\n",
      "You can break this down into shorter sessions of 10-15 minutes, 2-3 times a day.\n",
      "2.\n",
      "Incorporate simple activities into your daily routine, such as:\n",
      "\t* Taking the stairs instead of the elevator\n",
      "\t* Walking or cycling to school or nearby places\n",
      "\t* Doing household chores at a faster pace\n",
      "\t* Dancing or stretching during breaks\n",
      "3.\n",
      "Try to schedule 2-3 days of more intense exercise, such as:\n",
      "\t* Brisk walking or jogging\n",
      "\t* Bodyweight exercises like push-ups, squats, or lunges\n",
      "\t* Yoga or Pilates\n",
      "\n",
      "**Time-efficient tips:**\n",
      "\n",
      "1.\n",
      "Wake up 15-30 minutes earlier each day to fit in some exercise or stretching.\n",
      "2.\n",
      "Use your lunch break to take a short walk or do some stretching exercises.\n",
      "3.\n",
      "Try to do household chores or gardening, which can be a great way to get some physical activity while also being productive.\n",
      "4.\n",
      "Use a fitness app or YouTube video to guide you through quick and effective workouts.\n",
      "\n",
      "**Remember:**\n",
      "\n",
      "1.\n",
      "Losing weight too quickly is not healthy.\n",
      "Aim for a slow and steady weight loss of 0.5-1 kg per week.\n",
      "2.\n",
      "Consult with a healthcare professional or a registered dietitian to create a personalized plan that suits your needs and lifestyle.\n",
      "3.\n",
      "Be patient and consistent.\n",
      "Losing weight takes time and effort, but the results will be worth it.\n",
      "\n",
      "I hope these tips help you get started on your weight loss journey.\n",
      "Remember to stay positive and focused, and don't hesitate to reach out if you have any further questions or concerns!\n"
     ]
    }
   ],
   "source": [
    "prompt(\"i am 17 years old and i want to lose 10 kg but i dont have much time in my day can you help me ?\")"
   ]
  },
  {
   "cell_type": "code",
   "execution_count": 26,
   "metadata": {},
   "outputs": [
    {
     "name": "stdout",
     "output_type": "stream",
     "text": [
      "Walking 5 km a day can have several positive effects on your health.\n",
      "As mentioned earlier, even slightly increased activity can lead to physical benefits.\n",
      "Some of the benefits you may experience from walking 5 km a day include:\n",
      "\n",
      "1.\n",
      "Longer life: Regular walking can reduce your risk of dying early from heart disease, certain cancers, and other leading causes of death.\n",
      "2.\n",
      "Healthier weight: Walking, combined with a healthy and balanced eating plan, can help you lose extra weight, maintain weight loss, or prevent excessive weight gain.\n",
      "3.\n",
      "Cardiovascular disease prevention: Walking boosts HDL (good) cholesterol and decreases unhealthy triglycerides, which can help prevent cardiovascular disease.\n",
      "\n",
      "Additionally, walking can also have other benefits such as:\n",
      "\n",
      "* Improved mental health and mood\n",
      "* Increased energy levels\n",
      "* Better sleep quality\n",
      "* Reduced risk of chronic diseases, such as type 2 diabetes and certain types of cancer\n",
      "* Improved bone density, reducing the risk of osteoporosis and fractures\n",
      "\n",
      "However, it's essential to note that walking 5 km a day can also have some negative effects if you're not used to it, such as:\n",
      "\n",
      "* Fatigue and muscle soreness, especially if you're new to regular walking\n",
      "* Increased risk of injury, such as foot or ankle problems, if you don't wear proper footwear or have poor walking technique\n",
      "\n",
      "To minimize the risks and maximize the benefits, make sure to:\n",
      "\n",
      "* Wear comfortable and supportive shoes\n",
      "* Stretch before and after walking\n",
      "* Stay hydrated and bring water with you\n",
      "* Listen to your body and rest when needed\n",
      "* Gradually increase your walking distance and intensity over time\n",
      "\n",
      "Overall, walking 5 km a day can be a great way to improve your physical and mental health, and it's a habit that you can maintain even with a busy schedule.\n"
     ]
    }
   ],
   "source": [
    "prompt(\"I work at a far place from home and i walk 5 km a day how can this affect my health ?\")  "
   ]
  },
  {
   "cell_type": "code",
   "execution_count": 27,
   "metadata": {},
   "outputs": [
    {
     "name": "stdout",
     "output_type": "stream",
     "text": [
      "As a vegetarian, you can follow a weight loss diet that is rich in nutrients and low in calories.\n",
      "Here's a sample 7-day meal plan for you:\n",
      "\n",
      "**Monday**\n",
      "\n",
      "* Breakfast: Oatmeal with fruits and nuts (250 calories)\n",
      "\t+ 1 cup cooked oatmeal\n",
      "\t+ 1/2 cup mixed berries\n",
      "\t+ 1 tablespoon chopped almonds\n",
      "* Lunch: Vegetable stir-fry with brown rice (400 calories)\n",
      "\t+ 1 cup cooked brown rice\n",
      "\t+ 1 cup mixed vegetables (broccoli, bell peppers, carrots)\n",
      "\t+ 1 tablespoon olive oil\n",
      "* Snack: Carrot sticks with hummus (100 calories)\n",
      "\t+ 4-5 carrot sticks\n",
      "\t+ 2 tablespoons hummus\n",
      "* Dinner: Lentil soup with whole wheat bread (500 calories)\n",
      "\t+ 1 cup cooked lentils\n",
      "\t+ 2 slices whole wheat bread\n",
      "\n",
      "**Tuesday**\n",
      "\n",
      "* Breakfast: Greek yogurt with fruits and granola (300 calories)\n",
      "\t+ 1 cup Greek yogurt\n",
      "\t+ 1/2 cup mixed berries\n",
      "\t+ 2 tablespoons granola\n",
      "* Lunch: Grilled vegetable sandwich (400 calories)\n",
      "\t+ 2 slices whole wheat bread\n",
      "\t+ 1 cup mixed vegetables (cucumber, tomato, bell peppers)\n",
      "\t+ 1 tablespoon hummus\n",
      "* Snack: Apple slices with almond butter (150 calories)\n",
      "\t+ 1 medium apple\n",
      "\t+ 2 tablespoons almond butter\n",
      "* Dinner: Vegetable curry with brown rice (500 calories)\n",
      "\t+ 1 cup cooked brown rice\n",
      "\t+ 1 cup mixed vegetables (cauliflower, potatoes, peas)\n",
      "\t+ 1 tablespoon olive oil\n",
      "\n",
      "**Wednesday**\n",
      "\n",
      "* Breakfast: Smoothie bowl (350 calories)\n",
      "\t+ 1 cup mixed berries\n",
      "\t+ 1/2 cup Greek yogurt\n",
      "\t+ 1 tablespoon chia seeds\n",
      "\t+ 1 tablespoon granola\n",
      "* Lunch: Quinoa salad with mixed vegetables (450 calories)\n",
      "\t+ 1 cup cooked quinoa\n",
      "\t+ 1 cup mixed vegetables (cucumber, tomato, bell peppers)\n",
      "\t+ 1 tablespoon olive oil\n",
      "* Snack: Cucumber slices with dill dip (100 calories)\n",
      "\t+ 4-5 cucumber slices\n",
      "\t+ 2 tablespoons dill dip\n",
      "* Dinner: Grilled tofu with roasted vegetables (400 calories)\n",
      "\t+ 3 oz grilled tofu\n",
      "\t+ 1 cup mixed vegetables (broccoli, carrots, bell peppers)\n",
      "\n",
      "**Thursday**\n",
      "\n",
      "* Breakfast: Whole wheat toast with avocado and tomato (300 calories)\n",
      "\t+ 2 slices whole wheat bread\n",
      "\t+ 1/2 avocado\n",
      "\t+ 1 medium tomato\n",
      "* Lunch: Lentil soup with whole wheat bread (500 calories)\n",
      "\t+ 1 cup cooked lentils\n",
      "\t+ 2 slices whole wheat bread\n",
      "* Snack: Rice cakes with almond butter and banana slices (150 calories)\n",
      "\t+ 2 rice cakes\n",
      "\t+ 2 tablespoons almond butter\n",
      "\t+ 1 medium banana\n",
      "* Dinner: Vegetable stir-fry with brown rice (400 calories)\n",
      "\t+ 1 cup cooked brown rice\n",
      "\t+ 1 cup mixed vegetables (cauliflower, potatoes, peas)\n",
      "\t+ 1 tablespoon olive oil\n",
      "\n",
      "**Friday**\n",
      "\n",
      "* Breakfast: Omelette with vegetables (250 calories)\n",
      "\t+ 2 eggs\n",
      "\t+ 1 cup mixed vegetables (bell peppers, onions, mushrooms)\n",
      "* Lunch: Grilled vegetable wrap (400 calories)\n",
      "\t+ 1 whole wheat wrap\n",
      "\t+ 1 cup mixed vegetables (cucumber, tomato, bell peppers)\n",
      "\t+ 1 tablespoon hummus\n",
      "* Snack: Carrot sticks with hummus (100 calories)\n",
      "\t+ 4-5 carrot sticks\n",
      "\t+ 2 tablespoons hummus\n",
      "* Dinner: Vegetable curry with brown rice (500 calories)\n",
      "\t+ 1 cup cooked brown rice\n",
      "\t+ 1 cup mixed vegetables (cauliflower, potatoes, peas)\n",
      "\t+ 1 tablespoon olive oil\n",
      "\n",
      "**Saturday**\n",
      "\n",
      "* Breakfast: Greek yogurt with fruits and granola (300 calories)\n",
      "\t+ 1 cup Greek yogurt\n",
      "\t+ 1/2 cup mixed berries\n",
      "\t+ 2 tablespoons granola\n",
      "* Lunch: Quinoa salad with mixed vegetables (450 calories)\n",
      "\t+ 1 cup cooked quinoa\n",
      "\t+ 1 cup mixed vegetables (cucumber, tomato, bell peppers)\n",
      "\t+ 1 tablespoon olive oil\n",
      "* Snack: Apple slices with almond butter (150 calories)\n",
      "\t+ 1 medium apple\n",
      "\t+ 2 tablespoons almond butter\n",
      "* Dinner: Grilled tofu with roasted vegetables (400 calories)\n",
      "\t+ 3 oz grilled tofu\n",
      "\t+ 1 cup mixed vegetables (broccoli, carrots, bell peppers)\n",
      "\n",
      "**Sunday**\n",
      "\n",
      "* Breakfast: Smoothie bowl (350 calories)\n",
      "\t+ 1 cup mixed berries\n",
      "\t+ 1/2 cup Greek yogurt\n",
      "\t+ 1 tablespoon chia seeds\n",
      "\t+ 1 tablespoon granola\n",
      "* Lunch: Lentil soup with whole wheat bread (500 calories)\n",
      "\t+ 1 cup cooked lentils\n",
      "\t+ 2 slices whole wheat bread\n",
      "* Snack: Cucumber slices with dill dip (100 calories)\n",
      "\t+ 4-5 cucumber slices\n",
      "\t+ 2 tablespoons dill dip\n",
      "* Dinner: Vegetable stir-fry with brown rice (400 calories)\n",
      "\t+ 1 cup cooked brown rice\n",
      "\t+ 1 cup mixed vegetables (cauliflower, potatoes, peas)\n",
      "\t+ 1 tablespoon olive oil\n",
      "\n",
      "Remember to stay hydrated by drinking plenty of water throughout the day.\n",
      "Also, make sure to consult with a healthcare professional or a registered dietitian before starting any new diet.\n",
      "\n",
      "**Tips**\n",
      "\n",
      "* Eat a variety of colorful vegetables to ensure you're getting all the necessary nutrients.\n",
      "* Incorporate healthy fats like nuts, seeds, and avocado into your diet.\n",
      "* Choose whole grains like brown rice, quinoa, and whole wheat bread.\n",
      "* Limit your intake of processed foods and sugary drinks.\n",
      "* Exercise regularly, aiming for at least 150 minutes of moderate-intensity exercise per week.\n",
      "\n",
      "**Nutrient intake**\n",
      "\n",
      "* Protein: 1.6-2.2 grams per kilogram of body weight\n",
      "* Fat: 0.8-1 gram per kilogram of body weight\n",
      "* Carbohydrates: 2-3 grams per kilogram of body weight\n",
      "* Fiber: 25-30 grams per day\n",
      "* Calcium: 1,000-1,200 milligrams per day\n",
      "* Vitamin D: 600-800 IU per day\n",
      "* Iron: 18 milligrams per day\n",
      "* Zinc: 8-11 milligrams per day\n",
      "\n",
      "Please note that this is a sample meal plan and may need to be adjusted based on your individual calorie needs and dietary preferences.\n"
     ]
    }
   ],
   "source": [
    "prompt(\"i am 22 years old fat girl give me am vegetrian diet to lose weight ?\")"
   ]
  },
  {
   "cell_type": "code",
   "execution_count": null,
   "metadata": {},
   "outputs": [
    {
     "name": "stdout",
     "output_type": "stream",
     "text": [
      "Based on the information provided, the recommended protein intake for strength-trained athletes (which would be applicable for muscle gain) is 1.6 to 1.7 grams per kilogram of body weight per day.\n",
      "\n",
      "Since you weigh 50 kg, your ideal protein intake would be:\n",
      "\n",
      "1.6 grams/kg/day: 50 kg x 1.6 grams/kg = 80 grams of protein per day\n",
      "1.7 grams/kg/day: 50 kg x 1.7 grams/kg = 85 grams of protein per day\n",
      "\n",
      "So, your ideal protein intake for muscle gain would be around 80-85 grams of protein per day.\n"
     ]
    }
   ],
   "source": [
    "prompt(\"i am a 50 kg and 170 cm and i want to know what is my ideal protein intake daily inorder to gain muscles ?\")\n",
    "chat_with_history.add_user_message"
   ]
  },
  {
   "cell_type": "code",
   "execution_count": 33,
   "metadata": {},
   "outputs": [
    {
     "name": "stdout",
     "output_type": "stream",
     "text": [
      "To gain weight, you'll need to consume more calories than you burn.\n",
      "Carbohydrates are an important part of this process, as they provide energy for your body.\n",
      "\n",
      "The recommended daily intake of carbohydrates varies based on factors such as age, sex, weight, height, and activity level.\n",
      "For a 60 kg and 179 cm person, a general guideline is to consume 2-3 grams of carbohydrates per kilogram of body weight per day.\n",
      "\n",
      "Based on this guideline, your daily carbohydrate intake would be:\n",
      "\n",
      "* 2 grams/kg/day: 60 kg x 2 g/kg = 120 grams of carbohydrates per day\n",
      "* 3 grams/kg/day: 60 kg x 3 g/kg = 180 grams of carbohydrates per day\n",
      "\n",
      "However, since you're trying to gain weight, you may need to consume more carbohydrates to support muscle growth and weight gain.\n",
      "A more aggressive approach would be to consume 4-5 grams of carbohydrates per kilogram of body weight per day.\n",
      "\n",
      "* 4 grams/kg/day: 60 kg x 4 g/kg = 240 grams of carbohydrates per day\n",
      "* 5 grams/kg/day: 60 kg x 5 g/kg = 300 grams of carbohydrates per day\n",
      "\n",
      "Keep in mind that these are general guidelines, and your individual carbohydrate needs may vary depending on your specific circumstances.\n",
      "It's also important to note that you should focus on consuming complex carbohydrates such as whole grains, fruits, and vegetables, rather than simple carbohydrates like sugary drinks and refined grains.\n",
      "\n",
      "Additionally, you should also consider your overall calorie intake and macronutrient balance to support weight gain.\n",
      "A general guideline is to consume a calorie surplus of 250-500 calories per day above your maintenance level to support weight gain.\n",
      "\n",
      "It's always a good idea to consult with a registered dietitian or a healthcare professional to determine your specific nutritional needs and develop a personalized meal plan.\n"
     ]
    }
   ],
   "source": [
    "prompt(\"i am a 60 kg and 179 cm how much carb should i eat daily in order to gain weight ?\")"
   ]
  },
  {
   "cell_type": "code",
   "execution_count": 34,
   "metadata": {},
   "outputs": [
    {
     "name": "stdout",
     "output_type": "stream",
     "text": [
      "Based on the provided context and general knowledge, I'll create a workout plan for an 80 kg and 192 cm person looking to gain muscle.\n",
      "Please note that this is a general plan and may need to be adjusted based on individual progress and preferences.\n",
      "\n",
      "**Workout Frequency and Split:**\n",
      "To gain muscle, it's recommended to work out 4-5 times per week, with at least one day of rest in between.\n",
      "We'll use a split routine to target different muscle groups on different days.\n",
      "\n",
      "**Day 1: Chest and Triceps**\n",
      "\n",
      "1.\n",
      "Warm-up: 5-10 minutes of cardio (treadmill, bike, or elliptical)\n",
      "2.\n",
      "Barbell Bench Press: 3 sets of 8-12 reps (60-70% of max weight)\n",
      "3.\n",
      "Incline Dumbbell Press: 3 sets of 10-15 reps (50-60% of max weight)\n",
      "4.\n",
      "Cable Flyes: 3 sets of 12-15 reps (40-50% of max weight)\n",
      "5.\n",
      "Tricep Pushdowns: 3 sets of 10-12 reps (50-60% of max weight)\n",
      "6.\n",
      "Overhead Dumbbell Extension: 3 sets of 12-15 reps (40-50% of max weight)\n",
      "7.\n",
      "Cool-down: 5-10 minutes of stretching\n",
      "\n",
      "**Day 2: Back and Biceps**\n",
      "\n",
      "1.\n",
      "Warm-up: 5-10 minutes of cardio\n",
      "2.\n",
      "Pull-ups or Lat Pulldowns: 3 sets of 8-12 reps (60-70% of max weight)\n",
      "3.\n",
      "Barbell Rows: 3 sets of 8-12 reps (60-70% of max weight)\n",
      "4.\n",
      "Seated Cable Rows: 3 sets of 10-12 reps (50-60% of max weight)\n",
      "5.\n",
      "Dumbbell Bicep Curls: 3 sets of 10-12 reps (50-60% of max weight)\n",
      "6.\n",
      "Hammer Curls: 3 sets of 10-12 reps (40-50% of max weight)\n",
      "7.\n",
      "Cool-down: 5-10 minutes of stretching\n",
      "\n",
      "**Day 3: Legs**\n",
      "\n",
      "1.\n",
      "Warm-up: 5-10 minutes of cardio\n",
      "2.\n",
      "Squats: 3 sets of 8-12 reps (60-70% of max weight)\n",
      "3.\n",
      "Leg Press: 3 sets of 10-12 reps (50-60% of max weight)\n",
      "4.\n",
      "Lunges: 3 sets of 10-12 reps (50-60% of max weight)\n",
      "5.\n",
      "Leg Extensions: 3 sets of 12-15 reps (40-50% of max weight)\n",
      "6.\n",
      "Leg Curls: 3 sets of 10-12 reps (50-60% of max weight)\n",
      "7.\n",
      "Cool-down: 5-10 minutes of stretching\n",
      "\n",
      "**Day 4: Shoulders and Abs**\n",
      "\n",
      "1.\n",
      "Warm-up: 5-10 minutes of cardio\n",
      "2.\n",
      "Standing Military Press: 3 sets of 8-12 reps (60-70% of max weight)\n",
      "3.\n",
      "Seated Dumbbell Shoulder Press: 3 sets of 10-12 reps (50-60% of max weight)\n",
      "4.\n",
      "Lateral Raises: 3 sets of 10-12 reps (40-50% of max weight)\n",
      "5.\n",
      "Reverse Flyes: 3 sets of 12-15 reps (30-40% of max weight)\n",
      "6.\n",
      "Planks: 3 sets of 30-60 seconds\n",
      "7.\n",
      "Cool-down: 5-10 minutes of stretching\n",
      "\n",
      "**Day 5 (optional): Arms**\n",
      "\n",
      "1.\n",
      "Warm-up: 5-10 minutes of cardio\n",
      "2.\n",
      "Bench Dips: 3 sets of 10-12 reps (50-60% of max weight)\n",
      "3.\n",
      "Barbell Curls: 3 sets of 10-12 reps (50-60% of max weight)\n",
      "4.\n",
      "Tricep Extensions: 3 sets of 12-15 reps (40-50% of max weight)\n",
      "5.\n",
      "Hammer Curls: 3 sets of 10-12 reps (40-50% of max weight)\n",
      "6.\n",
      "Cool-down: 5-10 minutes of stretching\n",
      "\n",
      "**Progressive Overload:**\n",
      "To gain muscle, it's essential to increase the weight or reps over time.\n",
      "Aim to increase the weight by 2.5-5 kg every two weeks, or as soon as you feel you can lift more.\n",
      "\n",
      "**Nutrition:**\n",
      "To support muscle growth, ensure you're consuming a caloric surplus of 250-500 calories above your maintenance level.\n",
      "Focus on protein-rich foods, aiming for 1.6-2.2 grams of protein per kilogram of body weight.\n",
      "Also, include complex carbohydrates and healthy fats in your diet.\n",
      "\n",
      "**Rest and Recovery:**\n",
      "Adequate rest and recovery are crucial for muscle growth.\n",
      "Ensure you're getting 7-9 hours of sleep per night and taking rest days as needed.\n",
      "\n",
      "Remember, consistency and patience are key.\n",
      "Stick to the plan, and you'll see progress over time.\n"
     ]
    }
   ],
   "source": [
    "prompt(\"can you make me a workout plan for a 80 kg and 192 cm person wants to gain muscle ?\")"
   ]
  },
  {
   "cell_type": "code",
   "execution_count": null,
   "metadata": {},
   "outputs": [],
   "source": [
    "prompt(\"do you know about Dumbbell 6 Ways exersice ?\")"
   ]
  }
 ],
 "metadata": {
  "colab": {
   "name": "Welcome To Colab",
   "provenance": [],
   "toc_visible": true
  },
  "kernelspec": {
   "display_name": "Python 3",
   "name": "python3"
  },
  "language_info": {
   "codemirror_mode": {
    "name": "ipython",
    "version": 3
   },
   "file_extension": ".py",
   "mimetype": "text/x-python",
   "name": "python",
   "nbconvert_exporter": "python",
   "pygments_lexer": "ipython3",
   "version": "3.10.14"
  }
 },
 "nbformat": 4,
 "nbformat_minor": 0
}
