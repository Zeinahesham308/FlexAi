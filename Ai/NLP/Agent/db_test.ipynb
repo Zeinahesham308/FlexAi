{
 "cells": [
  {
   "cell_type": "code",
   "execution_count": 3,
   "metadata": {},
   "outputs": [],
   "source": [
    "import sqlite3\n",
    "import pandas as pd"
   ]
  },
  {
   "cell_type": "code",
   "execution_count": 15,
   "metadata": {},
   "outputs": [],
   "source": [
    "import sqlite3\n",
    "\n",
    "connection = sqlite3.connect(\"gym.db\")\n",
    "\n",
    "def get_exercises(TargetedMuscles: str, MainMuscle: str):\n",
    "    cursor = connection.cursor()\n",
    "    query = \"\"\"\n",
    "        SELECT * \n",
    "        FROM exercises\n",
    "        WHERE targeted_muscles LIKE ?\n",
    "        OR main_muscle LIKE ?;\n",
    "    \"\"\"\n",
    "    # Use '%' wildcard for LIKE\n",
    "    parameters = (f\"%{TargetedMuscles}%\", f\"%{MainMuscle}%\")\n",
    "    cursor.execute(query, parameters)\n",
    "    rows = cursor.fetchall()\n",
    "    \n",
    "    exercises = []\n",
    "    for row in rows:\n",
    "        exercises.append(row)\n",
    "    \n",
    "    return exercises\n"
   ]
  },
  {
   "cell_type": "code",
   "execution_count": 17,
   "metadata": {},
   "outputs": [
    {
     "data": {
      "text/plain": [
       "[]"
      ]
     },
     "execution_count": 17,
     "metadata": {},
     "output_type": "execute_result"
    }
   ],
   "source": [
    "get_exercises('lats', 'Chest')"
   ]
  }
 ],
 "metadata": {
  "kernelspec": {
   "display_name": "lang",
   "language": "python",
   "name": "python3"
  },
  "language_info": {
   "codemirror_mode": {
    "name": "ipython",
    "version": 3
   },
   "file_extension": ".py",
   "mimetype": "text/x-python",
   "name": "python",
   "nbconvert_exporter": "python",
   "pygments_lexer": "ipython3",
   "version": "3.13.0"
  }
 },
 "nbformat": 4,
 "nbformat_minor": 2
}
