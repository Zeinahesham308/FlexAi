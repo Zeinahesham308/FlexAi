{
 "cells": [
  {
   "cell_type": "code",
   "execution_count": 67,
   "metadata": {},
   "outputs": [],
   "source": [
    "import os\n",
    "from typing import  List\n",
    "from pydantic import BaseModel, Field\n",
    "from IPython.display import Image, display\n",
    "from langgraph.graph import START, END, StateGraph\n",
    "from langgraph.checkpoint.memory import MemorySaver\n",
    "from langchain_core.messages import AIMessage, HumanMessage, SystemMessage\n",
    "import sqlite3\n",
    "from langchain.tools import Tool\n",
    "from langchain_core.tools import tool\n",
    "from yaml import load\n",
    "from yaml import SafeLoader\n",
    "connection = sqlite3.connect(\"work_out.db\")"
   ]
  },
  {
   "cell_type": "code",
   "execution_count": 71,
   "metadata": {},
   "outputs": [],
   "source": [
    "config = load(open(\"config.yaml\"), Loader=SafeLoader)"
   ]
  },
  {
   "cell_type": "code",
   "execution_count": 116,
   "metadata": {},
   "outputs": [],
   "source": [
    "os.environ[\"GROQ_API_KEY\"] = config[\"groq\"][\"apiKey\"]\n",
    "from langchain_groq import ChatGroq\n",
    "\n",
    "llm = ChatGroq(\n",
    "    model=\"llama-3.3-70b-versatile\",\n",
    "    temperature=0,\n",
    "    max_tokens=None,\n",
    "    timeout=None,\n",
    "    max_retries=2,\n",
    ")"
   ]
  },
  {
   "cell_type": "code",
   "execution_count": 131,
   "metadata": {},
   "outputs": [],
   "source": [
    "@tool\n",
    "def get_exercises(body_part: str, primary_muscles: str, secondary_muscles: str) -> list:\n",
    "    \"\"\"\n",
    "    Fetches exercises from the SQLite database based on primary and sub muscles.\n",
    "\n",
    "    Args:\n",
    "        body_part (str): The body part to filter exercises by.\n",
    "        primary_muscles (str): Primary muscle group targeted.\n",
    "        secondary_muscles (str): Secondary muscle group targeted.\n",
    "\n",
    "    Returns:\n",
    "        List: A list of exercise names that match the criteria.\n",
    "    \"\"\"\n",
    "    connection = sqlite3.connect(\"work_out.db\")\n",
    "    cursor = connection.cursor()\n",
    "    query = \"\"\"\n",
    "        SELECT exercise \n",
    "        FROM DATASET\n",
    "        WHERE (primary_muscles LIKE ? and secondary_muscles LIKE ?)\n",
    "        AND body_part = ?;\n",
    "    \"\"\"\n",
    "    parameters = (f\"%{primary_muscles}%\", f\"%{secondary_muscles}%\", body_part)\n",
    "    cursor.execute(query, parameters)\n",
    "    rows = cursor.fetchall()\n",
    "    connection.close()\n",
    "    \n",
    "    exercises = [row[0] for row in rows]\n",
    "    return exercises\n"
   ]
  },
  {
   "cell_type": "code",
   "execution_count": 132,
   "metadata": {},
   "outputs": [
    {
     "data": {
      "text/plain": [
       "{'body_part': {'title': 'Body Part', 'type': 'string'},\n",
       " 'primary_muscles': {'title': 'Primary Muscles', 'type': 'string'},\n",
       " 'secondary_muscles': {'title': 'Secondary Muscles', 'type': 'string'}}"
      ]
     },
     "execution_count": 132,
     "metadata": {},
     "output_type": "execute_result"
    }
   ],
   "source": [
    "get_exercises.args"
   ]
  },
  {
   "cell_type": "code",
   "execution_count": 79,
   "metadata": {},
   "outputs": [],
   "source": [
    "class single_exercise(BaseModel):\n",
    "    exercise: str = Field(description=\"exercise name\")\n",
    "    sub_muscles: list [str] = Field(description=\"list of sub_muscle in this exercise\")\n",
    "    primary_muscles:list [ str] = Field(description=\"list of primary muscle in this exercise\")\n",
    "    sets :str = Field(description=\"number of sets\")\n",
    "    reps: str = Field(description=\"number of reps\")\n",
    "    instruction: str = Field(description=\"exercise instruction\")\n",
    "    @property\n",
    "    def summary(self):\n",
    "        return f\"sub_muscle: {self.sub_muscle}, exercise: {self.exercise}, sets: {self.sets}, reps: {self.reps}, details: {self.details}\""
   ]
  },
  {
   "cell_type": "code",
   "execution_count": 140,
   "metadata": {},
   "outputs": [],
   "source": [
    "tools = [get_exercises]"
   ]
  },
  {
   "cell_type": "code",
   "execution_count": 143,
   "metadata": {},
   "outputs": [],
   "source": [
    "llm=llm.bind_tools(tools)"
   ]
  },
  {
   "cell_type": "code",
   "execution_count": 145,
   "metadata": {},
   "outputs": [],
   "source": [
    "msg=llm.invoke(\"i want an good exercise for my lats\")"
   ]
  },
  {
   "cell_type": "code",
   "execution_count": 146,
   "metadata": {},
   "outputs": [
    {
     "data": {
      "text/plain": [
       "[{'name': 'get_exercises',\n",
       "  'args': {'body_part': 'back',\n",
       "   'primary_muscles': 'latissimus dorsi',\n",
       "   'secondary_muscles': ''},\n",
       "  'id': 'call_6xqv',\n",
       "  'type': 'tool_call'}]"
      ]
     },
     "execution_count": 146,
     "metadata": {},
     "output_type": "execute_result"
    }
   ],
   "source": [
    "msg.tool_calls"
   ]
  },
  {
   "cell_type": "code",
   "execution_count": 80,
   "metadata": {},
   "outputs": [],
   "source": [
    "class single_body_part(BaseModel):\n",
    "    body_part: str = Field(description=\"name of the body part\")\n",
    "    exercises: List[single_exercise] = Field(description=\"list of exercises in this body part\")\n",
    "    @property\n",
    "    def summary(self):\n",
    "        return f\"body_part: {self.body_part}, exercises: {self.exercises}\""
   ]
  },
  {
   "cell_type": "code",
   "execution_count": 81,
   "metadata": {},
   "outputs": [],
   "source": [
    "class Perspectives(BaseModel):\n",
    "    muscle_workouts: List[single_body_part] = Field(\n",
    "        description=\"Comprehensive list of all list of body_part_exercises\",\n",
    "    )"
   ]
  },
  {
   "cell_type": "code",
   "execution_count": 94,
   "metadata": {},
   "outputs": [],
   "source": [
    "class agent_state(BaseModel):\n",
    "    \n",
    "    body_part_exercies : List[single_body_part]=Field(description=\"list of body_part_exercises\")\n",
    "    Goal: str=Field(description=\"the Goal of the workout\")\n",
    "    intensity: str=Field(description=\"intensity of the workout\")\n",
    "    tall: int=Field(description=\"height of the user\")\n",
    "    weight: int=Field(description=\"weight of the user\")\n",
    "    human_feedback: str=Field(description=\"human_feedback of the user\")\n",
    "    the_level_of_cardio: str=Field(description=\"the_level_of_cardio of the user\")\n",
    "    \n",
    "    \n",
    "    \n",
    "    @property\n",
    "    def summary(self):\n",
    "        # Generate a summary based on the available fields\n",
    "        return (\n",
    "            f\"Goal: {self.Goal}, \"\n",
    "            f\"Intensity: {self.intensity}, \"\n",
    "            f\"Height: {self.tall} cm, \"\n",
    "            f\"Weight: {self.weight} kg, \"\n",
    "            f\"Cardio Level: {self.the_level_of_cardio}, \"\n",
    "            f\"Human Feedback: {self.human_feedback}\"\n",
    "        )"
   ]
  },
  {
   "cell_type": "code",
   "execution_count": null,
   "metadata": {},
   "outputs": [],
   "source": [
    "fitness_instructions=\"\"\"You are tasked with generating a list of exercises for {body_part} that the user need to train . Follow these instructions carefully:\n",
    "\n",
    "1. First, review the Goal:\n",
    "{Goal} and the height and weight of {tall} and {weight} then specify the level of the_level_of_cardio.\n",
    "        \n",
    "2. Examine any editorial feedback that has been optionally provided to guide creation of the analysts: \n",
    "{human_feedback}\n",
    "3. take notes on the level of {intensity} and / or feedback above.\n",
    "4. you can serach the database for exercies by using tools\n",
    "\"\"\""
   ]
  },
  {
   "cell_type": "code",
   "execution_count": null,
   "metadata": {},
   "outputs": [
    {
     "ename": "AttributeError",
     "evalue": "'ChatGroq' object has no attribute 'tools'",
     "output_type": "error",
     "traceback": [
      "\u001b[1;31m---------------------------------------------------------------------------\u001b[0m",
      "\u001b[1;31mAttributeError\u001b[0m                            Traceback (most recent call last)",
      "Cell \u001b[1;32mIn[95], line 2\u001b[0m\n\u001b[0;32m      1\u001b[0m \u001b[38;5;66;03m#get the tools\u001b[39;00m\n\u001b[1;32m----> 2\u001b[0m tools \u001b[38;5;241m=\u001b[39m \u001b[43mllm\u001b[49m\u001b[38;5;241;43m.\u001b[39;49m\u001b[43mtools\u001b[49m\n",
      "File \u001b[1;32mc:\\Users\\Hossa\\miniconda3\\envs\\py310\\lib\\site-packages\\pydantic\\main.py:856\u001b[0m, in \u001b[0;36mBaseModel.__getattr__\u001b[1;34m(self, item)\u001b[0m\n\u001b[0;32m    853\u001b[0m     \u001b[38;5;28;01mreturn\u001b[39;00m \u001b[38;5;28msuper\u001b[39m()\u001b[38;5;241m.\u001b[39m\u001b[38;5;21m__getattribute__\u001b[39m(item)  \u001b[38;5;66;03m# Raises AttributeError if appropriate\u001b[39;00m\n\u001b[0;32m    854\u001b[0m \u001b[38;5;28;01melse\u001b[39;00m:\n\u001b[0;32m    855\u001b[0m     \u001b[38;5;66;03m# this is the current error\u001b[39;00m\n\u001b[1;32m--> 856\u001b[0m     \u001b[38;5;28;01mraise\u001b[39;00m \u001b[38;5;167;01mAttributeError\u001b[39;00m(\u001b[38;5;124mf\u001b[39m\u001b[38;5;124m'\u001b[39m\u001b[38;5;132;01m{\u001b[39;00m\u001b[38;5;28mtype\u001b[39m(\u001b[38;5;28mself\u001b[39m)\u001b[38;5;241m.\u001b[39m\u001b[38;5;18m__name__\u001b[39m\u001b[38;5;132;01m!r}\u001b[39;00m\u001b[38;5;124m object has no attribute \u001b[39m\u001b[38;5;132;01m{\u001b[39;00mitem\u001b[38;5;132;01m!r}\u001b[39;00m\u001b[38;5;124m'\u001b[39m)\n",
      "\u001b[1;31mAttributeError\u001b[0m: 'ChatGroq' object has no attribute 'tools'"
     ]
    }
   ],
   "source": [
    "#get the tools\n"
   ]
  },
  {
   "cell_type": "code",
   "execution_count": null,
   "metadata": {},
   "outputs": [],
   "source": [
    "def create_plans_for_back(state: agent_state):\n",
    "    \n",
    "    \"\"\" Create plans \"\"\"\n",
    "    Goal = getattr(state, \"Goal\", \"\")\n",
    "    intensity = getattr(state, \"intensity\", \"\")\n",
    "    human_feedback = getattr(state, \"human_feedback\", \"\")\n",
    "    tall = getattr(state, \"tall\", 0)\n",
    "    weight = getattr(state, \"weight\", 0)\n",
    "    the_level_of_cardio = getattr(state, \"the_level_of_cardio\", \"\")\n",
    "    body_part=\"back\"\n",
    "    # Enforce structured output\n",
    "    structured_llm = llm.with_structured_output(Perspectives)\n",
    "    print(\"i am here at create_plans\")\n",
    "    # System message\n",
    "    system_message = fitness_instructions.format(Goal=Goal,body_part=body_part,\n",
    "                                                            human_feedback=human_feedback, \n",
    "                                                            intensity=intensity,\n",
    "                                                            tall=tall,\n",
    "                                                            weight=weight)\n",
    "\n",
    "    # Generate question \n",
    "    body_part_plans = structured_llm.invoke([SystemMessage(content=system_message)]+[HumanMessage(content=\"populate the list of sub muscles groups for each muscle group\")])\n",
    "    \n",
    "    # Write the list of analysis to state\n",
    "    return {\"body_part_exercies\": body_part_plans}"
   ]
  },
  {
   "cell_type": "code",
   "execution_count": 93,
   "metadata": {},
   "outputs": [
    {
     "data": {
      "image/png": "[encoded data removed]",
      "text/plain": [
       "<IPython.core.display.Image object>"
      ]
     },
     "metadata": {},
     "output_type": "display_data"
    }
   ],
   "source": [
    "def human_feedback_nod(state: agent_state):\n",
    "    \"\"\" No-op node that should be interrupted on \"\"\"\n",
    "    pass\n",
    "def search_exercisesLLM(state: agent_state):\n",
    "    \"\"\"where to search for exercises\"\"\"\n",
    "    pass\n",
    "\n",
    "def should_continue(state: agent_state):\n",
    "    \"\"\" Return the next node to execute \"\"\"\n",
    "\n",
    "    # Check if human feedback\n",
    "    human_analyst_feedback=state.get('human_feedback', None)\n",
    "    if human_analyst_feedback:\n",
    "        return \"create_plans\"\n",
    "    \n",
    "    # Otherwise end\n",
    "    return END\n",
    "\n",
    "# Add nodes and edges \n",
    "builder = StateGraph(agent_state)\n",
    "builder.add_node(\"create_plans\", create_plans_for_back)\n",
    "builder.add_node(\"human_feedback_nod\", human_feedback_nod)\n",
    "builder.add_node(\"search_exercisesLLM\", search_exercisesLLM)\n",
    "\n",
    "builder.add_edge(START, \"create_plans\")\n",
    "builder.add_edge(\"create_plans\", \"search_exercisesLLM\")\n",
    "builder.add_edge(\"search_exercisesLLM\", \"create_plans\")\n",
    "builder.add_edge(\"create_plans\", \"human_feedback_nod\")\n",
    "builder.add_conditional_edges(\"human_feedback_nod\", should_continue, [\"create_plans\", END])\n",
    "\n",
    "# Compile\n",
    "memory = MemorySaver()\n",
    "graph = builder.compile(interrupt_before=['human_feedback_nod'], checkpointer=memory)\n",
    "\n",
    "# View\n",
    "display(Image(graph.get_graph(xray=1).draw_mermaid_png()))"
   ]
  },
  {
   "cell_type": "code",
   "execution_count": 86,
   "metadata": {},
   "outputs": [
    {
     "name": "stdout",
     "output_type": "stream",
     "text": [
      "Goal: Build muscle, Intensity: High, Height: 180 cm, Weight: 75 kg, Cardio Level: Moderate, Body Parts: No body parts, Human Feedback: More focus on legs please\n"
     ]
    }
   ],
   "source": [
    "# First create an instance with required fields\n",
    "state = agent_state(\n",
    "    body_part_exercies=[],  # Your list of single_body_part objects\n",
    "    Goal=\"Build muscle\",\n",
    "    intensity=\"High\",\n",
    "    tall=180,\n",
    "    weight=75,\n",
    "    human_feedback=\"More focus on legs please\",\n",
    "    the_level_of_cardio=\"Moderate\"\n",
    ")\n",
    "\n",
    "# Then access the summary property\n",
    "print(state.summary)"
   ]
  },
  {
   "cell_type": "code",
   "execution_count": 87,
   "metadata": {},
   "outputs": [
    {
     "name": "stdout",
     "output_type": "stream",
     "text": [
      "i am here at create_plans\n"
     ]
    },
    {
     "ename": "ValidationError",
     "evalue": "1 validation error for agent_state\nbody_part_exercies.0\n  Input should be a valid dictionary or instance of single_body_part [type=model_type, input_value=('muscle_workouts', [sing...ace for 30 minutes')])]), input_type=tuple]\n    For further information visit https://errors.pydantic.dev/2.9/v/model_type",
     "output_type": "error",
     "traceback": [
      "\u001b[1;31m---------------------------------------------------------------------------\u001b[0m",
      "\u001b[1;31mValidationError\u001b[0m                           Traceback (most recent call last)",
      "Cell \u001b[1;32mIn[87], line 11\u001b[0m\n\u001b[0;32m      8\u001b[0m thread \u001b[38;5;241m=\u001b[39m {\u001b[38;5;124m\"\u001b[39m\u001b[38;5;124mconfigurable\u001b[39m\u001b[38;5;124m\"\u001b[39m: {\u001b[38;5;124m\"\u001b[39m\u001b[38;5;124mthread_id\u001b[39m\u001b[38;5;124m\"\u001b[39m: \u001b[38;5;124m\"\u001b[39m\u001b[38;5;124m1\u001b[39m\u001b[38;5;124m\"\u001b[39m}}\n\u001b[0;32m     10\u001b[0m \u001b[38;5;66;03m# Run the graph until the first interruption\u001b[39;00m\n\u001b[1;32m---> 11\u001b[0m \u001b[38;5;28;01mfor\u001b[39;00m event \u001b[38;5;129;01min\u001b[39;00m graph\u001b[38;5;241m.\u001b[39mstream(state, thread, stream_mode\u001b[38;5;241m=\u001b[39m\u001b[38;5;124m\"\u001b[39m\u001b[38;5;124mvalues\u001b[39m\u001b[38;5;124m\"\u001b[39m):\n\u001b[0;32m     12\u001b[0m     \u001b[38;5;66;03m# Review\u001b[39;00m\n\u001b[0;32m     13\u001b[0m     muscle_workouts \u001b[38;5;241m=\u001b[39m event\u001b[38;5;241m.\u001b[39mget(\u001b[38;5;124m'\u001b[39m\u001b[38;5;124mmuscle_workouts\u001b[39m\u001b[38;5;124m'\u001b[39m, \u001b[38;5;124m'\u001b[39m\u001b[38;5;124m'\u001b[39m)\n\u001b[0;32m     14\u001b[0m     \u001b[38;5;28;01mif\u001b[39;00m muscle_workouts:\n",
      "File \u001b[1;32mc:\\Users\\Hossa\\miniconda3\\envs\\py310\\lib\\site-packages\\langgraph\\pregel\\__init__.py:1267\u001b[0m, in \u001b[0;36mPregel.stream\u001b[1;34m(self, input, config, stream_mode, output_keys, interrupt_before, interrupt_after, debug, subgraphs)\u001b[0m\n\u001b[0;32m   1261\u001b[0m     get_waiter \u001b[38;5;241m=\u001b[39m \u001b[38;5;28;01mNone\u001b[39;00m  \u001b[38;5;66;03m# type: ignore[assignment]\u001b[39;00m\n\u001b[0;32m   1262\u001b[0m \u001b[38;5;66;03m# Similarly to Bulk Synchronous Parallel / Pregel model\u001b[39;00m\n\u001b[0;32m   1263\u001b[0m \u001b[38;5;66;03m# computation proceeds in steps, while there are channel updates\u001b[39;00m\n\u001b[0;32m   1264\u001b[0m \u001b[38;5;66;03m# channel updates from step N are only visible in step N+1\u001b[39;00m\n\u001b[0;32m   1265\u001b[0m \u001b[38;5;66;03m# channels are guaranteed to be immutable for the duration of the step,\u001b[39;00m\n\u001b[0;32m   1266\u001b[0m \u001b[38;5;66;03m# with channel updates applied only at the transition between steps\u001b[39;00m\n\u001b[1;32m-> 1267\u001b[0m \u001b[38;5;28;01mwhile\u001b[39;00m \u001b[43mloop\u001b[49m\u001b[38;5;241;43m.\u001b[39;49m\u001b[43mtick\u001b[49m\u001b[43m(\u001b[49m\n\u001b[0;32m   1268\u001b[0m \u001b[43m    \u001b[49m\u001b[43minput_keys\u001b[49m\u001b[38;5;241;43m=\u001b[39;49m\u001b[38;5;28;43mself\u001b[39;49m\u001b[38;5;241;43m.\u001b[39;49m\u001b[43minput_channels\u001b[49m\u001b[43m,\u001b[49m\n\u001b[0;32m   1269\u001b[0m \u001b[43m    \u001b[49m\u001b[43minterrupt_before\u001b[49m\u001b[38;5;241;43m=\u001b[39;49m\u001b[43minterrupt_before_\u001b[49m\u001b[43m,\u001b[49m\n\u001b[0;32m   1270\u001b[0m \u001b[43m    \u001b[49m\u001b[43minterrupt_after\u001b[49m\u001b[38;5;241;43m=\u001b[39;49m\u001b[43minterrupt_after_\u001b[49m\u001b[43m,\u001b[49m\n\u001b[0;32m   1271\u001b[0m \u001b[43m    \u001b[49m\u001b[43mmanager\u001b[49m\u001b[38;5;241;43m=\u001b[39;49m\u001b[43mrun_manager\u001b[49m\u001b[43m,\u001b[49m\n\u001b[0;32m   1272\u001b[0m \u001b[43m\u001b[49m\u001b[43m)\u001b[49m:\n\u001b[0;32m   1273\u001b[0m     \u001b[38;5;28;01mfor\u001b[39;00m _ \u001b[38;5;129;01min\u001b[39;00m runner\u001b[38;5;241m.\u001b[39mtick(\n\u001b[0;32m   1274\u001b[0m         loop\u001b[38;5;241m.\u001b[39mtasks\u001b[38;5;241m.\u001b[39mvalues(),\n\u001b[0;32m   1275\u001b[0m         timeout\u001b[38;5;241m=\u001b[39m\u001b[38;5;28mself\u001b[39m\u001b[38;5;241m.\u001b[39mstep_timeout,\n\u001b[1;32m   (...)\u001b[0m\n\u001b[0;32m   1278\u001b[0m     ):\n\u001b[0;32m   1279\u001b[0m         \u001b[38;5;66;03m# emit output\u001b[39;00m\n\u001b[0;32m   1280\u001b[0m         \u001b[38;5;28;01myield from\u001b[39;00m output()\n",
      "File \u001b[1;32mc:\\Users\\Hossa\\miniconda3\\envs\\py310\\lib\\site-packages\\langgraph\\pregel\\loop.py:368\u001b[0m, in \u001b[0;36mPregelLoop.tick\u001b[1;34m(self, input_keys, interrupt_after, interrupt_before, manager)\u001b[0m\n\u001b[0;32m    365\u001b[0m     \u001b[38;5;28;01mreturn\u001b[39;00m \u001b[38;5;28;01mFalse\u001b[39;00m\n\u001b[0;32m    367\u001b[0m \u001b[38;5;66;03m# prepare next tasks\u001b[39;00m\n\u001b[1;32m--> 368\u001b[0m \u001b[38;5;28mself\u001b[39m\u001b[38;5;241m.\u001b[39mtasks \u001b[38;5;241m=\u001b[39m \u001b[43mprepare_next_tasks\u001b[49m\u001b[43m(\u001b[49m\n\u001b[0;32m    369\u001b[0m \u001b[43m    \u001b[49m\u001b[38;5;28;43mself\u001b[39;49m\u001b[38;5;241;43m.\u001b[39;49m\u001b[43mcheckpoint\u001b[49m\u001b[43m,\u001b[49m\n\u001b[0;32m    370\u001b[0m \u001b[43m    \u001b[49m\u001b[38;5;28;43mself\u001b[39;49m\u001b[38;5;241;43m.\u001b[39;49m\u001b[43mnodes\u001b[49m\u001b[43m,\u001b[49m\n\u001b[0;32m    371\u001b[0m \u001b[43m    \u001b[49m\u001b[38;5;28;43mself\u001b[39;49m\u001b[38;5;241;43m.\u001b[39;49m\u001b[43mchannels\u001b[49m\u001b[43m,\u001b[49m\n\u001b[0;32m    372\u001b[0m \u001b[43m    \u001b[49m\u001b[38;5;28;43mself\u001b[39;49m\u001b[38;5;241;43m.\u001b[39;49m\u001b[43mmanaged\u001b[49m\u001b[43m,\u001b[49m\n\u001b[0;32m    373\u001b[0m \u001b[43m    \u001b[49m\u001b[38;5;28;43mself\u001b[39;49m\u001b[38;5;241;43m.\u001b[39;49m\u001b[43mconfig\u001b[49m\u001b[43m,\u001b[49m\n\u001b[0;32m    374\u001b[0m \u001b[43m    \u001b[49m\u001b[38;5;28;43mself\u001b[39;49m\u001b[38;5;241;43m.\u001b[39;49m\u001b[43mstep\u001b[49m\u001b[43m,\u001b[49m\n\u001b[0;32m    375\u001b[0m \u001b[43m    \u001b[49m\u001b[43mfor_execution\u001b[49m\u001b[38;5;241;43m=\u001b[39;49m\u001b[38;5;28;43;01mTrue\u001b[39;49;00m\u001b[43m,\u001b[49m\n\u001b[0;32m    376\u001b[0m \u001b[43m    \u001b[49m\u001b[43mmanager\u001b[49m\u001b[38;5;241;43m=\u001b[39;49m\u001b[43mmanager\u001b[49m\u001b[43m,\u001b[49m\n\u001b[0;32m    377\u001b[0m \u001b[43m    \u001b[49m\u001b[43mstore\u001b[49m\u001b[38;5;241;43m=\u001b[39;49m\u001b[38;5;28;43mself\u001b[39;49m\u001b[38;5;241;43m.\u001b[39;49m\u001b[43mstore\u001b[49m\u001b[43m,\u001b[49m\n\u001b[0;32m    378\u001b[0m \u001b[43m    \u001b[49m\u001b[43mcheckpointer\u001b[49m\u001b[38;5;241;43m=\u001b[39;49m\u001b[38;5;28;43mself\u001b[39;49m\u001b[38;5;241;43m.\u001b[39;49m\u001b[43mcheckpointer\u001b[49m\u001b[43m,\u001b[49m\n\u001b[0;32m    379\u001b[0m \u001b[43m\u001b[49m\u001b[43m)\u001b[49m\n\u001b[0;32m    380\u001b[0m \u001b[38;5;66;03m# we don't need to save the writes for the last task that completes\u001b[39;00m\n\u001b[0;32m    381\u001b[0m \u001b[38;5;66;03m# unless in special conditions handled by self.put_writes()\u001b[39;00m\n\u001b[0;32m    382\u001b[0m \u001b[38;5;28mself\u001b[39m\u001b[38;5;241m.\u001b[39mtask_writes_left \u001b[38;5;241m=\u001b[39m \u001b[38;5;28mlen\u001b[39m(\u001b[38;5;28mself\u001b[39m\u001b[38;5;241m.\u001b[39mtasks) \u001b[38;5;241m-\u001b[39m \u001b[38;5;241m1\u001b[39m\n",
      "File \u001b[1;32mc:\\Users\\Hossa\\miniconda3\\envs\\py310\\lib\\site-packages\\langgraph\\pregel\\algo.py:339\u001b[0m, in \u001b[0;36mprepare_next_tasks\u001b[1;34m(checkpoint, processes, channels, managed, config, step, for_execution, store, checkpointer, manager)\u001b[0m\n\u001b[0;32m    336\u001b[0m \u001b[38;5;66;03m# Check if any processes should be run in next step\u001b[39;00m\n\u001b[0;32m    337\u001b[0m \u001b[38;5;66;03m# If so, prepare the values to be passed to them\u001b[39;00m\n\u001b[0;32m    338\u001b[0m \u001b[38;5;28;01mfor\u001b[39;00m name \u001b[38;5;129;01min\u001b[39;00m processes:\n\u001b[1;32m--> 339\u001b[0m     \u001b[38;5;28;01mif\u001b[39;00m task \u001b[38;5;241m:=\u001b[39m \u001b[43mprepare_single_task\u001b[49m\u001b[43m(\u001b[49m\n\u001b[0;32m    340\u001b[0m \u001b[43m        \u001b[49m\u001b[43m(\u001b[49m\u001b[43mPULL\u001b[49m\u001b[43m,\u001b[49m\u001b[43m \u001b[49m\u001b[43mname\u001b[49m\u001b[43m)\u001b[49m\u001b[43m,\u001b[49m\n\u001b[0;32m    341\u001b[0m \u001b[43m        \u001b[49m\u001b[38;5;28;43;01mNone\u001b[39;49;00m\u001b[43m,\u001b[49m\n\u001b[0;32m    342\u001b[0m \u001b[43m        \u001b[49m\u001b[43mcheckpoint\u001b[49m\u001b[38;5;241;43m=\u001b[39;49m\u001b[43mcheckpoint\u001b[49m\u001b[43m,\u001b[49m\n\u001b[0;32m    343\u001b[0m \u001b[43m        \u001b[49m\u001b[43mprocesses\u001b[49m\u001b[38;5;241;43m=\u001b[39;49m\u001b[43mprocesses\u001b[49m\u001b[43m,\u001b[49m\n\u001b[0;32m    344\u001b[0m \u001b[43m        \u001b[49m\u001b[43mchannels\u001b[49m\u001b[38;5;241;43m=\u001b[39;49m\u001b[43mchannels\u001b[49m\u001b[43m,\u001b[49m\n\u001b[0;32m    345\u001b[0m \u001b[43m        \u001b[49m\u001b[43mmanaged\u001b[49m\u001b[38;5;241;43m=\u001b[39;49m\u001b[43mmanaged\u001b[49m\u001b[43m,\u001b[49m\n\u001b[0;32m    346\u001b[0m \u001b[43m        \u001b[49m\u001b[43mconfig\u001b[49m\u001b[38;5;241;43m=\u001b[39;49m\u001b[43mconfig\u001b[49m\u001b[43m,\u001b[49m\n\u001b[0;32m    347\u001b[0m \u001b[43m        \u001b[49m\u001b[43mstep\u001b[49m\u001b[38;5;241;43m=\u001b[39;49m\u001b[43mstep\u001b[49m\u001b[43m,\u001b[49m\n\u001b[0;32m    348\u001b[0m \u001b[43m        \u001b[49m\u001b[43mfor_execution\u001b[49m\u001b[38;5;241;43m=\u001b[39;49m\u001b[43mfor_execution\u001b[49m\u001b[43m,\u001b[49m\n\u001b[0;32m    349\u001b[0m \u001b[43m        \u001b[49m\u001b[43mstore\u001b[49m\u001b[38;5;241;43m=\u001b[39;49m\u001b[43mstore\u001b[49m\u001b[43m,\u001b[49m\n\u001b[0;32m    350\u001b[0m \u001b[43m        \u001b[49m\u001b[43mcheckpointer\u001b[49m\u001b[38;5;241;43m=\u001b[39;49m\u001b[43mcheckpointer\u001b[49m\u001b[43m,\u001b[49m\n\u001b[0;32m    351\u001b[0m \u001b[43m        \u001b[49m\u001b[43mmanager\u001b[49m\u001b[38;5;241;43m=\u001b[39;49m\u001b[43mmanager\u001b[49m\u001b[43m,\u001b[49m\n\u001b[0;32m    352\u001b[0m \u001b[43m    \u001b[49m\u001b[43m)\u001b[49m:\n\u001b[0;32m    353\u001b[0m         tasks[task\u001b[38;5;241m.\u001b[39mid] \u001b[38;5;241m=\u001b[39m task\n\u001b[0;32m    354\u001b[0m \u001b[38;5;28;01mreturn\u001b[39;00m tasks\n",
      "File \u001b[1;32mc:\\Users\\Hossa\\miniconda3\\envs\\py310\\lib\\site-packages\\langgraph\\pregel\\algo.py:495\u001b[0m, in \u001b[0;36mprepare_single_task\u001b[1;34m(task_path, task_id_checksum, checkpoint, processes, channels, managed, config, step, for_execution, store, checkpointer, manager)\u001b[0m\n\u001b[0;32m    485\u001b[0m \u001b[38;5;28;01mif\u001b[39;00m triggers \u001b[38;5;241m:=\u001b[39m \u001b[38;5;28msorted\u001b[39m(\n\u001b[0;32m    486\u001b[0m     chan\n\u001b[0;32m    487\u001b[0m     \u001b[38;5;28;01mfor\u001b[39;00m chan \u001b[38;5;129;01min\u001b[39;00m proc\u001b[38;5;241m.\u001b[39mtriggers\n\u001b[1;32m   (...)\u001b[0m\n\u001b[0;32m    492\u001b[0m     \u001b[38;5;241m>\u001b[39m seen\u001b[38;5;241m.\u001b[39mget(chan, null_version)\n\u001b[0;32m    493\u001b[0m ):\n\u001b[0;32m    494\u001b[0m     \u001b[38;5;28;01mtry\u001b[39;00m:\n\u001b[1;32m--> 495\u001b[0m         val \u001b[38;5;241m=\u001b[39m \u001b[38;5;28;43mnext\u001b[39;49m\u001b[43m(\u001b[49m\n\u001b[0;32m    496\u001b[0m \u001b[43m            \u001b[49m\u001b[43m_proc_input\u001b[49m\u001b[43m(\u001b[49m\n\u001b[0;32m    497\u001b[0m \u001b[43m                \u001b[49m\u001b[43mstep\u001b[49m\u001b[43m,\u001b[49m\u001b[43m \u001b[49m\u001b[43mproc\u001b[49m\u001b[43m,\u001b[49m\u001b[43m \u001b[49m\u001b[43mmanaged\u001b[49m\u001b[43m,\u001b[49m\u001b[43m \u001b[49m\u001b[43mchannels\u001b[49m\u001b[43m,\u001b[49m\u001b[43m \u001b[49m\u001b[43mfor_execution\u001b[49m\u001b[38;5;241;43m=\u001b[39;49m\u001b[43mfor_execution\u001b[49m\n\u001b[0;32m    498\u001b[0m \u001b[43m            \u001b[49m\u001b[43m)\u001b[49m\n\u001b[0;32m    499\u001b[0m \u001b[43m        \u001b[49m\u001b[43m)\u001b[49m\n\u001b[0;32m    500\u001b[0m     \u001b[38;5;28;01mexcept\u001b[39;00m \u001b[38;5;167;01mStopIteration\u001b[39;00m:\n\u001b[0;32m    501\u001b[0m         \u001b[38;5;28;01mreturn\u001b[39;00m\n",
      "File \u001b[1;32mc:\\Users\\Hossa\\miniconda3\\envs\\py310\\lib\\site-packages\\langgraph\\pregel\\algo.py:627\u001b[0m, in \u001b[0;36m_proc_input\u001b[1;34m(step, proc, managed, channels, for_execution)\u001b[0m\n\u001b[0;32m    625\u001b[0m \u001b[38;5;66;03m# If the process has a mapper, apply it to the value\u001b[39;00m\n\u001b[0;32m    626\u001b[0m \u001b[38;5;28;01mif\u001b[39;00m for_execution \u001b[38;5;129;01mand\u001b[39;00m proc\u001b[38;5;241m.\u001b[39mmapper \u001b[38;5;129;01mis\u001b[39;00m \u001b[38;5;129;01mnot\u001b[39;00m \u001b[38;5;28;01mNone\u001b[39;00m:\n\u001b[1;32m--> 627\u001b[0m     val \u001b[38;5;241m=\u001b[39m \u001b[43mproc\u001b[49m\u001b[38;5;241;43m.\u001b[39;49m\u001b[43mmapper\u001b[49m\u001b[43m(\u001b[49m\u001b[43mval\u001b[49m\u001b[43m)\u001b[49m\n\u001b[0;32m    629\u001b[0m \u001b[38;5;28;01myield\u001b[39;00m val\n",
      "File \u001b[1;32mc:\\Users\\Hossa\\miniconda3\\envs\\py310\\lib\\site-packages\\langgraph\\graph\\state.py:704\u001b[0m, in \u001b[0;36m_coerce_state\u001b[1;34m(schema, input)\u001b[0m\n\u001b[0;32m    703\u001b[0m \u001b[38;5;28;01mdef\u001b[39;00m \u001b[38;5;21m_coerce_state\u001b[39m(schema: Type[Any], \u001b[38;5;28minput\u001b[39m: \u001b[38;5;28mdict\u001b[39m[\u001b[38;5;28mstr\u001b[39m, Any]) \u001b[38;5;241m-\u001b[39m\u001b[38;5;241m>\u001b[39m \u001b[38;5;28mdict\u001b[39m[\u001b[38;5;28mstr\u001b[39m, Any]:\n\u001b[1;32m--> 704\u001b[0m     \u001b[38;5;28;01mreturn\u001b[39;00m schema(\u001b[38;5;241m*\u001b[39m\u001b[38;5;241m*\u001b[39m\u001b[38;5;28minput\u001b[39m)\n",
      "File \u001b[1;32mc:\\Users\\Hossa\\miniconda3\\envs\\py310\\lib\\site-packages\\pydantic\\main.py:212\u001b[0m, in \u001b[0;36mBaseModel.__init__\u001b[1;34m(self, **data)\u001b[0m\n\u001b[0;32m    210\u001b[0m \u001b[38;5;66;03m# `__tracebackhide__` tells pytest and some other tools to omit this function from tracebacks\u001b[39;00m\n\u001b[0;32m    211\u001b[0m __tracebackhide__ \u001b[38;5;241m=\u001b[39m \u001b[38;5;28;01mTrue\u001b[39;00m\n\u001b[1;32m--> 212\u001b[0m validated_self \u001b[38;5;241m=\u001b[39m \u001b[38;5;28;43mself\u001b[39;49m\u001b[38;5;241;43m.\u001b[39;49m\u001b[43m__pydantic_validator__\u001b[49m\u001b[38;5;241;43m.\u001b[39;49m\u001b[43mvalidate_python\u001b[49m\u001b[43m(\u001b[49m\u001b[43mdata\u001b[49m\u001b[43m,\u001b[49m\u001b[43m \u001b[49m\u001b[43mself_instance\u001b[49m\u001b[38;5;241;43m=\u001b[39;49m\u001b[38;5;28;43mself\u001b[39;49m\u001b[43m)\u001b[49m\n\u001b[0;32m    213\u001b[0m \u001b[38;5;28;01mif\u001b[39;00m \u001b[38;5;28mself\u001b[39m \u001b[38;5;129;01mis\u001b[39;00m \u001b[38;5;129;01mnot\u001b[39;00m validated_self:\n\u001b[0;32m    214\u001b[0m     warnings\u001b[38;5;241m.\u001b[39mwarn(\n\u001b[0;32m    215\u001b[0m         \u001b[38;5;124m'\u001b[39m\u001b[38;5;124mA custom validator is returning a value other than `self`.\u001b[39m\u001b[38;5;130;01m\\n\u001b[39;00m\u001b[38;5;124m'\u001b[39m\n\u001b[0;32m    216\u001b[0m         \u001b[38;5;124m\"\u001b[39m\u001b[38;5;124mReturning anything other than `self` from a top level model validator isn\u001b[39m\u001b[38;5;124m'\u001b[39m\u001b[38;5;124mt supported when validating via `__init__`.\u001b[39m\u001b[38;5;130;01m\\n\u001b[39;00m\u001b[38;5;124m\"\u001b[39m\n\u001b[0;32m    217\u001b[0m         \u001b[38;5;124m'\u001b[39m\u001b[38;5;124mSee the `model_validator` docs (https://docs.pydantic.dev/latest/concepts/validators/#model-validators) for more details.\u001b[39m\u001b[38;5;124m'\u001b[39m,\n\u001b[0;32m    218\u001b[0m         category\u001b[38;5;241m=\u001b[39m\u001b[38;5;28;01mNone\u001b[39;00m,\n\u001b[0;32m    219\u001b[0m     )\n",
      "\u001b[1;31mValidationError\u001b[0m: 1 validation error for agent_state\nbody_part_exercies.0\n  Input should be a valid dictionary or instance of single_body_part [type=model_type, input_value=('muscle_workouts', [sing...ace for 30 minutes')])]), input_type=tuple]\n    For further information visit https://errors.pydantic.dev/2.9/v/model_type"
     ]
    }
   ],
   "source": [
    "# Input\n",
    "Goal = \"lose weight\"\n",
    "intensity= \"high\"\n",
    "tall=178\n",
    "weight=60\n",
    "body_exercises = []\n",
    "human_feedback = \"\"\n",
    "thread = {\"configurable\": {\"thread_id\": \"1\"}}\n",
    "\n",
    "# Run the graph until the first interruption\n",
    "for event in graph.stream(state, thread, stream_mode=\"values\"):\n",
    "    # Review\n",
    "    muscle_workouts = event.get('muscle_workouts', '')\n",
    "    if muscle_workouts:\n",
    "        for set in muscle_workouts:\n",
    "            print(set)"
   ]
  },
  {
   "cell_type": "code",
   "execution_count": null,
   "metadata": {},
   "outputs": [
    {
     "name": "stdout",
     "output_type": "stream",
     "text": [
      "StateSnapshot(values={'goal': 'lose weight', 'max_sub_muscles': 1, 'tall': 178, 'weight': 60, 'muscle_workouts': Perspectives(muscle_workouts=[{'main_muscle': 'Chest', 'sub_muscle': ['Pectoralis major'], 'level_of_cardio': 'moderate'}, {'main_muscle': 'Back', 'sub_muscle': ['Trapezius'], 'level_of_cardio': 'moderate'}, {'main_muscle': 'Shoulders', 'sub_muscle': ['Deltoids'], 'level_of_cardio': 'moderate'}, {'main_muscle': 'Biceps', 'sub_muscle': ['Biceps brachii'], 'level_of_cardio': 'low'}, {'main_muscle': 'Triceps', 'sub_muscle': ['Triceps brachii'], 'level_of_cardio': 'low'}, {'main_muscle': 'Legs', 'sub_muscle': ['Quadriceps'], 'level_of_cardio': 'high'}, {'main_muscle': 'Core', 'sub_muscle': ['Abdominals'], 'level_of_cardio': 'low'}])}, next=('human_feedback_nod',), config={'configurable': {'thread_id': '1', 'checkpoint_ns': '', 'checkpoint_id': '1efbab80-e052-6cf3-8001-7a810a0b8450'}}, metadata={'source': 'loop', 'writes': {'create_plans': {'muscle_workouts': Perspectives(muscle_workouts=[{'main_muscle': 'Chest', 'sub_muscle': ['Pectoralis major'], 'level_of_cardio': 'moderate'}, {'main_muscle': 'Back', 'sub_muscle': ['Trapezius'], 'level_of_cardio': 'moderate'}, {'main_muscle': 'Shoulders', 'sub_muscle': ['Deltoids'], 'level_of_cardio': 'moderate'}, {'main_muscle': 'Biceps', 'sub_muscle': ['Biceps brachii'], 'level_of_cardio': 'low'}, {'main_muscle': 'Triceps', 'sub_muscle': ['Triceps brachii'], 'level_of_cardio': 'low'}, {'main_muscle': 'Legs', 'sub_muscle': ['Quadriceps'], 'level_of_cardio': 'high'}, {'main_muscle': 'Core', 'sub_muscle': ['Abdominals'], 'level_of_cardio': 'low'}])}}, 'thread_id': '1', 'step': 1, 'parents': {}}, created_at='2024-12-15T07:41:54.374350+00:00', parent_config={'configurable': {'thread_id': '1', 'checkpoint_ns': '', 'checkpoint_id': '1efbab80-d538-65dd-8000-958531f3af9b'}}, tasks=(PregelTask(id='b3d1edb8-37c5-626f-effb-22866c9d4c37', name='human_feedback_nod', path=('__pregel_pull', 'human_feedback_nod'), error=None, interrupts=(), state=None, result=None),))\n"
     ]
    }
   ],
   "source": [
    "state = graph.get_state(thread)\n",
    "print(state)"
   ]
  },
  {
   "cell_type": "code",
   "execution_count": null,
   "metadata": {},
   "outputs": [],
   "source": [
    "def search_exercises(state):\n",
    "    \"\"\"Search for exercises for the sub-muscle groups.\"\"\"\n",
    "    # Extract muscle workouts list from state or default to an empty list\n",
    "    muscle_workouts = state.get(\"muscle_workouts\", [])\n",
    "    muscle_workouts=muscle_workouts.muscle_workouts\n",
    "    exercises = []\n",
    "    print(\"Starting exercise search...\")\n",
    "    #print(muscle_workouts.muscle_workouts[0][\"sub_muscle\"][0])\n",
    "\n",
    "    # Iterate through the list of muscle workout dictionaries\n",
    "    for muscle in muscle_workouts: \n",
    "        main_muscle = muscle[\"main_muscle\"] # Fetch main muscle\n",
    "        sub_muscle_list = muscle.get(\"sub_muscle\", [])  # Fetch list of sub-muscles\n",
    "        \n",
    "        print(f\"Main Muscle: {main_muscle}, Sub-Muscles: {sub_muscle_list}\")\n",
    "        \n",
    "        # Iterate over the sub-muscles and fetch exercises\n",
    "        for sub_muscle in sub_muscle_list:\n",
    "            print(f\"Fetching exercises for Main Muscle: {main_muscle}, Sub-Muscle: {sub_muscle}\")\n",
    "            \n",
    "            # Use the tool to fetch exercises\n",
    "            results = search_exercises_sqlite(main_muscle,  sub_muscle)\n",
    "            \n",
    "            if results:\n",
    "                exercises.append({\n",
    "                    \"main_muscle\": main_muscle,\n",
    "                    \"sub_muscle\": sub_muscle,\n",
    "                    \"exercises\": results\n",
    "                })\n",
    "            else:\n",
    "                print(f\"No exercises found for Sub-Muscle: {sub_muscle}\")\n",
    "\n",
    "    print(\"Exercise search complete.\")\n",
    "    return {\"exercises\": exercises}\n"
   ]
  },
  {
   "cell_type": "code",
   "execution_count": null,
   "metadata": {},
   "outputs": [
    {
     "data": {
      "image/png": "[encoded data removed]",
      "text/plain": [
       "<IPython.core.display.Image object>"
      ]
     },
     "metadata": {},
     "output_type": "display_data"
    }
   ],
   "source": [
    "\n",
    "# Add a new graph\n",
    "builder2 = StateGraph(Generate__main_muscle)\n",
    "\n",
    "# Nodes\n",
    "builder2.add_node(\"create_plans\", create_plans)\n",
    "builder2.add_node(\"search_exercises\", search_exercises)\n",
    "builder2.add_node(\"human_feedback_nod\", human_feedback_nod)\n",
    "\n",
    "# Edges\n",
    "builder2.add_edge(START, \"create_plans\")\n",
    "builder2.add_edge(\"create_plans\", \"search_exercises\")\n",
    "builder2.add_edge(\"search_exercises\", \"human_feedback_nod\")\n",
    "builder2.add_conditional_edges(\"human_feedback_nod\", should_continue, [\"search_exercises\", END])\n",
    "\n",
    "# Compile and visualize\n",
    "graph2 = builder2.compile(interrupt_before=['human_feedback_nod'], checkpointer=memory)\n",
    "display(Image(graph2.get_graph(xray=1).draw_mermaid_png()))\n"
   ]
  },
  {
   "cell_type": "code",
   "execution_count": null,
   "metadata": {},
   "outputs": [
    {
     "name": "stdout",
     "output_type": "stream",
     "text": [
      "{'main_muscle': 'Chest', 'sub_muscle': 'Pectoralis Major', 'exercises': [[18, 'Flat Barbell Bench Press', '4 sets', '8-12 reps', 'Middle chest (pectoralis major)', 'Builds overall chest size and strength.', 'Chest'], [19, 'Incline Barbell Bench Press', '3 sets', '8-12 reps', 'Upper chest (clavicular head of pectoralis major)', 'Focuses on the upper part of the chest.', 'Chest'], [20, 'Decline Barbell Bench Press', '3 sets', '8-12 reps', 'Lower chest', 'Adds definition to the lower chest.', 'Chest'], [21, 'Flat Dumbbell Press', '4 sets', '8-12 reps', 'Middle chest', 'Enhances range of motion and muscle activation.', 'Chest'], [22, 'Incline Dumbbell Press', '3 sets', '8-12 reps', 'Upper chest', 'Builds mass and definition in the upper chest.', 'Chest'], [23, 'Chest Fly (Machine)', '3 sets', '8-12 reps', 'Inner chest', 'Isolates the chest and enhances the inner portion.', 'Chest'], [24, 'Cable Crossover (High to Low)', '3 sets', '8-12 reps', 'Lower chest', 'Adds definition and stretch to the lower chest.', 'Chest'], [25, 'Cable Crossover (Low to High)', '3 sets', '8-12 reps', 'Upper chest', 'Focuses on the upper chest with a unique angle.', 'Chest'], [26, 'Pec Deck (Butterfly Machine)', '3 sets', '8-12 reps', 'Middle and inner chest', 'Great for isolation and definition.', 'Chest'], [27, 'Push-Up on Gym Rings', '3 sets', '8-12 reps', 'Entire chest, core, and stabilizers', 'Improves stability and chest activation.', 'Chest'], [28, 'Standard Push-Ups', '4 sets', '8-12 reps', 'Middle chest', 'Builds chest endurance and strength.', 'Chest'], [29, 'Incline Push-Ups (Feet on Floor)', '4 sets', '8-12 reps', 'Lower chest', 'Enhances lower chest engagement.', 'Chest'], [30, 'Decline Push-Ups (Feet Elevated)', '4 sets', '8-12 reps', 'Upper chest', 'Works the upper chest without weights.', 'Chest'], [31, 'Diamond Push-Ups', '4 sets', '8-12 reps', 'Inner chest and triceps', 'Focuses on chest contraction and inner chest.', 'Chest'], [32, 'Wide Push-Ups', '4 sets', '8-12 reps', 'Outer chest', 'Increases stretch and activates the outer chest.', 'Chest'], [33, 'Resistance Band Chest Press', '3 sets', '8-12 reps', 'Entire chest', 'A good substitute for bench pressing at home.', 'Chest'], [34, 'Resistance Band Fly', '3 sets', '8-12 reps', 'Inner and middle chest', 'Mimics cable flys for a home setting.', 'Chest'], [35, 'Dumbbell Floor Press', '3 sets', '8-12 reps', 'Middle chest', 'Simple and effective for those with dumbbells at home.', 'Chest'], [36, 'Explosive Clap Push-Ups', '3 sets', '8-12 reps', 'Entire chest', 'Adds power and explosiveness to chest training.', 'Chest'], [37, 'Archer Push-Ups', '3 sets', '8-12 reps', 'One side of the chest at a time', 'Builds unilateral strength and stability.', 'Chest']]}\n",
      "{'main_muscle': 'Back', 'sub_muscle': 'Latissimus Dorsi', 'exercises': [[1, 'Pull-Ups', '4 sets', '8-12 reps', 'Lats, Biceps', 'Improves width and overall back strength.', 'Back'], [2, 'Deadlifts', '3-5 sets', '5-8 reps', 'Erector Spinae, Lats', 'Full-body exercise; strengthens lower and upper back.', 'Back'], [3, 'Barbell Rows', '4 sets', '8-12 reps', 'Lats, Rhomboids', 'Strengthens the entire back and core.', 'Back'], [4, 'Lat Pulldowns', '4 sets', '10-12 reps', 'Lats, Biceps', 'Great for isolation and width development.', 'Back'], [5, 'Dumbbell Rows', '4 sets', '8-12 reps', 'Lats, Rhomboids', 'Corrects muscle imbalances and improves core stability.', 'Back'], [6, 'Seated Cable Row', '3 sets', '8-12 reps', 'Rhomboids, traps, lats', 'Builds mid-back thickness.', 'Back'], [7, 'Face Pulls', '3 sets', '8-12 reps', 'Rear delts, traps, rhomboids', 'Helps with posture and upper back strength.', 'Back'], [8, 'T-Bar Row', '3 sets', '8-12 reps', 'Mid-back, lats, traps', 'Focuses on mid-back thickness.', 'Back'], [9, 'Chest-Supported Row', '3 sets', '8-12 reps', 'Lats, traps, rhomboids', 'Reduces strain on the lower back.', 'Back'], [10, 'Hyperextensions (Back Extensions)', '4 sets', '8-12 reps', 'Erector spinae, glutes', 'Strengthens lower back and improves posture.', 'Back'], [11, 'Superman Hold', '4 sets', '8-12 reps', 'Erector spinae, lower traps', 'Great for lower back endurance.', 'Back'], [12, 'Reverse Snow Angels', '3 sets', '8-12 reps', 'Lats, traps, rhomboids', 'Focuses on scapular control and mobility.', 'Back'], [13, 'Prone T Raises', '3 sets', '8-12 reps', 'Rear delts, traps', 'Activates upper back muscles effectively.', 'Back'], [14, 'Resistance Band Pull-Apart', '4 sets', '8-12 reps', 'Traps, rhomboids', 'Excellent for posture correction and upper back strength.', 'Back'], [15, 'Plank with Row (Renegade Rows)', '3 sets', '8-12 reps', 'Traps, rhomboids', 'Combines core stability with back strengthening.', 'Back'], [16, 'Resistance Band Rows', '3 sets', '8-12 reps', 'Lats, traps, core', 'A great alternative to cable rows.', 'Back'], [17, 'Bird Dog', '4 sets', '8-12 reps', 'Erector spinae, lats, glutes', 'Improves stability and strengthens lower back.', 'Back']]}\n",
      "{'main_muscle': 'Arms', 'sub_muscle': 'Biceps', 'exercises': [[1, 'Pull-Ups', '4 sets', '8-12 reps', 'Lats, Biceps', 'Improves width and overall back strength.', 'Back'], [4, 'Lat Pulldowns', '4 sets', '10-12 reps', 'Lats, Biceps', 'Great for isolation and width development.', 'Back'], [38, 'Barbell Bicep Curl', '4 sets', '8-12 reps', 'Overall biceps (long and short heads)', 'Builds strength and mass in the entire biceps.', 'Biceps'], [39, 'Dumbbell Bicep Curl', '4 sets', '10-12 reps', 'Overall biceps', 'Enhances muscle symmetry and balance.', 'Biceps'], [40, 'Hammer Curl (Dumbbells)', '3 sets', '10-12 reps', 'Brachialis and biceps brachii', 'Develops thickness and forearm strength.', 'Biceps'], [41, 'Preacher Curl (Barbell or Dumbbell)', '4 sets', '10-12 reps', 'Lower part of biceps (short head emphasis)', 'Isolates the biceps and eliminates momentum.', 'Biceps'], [42, 'Concentration Curl', '4 sets', '10-12 reps', 'Peak of the biceps (long head)', 'Improves bicep definition and peak.', 'Biceps'], [43, 'Incline Dumbbell Curl', '3 sets', '10-12 reps', 'Long head of the biceps', 'Maximizes the stretch for the long head.', 'Biceps'], [44, 'Cable Bicep Curl', '3 sets', '10-12 reps', 'Overall biceps', 'Provides constant tension throughout the movement.', 'Biceps'], [46, 'Zottman Curl', '3 sets', '10-12 reps', 'Biceps and forearms', 'Combines regular and reverse curls for comprehensive arm training.', 'Biceps'], [47, '21s (Barbell or Dumbbells)', '3 sets', '10-12 reps', 'Upper, middle, and lower parts of the biceps', 'A set of 21 reps split into partial and full ranges of motion.', 'Biceps'], [48, 'Resistance Band Bicep Curl', '3 sets', '10-12 reps', 'Entire biceps', 'Mimics cable curls without a machine.', 'Biceps'], [49, 'Isometric Bicep Hold (Dumbbells or Bands)', '3 sets', '10-12 reps', 'Biceps endurance', 'Improves stability and isometric strength.', 'Biceps'], [50, 'Towel Curl (Using a Bicepspack or Bag)', '3 sets', '10-12 reps', 'Overall biceps', 'A creative way to train with household items.', 'Biceps'], [51, 'Wall Bicep Curl (Using Resistance Bands)', '3 sets', '10-12 reps', 'Biceps brachii', 'Keeps tension constant during the curl.', 'Biceps'], [53, 'Bodyweight Bicep Curl (Under a Table or Bar)', '3 sets', '10-12 reps', 'Biceps and forearms', 'Works as an alternative to pull-ups.', 'Biceps'], [54, 'Hammer Curl (Using Water Bottles or Cans)', '4 sets', '10-12 reps', 'Brachialis and biceps brachii', 'Adds resistance with everyday items.', 'Biceps'], [55, 'Negative Reps (Slow Dumbbell Lowering)', '4 sets', '10-12 reps', 'Long and short heads of the biceps', 'Focuses on eccentric strength.', 'Biceps'], [56, 'Chin-Ups (Close Grip)', '4 sets', '10-12 reps', 'Biceps brachii (long head emphasis)', 'A compound movement for biceps and Biceps.', 'Biceps']]}\n",
      "i am here at create_plans\n",
      "{'main_muscle': 'Chest', 'sub_muscle': 'Pectoralis Major', 'exercises': [[18, 'Flat Barbell Bench Press', '4 sets', '8-12 reps', 'Middle chest (pectoralis major)', 'Builds overall chest size and strength.', 'Chest'], [19, 'Incline Barbell Bench Press', '3 sets', '8-12 reps', 'Upper chest (clavicular head of pectoralis major)', 'Focuses on the upper part of the chest.', 'Chest'], [20, 'Decline Barbell Bench Press', '3 sets', '8-12 reps', 'Lower chest', 'Adds definition to the lower chest.', 'Chest'], [21, 'Flat Dumbbell Press', '4 sets', '8-12 reps', 'Middle chest', 'Enhances range of motion and muscle activation.', 'Chest'], [22, 'Incline Dumbbell Press', '3 sets', '8-12 reps', 'Upper chest', 'Builds mass and definition in the upper chest.', 'Chest'], [23, 'Chest Fly (Machine)', '3 sets', '8-12 reps', 'Inner chest', 'Isolates the chest and enhances the inner portion.', 'Chest'], [24, 'Cable Crossover (High to Low)', '3 sets', '8-12 reps', 'Lower chest', 'Adds definition and stretch to the lower chest.', 'Chest'], [25, 'Cable Crossover (Low to High)', '3 sets', '8-12 reps', 'Upper chest', 'Focuses on the upper chest with a unique angle.', 'Chest'], [26, 'Pec Deck (Butterfly Machine)', '3 sets', '8-12 reps', 'Middle and inner chest', 'Great for isolation and definition.', 'Chest'], [27, 'Push-Up on Gym Rings', '3 sets', '8-12 reps', 'Entire chest, core, and stabilizers', 'Improves stability and chest activation.', 'Chest'], [28, 'Standard Push-Ups', '4 sets', '8-12 reps', 'Middle chest', 'Builds chest endurance and strength.', 'Chest'], [29, 'Incline Push-Ups (Feet on Floor)', '4 sets', '8-12 reps', 'Lower chest', 'Enhances lower chest engagement.', 'Chest'], [30, 'Decline Push-Ups (Feet Elevated)', '4 sets', '8-12 reps', 'Upper chest', 'Works the upper chest without weights.', 'Chest'], [31, 'Diamond Push-Ups', '4 sets', '8-12 reps', 'Inner chest and triceps', 'Focuses on chest contraction and inner chest.', 'Chest'], [32, 'Wide Push-Ups', '4 sets', '8-12 reps', 'Outer chest', 'Increases stretch and activates the outer chest.', 'Chest'], [33, 'Resistance Band Chest Press', '3 sets', '8-12 reps', 'Entire chest', 'A good substitute for bench pressing at home.', 'Chest'], [34, 'Resistance Band Fly', '3 sets', '8-12 reps', 'Inner and middle chest', 'Mimics cable flys for a home setting.', 'Chest'], [35, 'Dumbbell Floor Press', '3 sets', '8-12 reps', 'Middle chest', 'Simple and effective for those with dumbbells at home.', 'Chest'], [36, 'Explosive Clap Push-Ups', '3 sets', '8-12 reps', 'Entire chest', 'Adds power and explosiveness to chest training.', 'Chest'], [37, 'Archer Push-Ups', '3 sets', '8-12 reps', 'One side of the chest at a time', 'Builds unilateral strength and stability.', 'Chest']]}\n",
      "{'main_muscle': 'Back', 'sub_muscle': 'Latissimus Dorsi', 'exercises': [[1, 'Pull-Ups', '4 sets', '8-12 reps', 'Lats, Biceps', 'Improves width and overall back strength.', 'Back'], [2, 'Deadlifts', '3-5 sets', '5-8 reps', 'Erector Spinae, Lats', 'Full-body exercise; strengthens lower and upper back.', 'Back'], [3, 'Barbell Rows', '4 sets', '8-12 reps', 'Lats, Rhomboids', 'Strengthens the entire back and core.', 'Back'], [4, 'Lat Pulldowns', '4 sets', '10-12 reps', 'Lats, Biceps', 'Great for isolation and width development.', 'Back'], [5, 'Dumbbell Rows', '4 sets', '8-12 reps', 'Lats, Rhomboids', 'Corrects muscle imbalances and improves core stability.', 'Back'], [6, 'Seated Cable Row', '3 sets', '8-12 reps', 'Rhomboids, traps, lats', 'Builds mid-back thickness.', 'Back'], [7, 'Face Pulls', '3 sets', '8-12 reps', 'Rear delts, traps, rhomboids', 'Helps with posture and upper back strength.', 'Back'], [8, 'T-Bar Row', '3 sets', '8-12 reps', 'Mid-back, lats, traps', 'Focuses on mid-back thickness.', 'Back'], [9, 'Chest-Supported Row', '3 sets', '8-12 reps', 'Lats, traps, rhomboids', 'Reduces strain on the lower back.', 'Back'], [10, 'Hyperextensions (Back Extensions)', '4 sets', '8-12 reps', 'Erector spinae, glutes', 'Strengthens lower back and improves posture.', 'Back'], [11, 'Superman Hold', '4 sets', '8-12 reps', 'Erector spinae, lower traps', 'Great for lower back endurance.', 'Back'], [12, 'Reverse Snow Angels', '3 sets', '8-12 reps', 'Lats, traps, rhomboids', 'Focuses on scapular control and mobility.', 'Back'], [13, 'Prone T Raises', '3 sets', '8-12 reps', 'Rear delts, traps', 'Activates upper back muscles effectively.', 'Back'], [14, 'Resistance Band Pull-Apart', '4 sets', '8-12 reps', 'Traps, rhomboids', 'Excellent for posture correction and upper back strength.', 'Back'], [15, 'Plank with Row (Renegade Rows)', '3 sets', '8-12 reps', 'Traps, rhomboids', 'Combines core stability with back strengthening.', 'Back'], [16, 'Resistance Band Rows', '3 sets', '8-12 reps', 'Lats, traps, core', 'A great alternative to cable rows.', 'Back'], [17, 'Bird Dog', '4 sets', '8-12 reps', 'Erector spinae, lats, glutes', 'Improves stability and strengthens lower back.', 'Back']]}\n",
      "{'main_muscle': 'Arms', 'sub_muscle': 'Biceps', 'exercises': [[1, 'Pull-Ups', '4 sets', '8-12 reps', 'Lats, Biceps', 'Improves width and overall back strength.', 'Back'], [4, 'Lat Pulldowns', '4 sets', '10-12 reps', 'Lats, Biceps', 'Great for isolation and width development.', 'Back'], [38, 'Barbell Bicep Curl', '4 sets', '8-12 reps', 'Overall biceps (long and short heads)', 'Builds strength and mass in the entire biceps.', 'Biceps'], [39, 'Dumbbell Bicep Curl', '4 sets', '10-12 reps', 'Overall biceps', 'Enhances muscle symmetry and balance.', 'Biceps'], [40, 'Hammer Curl (Dumbbells)', '3 sets', '10-12 reps', 'Brachialis and biceps brachii', 'Develops thickness and forearm strength.', 'Biceps'], [41, 'Preacher Curl (Barbell or Dumbbell)', '4 sets', '10-12 reps', 'Lower part of biceps (short head emphasis)', 'Isolates the biceps and eliminates momentum.', 'Biceps'], [42, 'Concentration Curl', '4 sets', '10-12 reps', 'Peak of the biceps (long head)', 'Improves bicep definition and peak.', 'Biceps'], [43, 'Incline Dumbbell Curl', '3 sets', '10-12 reps', 'Long head of the biceps', 'Maximizes the stretch for the long head.', 'Biceps'], [44, 'Cable Bicep Curl', '3 sets', '10-12 reps', 'Overall biceps', 'Provides constant tension throughout the movement.', 'Biceps'], [46, 'Zottman Curl', '3 sets', '10-12 reps', 'Biceps and forearms', 'Combines regular and reverse curls for comprehensive arm training.', 'Biceps'], [47, '21s (Barbell or Dumbbells)', '3 sets', '10-12 reps', 'Upper, middle, and lower parts of the biceps', 'A set of 21 reps split into partial and full ranges of motion.', 'Biceps'], [48, 'Resistance Band Bicep Curl', '3 sets', '10-12 reps', 'Entire biceps', 'Mimics cable curls without a machine.', 'Biceps'], [49, 'Isometric Bicep Hold (Dumbbells or Bands)', '3 sets', '10-12 reps', 'Biceps endurance', 'Improves stability and isometric strength.', 'Biceps'], [50, 'Towel Curl (Using a Bicepspack or Bag)', '3 sets', '10-12 reps', 'Overall biceps', 'A creative way to train with household items.', 'Biceps'], [51, 'Wall Bicep Curl (Using Resistance Bands)', '3 sets', '10-12 reps', 'Biceps brachii', 'Keeps tension constant during the curl.', 'Biceps'], [53, 'Bodyweight Bicep Curl (Under a Table or Bar)', '3 sets', '10-12 reps', 'Biceps and forearms', 'Works as an alternative to pull-ups.', 'Biceps'], [54, 'Hammer Curl (Using Water Bottles or Cans)', '4 sets', '10-12 reps', 'Brachialis and biceps brachii', 'Adds resistance with everyday items.', 'Biceps'], [55, 'Negative Reps (Slow Dumbbell Lowering)', '4 sets', '10-12 reps', 'Long and short heads of the biceps', 'Focuses on eccentric strength.', 'Biceps'], [56, 'Chin-Ups (Close Grip)', '4 sets', '10-12 reps', 'Biceps brachii (long head emphasis)', 'A compound movement for biceps and Biceps.', 'Biceps']]}\n",
      "Starting exercise search...\n",
      "Main Muscle: Chest, Sub-Muscles: ['Pectoralis major']\n",
      "Fetching exercises for Main Muscle: Chest, Sub-Muscle: Pectoralis major\n",
      "I am here\n",
      "Main Muscle: Back, Sub-Muscles: ['Trapezius']\n",
      "Fetching exercises for Main Muscle: Back, Sub-Muscle: Trapezius\n",
      "I am here\n",
      "Main Muscle: Shoulders, Sub-Muscles: ['Deltoids']\n",
      "Fetching exercises for Main Muscle: Shoulders, Sub-Muscle: Deltoids\n",
      "I am here\n",
      "No exercises found for Sub-Muscle: Deltoids\n",
      "Main Muscle: Biceps, Sub-Muscles: ['Biceps brachii']\n",
      "Fetching exercises for Main Muscle: Biceps, Sub-Muscle: Biceps brachii\n",
      "I am here\n",
      "Main Muscle: Triceps, Sub-Muscles: ['Triceps brachii']\n",
      "Fetching exercises for Main Muscle: Triceps, Sub-Muscle: Triceps brachii\n",
      "I am here\n",
      "No exercises found for Sub-Muscle: Triceps brachii\n",
      "Main Muscle: Legs, Sub-Muscles: ['Quadriceps']\n",
      "Fetching exercises for Main Muscle: Legs, Sub-Muscle: Quadriceps\n",
      "I am here\n",
      "No exercises found for Sub-Muscle: Quadriceps\n",
      "Main Muscle: Core, Sub-Muscles: ['Abdominals']\n",
      "Fetching exercises for Main Muscle: Core, Sub-Muscle: Abdominals\n",
      "I am here\n",
      "No exercises found for Sub-Muscle: Abdominals\n",
      "Exercise search complete.\n",
      "{'main_muscle': 'Chest', 'sub_muscle': 'Pectoralis major', 'exercises': [(18, 'Flat Barbell Bench Press', '4 sets', '8-12 reps', 'Middle chest (pectoralis major)', 'Builds overall chest size and strength.', 'Chest'), (19, 'Incline Barbell Bench Press', '3 sets', '8-12 reps', 'Upper chest (clavicular head of pectoralis major)', 'Focuses on the upper part of the chest.', 'Chest'), (20, 'Decline Barbell Bench Press', '3 sets', '8-12 reps', 'Lower chest', 'Adds definition to the lower chest.', 'Chest'), (21, 'Flat Dumbbell Press', '4 sets', '8-12 reps', 'Middle chest', 'Enhances range of motion and muscle activation.', 'Chest'), (22, 'Incline Dumbbell Press', '3 sets', '8-12 reps', 'Upper chest', 'Builds mass and definition in the upper chest.', 'Chest'), (23, 'Chest Fly (Machine)', '3 sets', '8-12 reps', 'Inner chest', 'Isolates the chest and enhances the inner portion.', 'Chest'), (24, 'Cable Crossover (High to Low)', '3 sets', '8-12 reps', 'Lower chest', 'Adds definition and stretch to the lower chest.', 'Chest'), (25, 'Cable Crossover (Low to High)', '3 sets', '8-12 reps', 'Upper chest', 'Focuses on the upper chest with a unique angle.', 'Chest'), (26, 'Pec Deck (Butterfly Machine)', '3 sets', '8-12 reps', 'Middle and inner chest', 'Great for isolation and definition.', 'Chest'), (27, 'Push-Up on Gym Rings', '3 sets', '8-12 reps', 'Entire chest, core, and stabilizers', 'Improves stability and chest activation.', 'Chest'), (28, 'Standard Push-Ups', '4 sets', '8-12 reps', 'Middle chest', 'Builds chest endurance and strength.', 'Chest'), (29, 'Incline Push-Ups (Feet on Floor)', '4 sets', '8-12 reps', 'Lower chest', 'Enhances lower chest engagement.', 'Chest'), (30, 'Decline Push-Ups (Feet Elevated)', '4 sets', '8-12 reps', 'Upper chest', 'Works the upper chest without weights.', 'Chest'), (31, 'Diamond Push-Ups', '4 sets', '8-12 reps', 'Inner chest and triceps', 'Focuses on chest contraction and inner chest.', 'Chest'), (32, 'Wide Push-Ups', '4 sets', '8-12 reps', 'Outer chest', 'Increases stretch and activates the outer chest.', 'Chest'), (33, 'Resistance Band Chest Press', '3 sets', '8-12 reps', 'Entire chest', 'A good substitute for bench pressing at home.', 'Chest'), (34, 'Resistance Band Fly', '3 sets', '8-12 reps', 'Inner and middle chest', 'Mimics cable flys for a home setting.', 'Chest'), (35, 'Dumbbell Floor Press', '3 sets', '8-12 reps', 'Middle chest', 'Simple and effective for those with dumbbells at home.', 'Chest'), (36, 'Explosive Clap Push-Ups', '3 sets', '8-12 reps', 'Entire chest', 'Adds power and explosiveness to chest training.', 'Chest'), (37, 'Archer Push-Ups', '3 sets', '8-12 reps', 'One side of the chest at a time', 'Builds unilateral strength and stability.', 'Chest')]}\n",
      "{'main_muscle': 'Back', 'sub_muscle': 'Trapezius', 'exercises': [(1, 'Pull-Ups', '4 sets', '8-12 reps', 'Lats, Biceps', 'Improves width and overall back strength.', 'Back'), (2, 'Deadlifts', '3-5 sets', '5-8 reps', 'Erector Spinae, Lats', 'Full-body exercise; strengthens lower and upper back.', 'Back'), (3, 'Barbell Rows', '4 sets', '8-12 reps', 'Lats, Rhomboids', 'Strengthens the entire back and core.', 'Back'), (4, 'Lat Pulldowns', '4 sets', '10-12 reps', 'Lats, Biceps', 'Great for isolation and width development.', 'Back'), (5, 'Dumbbell Rows', '4 sets', '8-12 reps', 'Lats, Rhomboids', 'Corrects muscle imbalances and improves core stability.', 'Back'), (6, 'Seated Cable Row', '3 sets', '8-12 reps', 'Rhomboids, traps, lats', 'Builds mid-back thickness.', 'Back'), (7, 'Face Pulls', '3 sets', '8-12 reps', 'Rear delts, traps, rhomboids', 'Helps with posture and upper back strength.', 'Back'), (8, 'T-Bar Row', '3 sets', '8-12 reps', 'Mid-back, lats, traps', 'Focuses on mid-back thickness.', 'Back'), (9, 'Chest-Supported Row', '3 sets', '8-12 reps', 'Lats, traps, rhomboids', 'Reduces strain on the lower back.', 'Back'), (10, 'Hyperextensions (Back Extensions)', '4 sets', '8-12 reps', 'Erector spinae, glutes', 'Strengthens lower back and improves posture.', 'Back'), (11, 'Superman Hold', '4 sets', '8-12 reps', 'Erector spinae, lower traps', 'Great for lower back endurance.', 'Back'), (12, 'Reverse Snow Angels', '3 sets', '8-12 reps', 'Lats, traps, rhomboids', 'Focuses on scapular control and mobility.', 'Back'), (13, 'Prone T Raises', '3 sets', '8-12 reps', 'Rear delts, traps', 'Activates upper back muscles effectively.', 'Back'), (14, 'Resistance Band Pull-Apart', '4 sets', '8-12 reps', 'Traps, rhomboids', 'Excellent for posture correction and upper back strength.', 'Back'), (15, 'Plank with Row (Renegade Rows)', '3 sets', '8-12 reps', 'Traps, rhomboids', 'Combines core stability with back strengthening.', 'Back'), (16, 'Resistance Band Rows', '3 sets', '8-12 reps', 'Lats, traps, core', 'A great alternative to cable rows.', 'Back'), (17, 'Bird Dog', '4 sets', '8-12 reps', 'Erector spinae, lats, glutes', 'Improves stability and strengthens lower back.', 'Back')]}\n",
      "{'main_muscle': 'Biceps', 'sub_muscle': 'Biceps brachii', 'exercises': [(38, 'Barbell Bicep Curl', '4 sets', '8-12 reps', 'Overall biceps (long and short heads)', 'Builds strength and mass in the entire biceps.', 'Biceps'), (39, 'Dumbbell Bicep Curl', '4 sets', '10-12 reps', 'Overall biceps', 'Enhances muscle symmetry and balance.', 'Biceps'), (40, 'Hammer Curl (Dumbbells)', '3 sets', '10-12 reps', 'Brachialis and biceps brachii', 'Develops thickness and forearm strength.', 'Biceps'), (41, 'Preacher Curl (Barbell or Dumbbell)', '4 sets', '10-12 reps', 'Lower part of biceps (short head emphasis)', 'Isolates the biceps and eliminates momentum.', 'Biceps'), (42, 'Concentration Curl', '4 sets', '10-12 reps', 'Peak of the biceps (long head)', 'Improves bicep definition and peak.', 'Biceps'), (43, 'Incline Dumbbell Curl', '3 sets', '10-12 reps', 'Long head of the biceps', 'Maximizes the stretch for the long head.', 'Biceps'), (44, 'Cable Bicep Curl', '3 sets', '10-12 reps', 'Overall biceps', 'Provides constant tension throughout the movement.', 'Biceps'), (45, 'Reverse Curl (Barbell or Dumbbells)', '3 sets', '10-12 reps', 'Brachialis and forearms', 'Adds thickness and improves grip strength.', 'Biceps'), (46, 'Zottman Curl', '3 sets', '10-12 reps', 'Biceps and forearms', 'Combines regular and reverse curls for comprehensive arm training.', 'Biceps'), (47, '21s (Barbell or Dumbbells)', '3 sets', '10-12 reps', 'Upper, middle, and lower parts of the biceps', 'A set of 21 reps split into partial and full ranges of motion.', 'Biceps'), (48, 'Resistance Band Bicep Curl', '3 sets', '10-12 reps', 'Entire biceps', 'Mimics cable curls without a machine.', 'Biceps'), (49, 'Isometric Bicep Hold (Dumbbells or Bands)', '3 sets', '10-12 reps', 'Biceps endurance', 'Improves stability and isometric strength.', 'Biceps'), (50, 'Towel Curl (Using a Bicepspack or Bag)', '3 sets', '10-12 reps', 'Overall biceps', 'A creative way to train with household items.', 'Biceps'), (51, 'Wall Bicep Curl (Using Resistance Bands)', '3 sets', '10-12 reps', 'Biceps brachii', 'Keeps tension constant during the curl.', 'Biceps'), (52, 'Reverse Towel Curl', '3 sets', '10-12 reps', 'Brachialis and forearms', 'Great for grip and arm thickness.', 'Biceps'), (53, 'Bodyweight Bicep Curl (Under a Table or Bar)', '3 sets', '10-12 reps', 'Biceps and forearms', 'Works as an alternative to pull-ups.', 'Biceps'), (54, 'Hammer Curl (Using Water Bottles or Cans)', '4 sets', '10-12 reps', 'Brachialis and biceps brachii', 'Adds resistance with everyday items.', 'Biceps'), (55, 'Negative Reps (Slow Dumbbell Lowering)', '4 sets', '10-12 reps', 'Long and short heads of the biceps', 'Focuses on eccentric strength.', 'Biceps'), (56, 'Chin-Ups (Close Grip)', '4 sets', '10-12 reps', 'Biceps brachii (long head emphasis)', 'A compound movement for biceps and Biceps.', 'Biceps')]}\n"
     ]
    }
   ],
   "source": [
    "# Input\n",
    "max_sub_muscles = 1\n",
    "Goal = \"lose weight\"\n",
    "intensity= \"high\"\n",
    "tall=178\n",
    "weight=60\n",
    "thread = {\"configurable\": {\"thread_id\": \"1\"}}\n",
    "\n",
    "# Run the graph until the first interruption\n",
    "for event in graph2.stream({\"Goal\":Goal,\"max_sub_muscles\":max_sub_muscles,\"instensity\":intensity,\"tall\":tall,\"weight\":weight}, thread, stream_mode=\"values\"):\n",
    "    # Review\n",
    "    exercises = event.get('exercises', '')\n",
    "    if exercises:\n",
    "        for set in exercises:\n",
    "            print(set)"
   ]
  },
  {
   "cell_type": "code",
   "execution_count": null,
   "metadata": {},
   "outputs": [
    {
     "name": "stdout",
     "output_type": "stream",
     "text": [
      "StateSnapshot(values={'goal': 'lose weight', 'max_sub_muscles': 1, 'tall': 178, 'weight': 60, 'muscle_workouts': Perspectives(muscle_workouts=[{'main_muscle': 'Chest', 'sub_muscle': ['Pectoralis major'], 'level_of_cardio': 'moderate'}, {'main_muscle': 'Back', 'sub_muscle': ['Trapezius'], 'level_of_cardio': 'moderate'}, {'main_muscle': 'Shoulders', 'sub_muscle': ['Deltoids'], 'level_of_cardio': 'moderate'}, {'main_muscle': 'Biceps', 'sub_muscle': ['Biceps brachii'], 'level_of_cardio': 'low'}, {'main_muscle': 'Triceps', 'sub_muscle': ['Triceps brachii'], 'level_of_cardio': 'low'}, {'main_muscle': 'Legs', 'sub_muscle': ['Quadriceps'], 'level_of_cardio': 'high'}, {'main_muscle': 'Core', 'sub_muscle': ['Abdominals'], 'level_of_cardio': 'low'}]), 'exercises': [{'main_muscle': 'Chest', 'sub_muscle': 'Pectoralis major', 'exercises': [[18, 'Flat Barbell Bench Press', '4 sets', '8-12 reps', 'Middle chest (pectoralis major)', 'Builds overall chest size and strength.', 'Chest'], [19, 'Incline Barbell Bench Press', '3 sets', '8-12 reps', 'Upper chest (clavicular head of pectoralis major)', 'Focuses on the upper part of the chest.', 'Chest'], [20, 'Decline Barbell Bench Press', '3 sets', '8-12 reps', 'Lower chest', 'Adds definition to the lower chest.', 'Chest'], [21, 'Flat Dumbbell Press', '4 sets', '8-12 reps', 'Middle chest', 'Enhances range of motion and muscle activation.', 'Chest'], [22, 'Incline Dumbbell Press', '3 sets', '8-12 reps', 'Upper chest', 'Builds mass and definition in the upper chest.', 'Chest'], [23, 'Chest Fly (Machine)', '3 sets', '8-12 reps', 'Inner chest', 'Isolates the chest and enhances the inner portion.', 'Chest'], [24, 'Cable Crossover (High to Low)', '3 sets', '8-12 reps', 'Lower chest', 'Adds definition and stretch to the lower chest.', 'Chest'], [25, 'Cable Crossover (Low to High)', '3 sets', '8-12 reps', 'Upper chest', 'Focuses on the upper chest with a unique angle.', 'Chest'], [26, 'Pec Deck (Butterfly Machine)', '3 sets', '8-12 reps', 'Middle and inner chest', 'Great for isolation and definition.', 'Chest'], [27, 'Push-Up on Gym Rings', '3 sets', '8-12 reps', 'Entire chest, core, and stabilizers', 'Improves stability and chest activation.', 'Chest'], [28, 'Standard Push-Ups', '4 sets', '8-12 reps', 'Middle chest', 'Builds chest endurance and strength.', 'Chest'], [29, 'Incline Push-Ups (Feet on Floor)', '4 sets', '8-12 reps', 'Lower chest', 'Enhances lower chest engagement.', 'Chest'], [30, 'Decline Push-Ups (Feet Elevated)', '4 sets', '8-12 reps', 'Upper chest', 'Works the upper chest without weights.', 'Chest'], [31, 'Diamond Push-Ups', '4 sets', '8-12 reps', 'Inner chest and triceps', 'Focuses on chest contraction and inner chest.', 'Chest'], [32, 'Wide Push-Ups', '4 sets', '8-12 reps', 'Outer chest', 'Increases stretch and activates the outer chest.', 'Chest'], [33, 'Resistance Band Chest Press', '3 sets', '8-12 reps', 'Entire chest', 'A good substitute for bench pressing at home.', 'Chest'], [34, 'Resistance Band Fly', '3 sets', '8-12 reps', 'Inner and middle chest', 'Mimics cable flys for a home setting.', 'Chest'], [35, 'Dumbbell Floor Press', '3 sets', '8-12 reps', 'Middle chest', 'Simple and effective for those with dumbbells at home.', 'Chest'], [36, 'Explosive Clap Push-Ups', '3 sets', '8-12 reps', 'Entire chest', 'Adds power and explosiveness to chest training.', 'Chest'], [37, 'Archer Push-Ups', '3 sets', '8-12 reps', 'One side of the chest at a time', 'Builds unilateral strength and stability.', 'Chest']]}, {'main_muscle': 'Back', 'sub_muscle': 'Trapezius', 'exercises': [[1, 'Pull-Ups', '4 sets', '8-12 reps', 'Lats, Biceps', 'Improves width and overall back strength.', 'Back'], [2, 'Deadlifts', '3-5 sets', '5-8 reps', 'Erector Spinae, Lats', 'Full-body exercise; strengthens lower and upper back.', 'Back'], [3, 'Barbell Rows', '4 sets', '8-12 reps', 'Lats, Rhomboids', 'Strengthens the entire back and core.', 'Back'], [4, 'Lat Pulldowns', '4 sets', '10-12 reps', 'Lats, Biceps', 'Great for isolation and width development.', 'Back'], [5, 'Dumbbell Rows', '4 sets', '8-12 reps', 'Lats, Rhomboids', 'Corrects muscle imbalances and improves core stability.', 'Back'], [6, 'Seated Cable Row', '3 sets', '8-12 reps', 'Rhomboids, traps, lats', 'Builds mid-back thickness.', 'Back'], [7, 'Face Pulls', '3 sets', '8-12 reps', 'Rear delts, traps, rhomboids', 'Helps with posture and upper back strength.', 'Back'], [8, 'T-Bar Row', '3 sets', '8-12 reps', 'Mid-back, lats, traps', 'Focuses on mid-back thickness.', 'Back'], [9, 'Chest-Supported Row', '3 sets', '8-12 reps', 'Lats, traps, rhomboids', 'Reduces strain on the lower back.', 'Back'], [10, 'Hyperextensions (Back Extensions)', '4 sets', '8-12 reps', 'Erector spinae, glutes', 'Strengthens lower back and improves posture.', 'Back'], [11, 'Superman Hold', '4 sets', '8-12 reps', 'Erector spinae, lower traps', 'Great for lower back endurance.', 'Back'], [12, 'Reverse Snow Angels', '3 sets', '8-12 reps', 'Lats, traps, rhomboids', 'Focuses on scapular control and mobility.', 'Back'], [13, 'Prone T Raises', '3 sets', '8-12 reps', 'Rear delts, traps', 'Activates upper back muscles effectively.', 'Back'], [14, 'Resistance Band Pull-Apart', '4 sets', '8-12 reps', 'Traps, rhomboids', 'Excellent for posture correction and upper back strength.', 'Back'], [15, 'Plank with Row (Renegade Rows)', '3 sets', '8-12 reps', 'Traps, rhomboids', 'Combines core stability with back strengthening.', 'Back'], [16, 'Resistance Band Rows', '3 sets', '8-12 reps', 'Lats, traps, core', 'A great alternative to cable rows.', 'Back'], [17, 'Bird Dog', '4 sets', '8-12 reps', 'Erector spinae, lats, glutes', 'Improves stability and strengthens lower back.', 'Back']]}, {'main_muscle': 'Biceps', 'sub_muscle': 'Biceps brachii', 'exercises': [[38, 'Barbell Bicep Curl', '4 sets', '8-12 reps', 'Overall biceps (long and short heads)', 'Builds strength and mass in the entire biceps.', 'Biceps'], [39, 'Dumbbell Bicep Curl', '4 sets', '10-12 reps', 'Overall biceps', 'Enhances muscle symmetry and balance.', 'Biceps'], [40, 'Hammer Curl (Dumbbells)', '3 sets', '10-12 reps', 'Brachialis and biceps brachii', 'Develops thickness and forearm strength.', 'Biceps'], [41, 'Preacher Curl (Barbell or Dumbbell)', '4 sets', '10-12 reps', 'Lower part of biceps (short head emphasis)', 'Isolates the biceps and eliminates momentum.', 'Biceps'], [42, 'Concentration Curl', '4 sets', '10-12 reps', 'Peak of the biceps (long head)', 'Improves bicep definition and peak.', 'Biceps'], [43, 'Incline Dumbbell Curl', '3 sets', '10-12 reps', 'Long head of the biceps', 'Maximizes the stretch for the long head.', 'Biceps'], [44, 'Cable Bicep Curl', '3 sets', '10-12 reps', 'Overall biceps', 'Provides constant tension throughout the movement.', 'Biceps'], [45, 'Reverse Curl (Barbell or Dumbbells)', '3 sets', '10-12 reps', 'Brachialis and forearms', 'Adds thickness and improves grip strength.', 'Biceps'], [46, 'Zottman Curl', '3 sets', '10-12 reps', 'Biceps and forearms', 'Combines regular and reverse curls for comprehensive arm training.', 'Biceps'], [47, '21s (Barbell or Dumbbells)', '3 sets', '10-12 reps', 'Upper, middle, and lower parts of the biceps', 'A set of 21 reps split into partial and full ranges of motion.', 'Biceps'], [48, 'Resistance Band Bicep Curl', '3 sets', '10-12 reps', 'Entire biceps', 'Mimics cable curls without a machine.', 'Biceps'], [49, 'Isometric Bicep Hold (Dumbbells or Bands)', '3 sets', '10-12 reps', 'Biceps endurance', 'Improves stability and isometric strength.', 'Biceps'], [50, 'Towel Curl (Using a Bicepspack or Bag)', '3 sets', '10-12 reps', 'Overall biceps', 'A creative way to train with household items.', 'Biceps'], [51, 'Wall Bicep Curl (Using Resistance Bands)', '3 sets', '10-12 reps', 'Biceps brachii', 'Keeps tension constant during the curl.', 'Biceps'], [52, 'Reverse Towel Curl', '3 sets', '10-12 reps', 'Brachialis and forearms', 'Great for grip and arm thickness.', 'Biceps'], [53, 'Bodyweight Bicep Curl (Under a Table or Bar)', '3 sets', '10-12 reps', 'Biceps and forearms', 'Works as an alternative to pull-ups.', 'Biceps'], [54, 'Hammer Curl (Using Water Bottles or Cans)', '4 sets', '10-12 reps', 'Brachialis and biceps brachii', 'Adds resistance with everyday items.', 'Biceps'], [55, 'Negative Reps (Slow Dumbbell Lowering)', '4 sets', '10-12 reps', 'Long and short heads of the biceps', 'Focuses on eccentric strength.', 'Biceps'], [56, 'Chin-Ups (Close Grip)', '4 sets', '10-12 reps', 'Biceps brachii (long head emphasis)', 'A compound movement for biceps and Biceps.', 'Biceps']]}]}, next=('human_feedback_nod',), config={'configurable': {'thread_id': '1', 'checkpoint_ns': '', 'checkpoint_id': '1efbab8d-cc71-6381-800f-a3c0ef2a0185'}}, metadata={'source': 'loop', 'writes': {'search_exercises': {'exercises': [{'main_muscle': 'Chest', 'sub_muscle': 'Pectoralis major', 'exercises': [[18, 'Flat Barbell Bench Press', '4 sets', '8-12 reps', 'Middle chest (pectoralis major)', 'Builds overall chest size and strength.', 'Chest'], [19, 'Incline Barbell Bench Press', '3 sets', '8-12 reps', 'Upper chest (clavicular head of pectoralis major)', 'Focuses on the upper part of the chest.', 'Chest'], [20, 'Decline Barbell Bench Press', '3 sets', '8-12 reps', 'Lower chest', 'Adds definition to the lower chest.', 'Chest'], [21, 'Flat Dumbbell Press', '4 sets', '8-12 reps', 'Middle chest', 'Enhances range of motion and muscle activation.', 'Chest'], [22, 'Incline Dumbbell Press', '3 sets', '8-12 reps', 'Upper chest', 'Builds mass and definition in the upper chest.', 'Chest'], [23, 'Chest Fly (Machine)', '3 sets', '8-12 reps', 'Inner chest', 'Isolates the chest and enhances the inner portion.', 'Chest'], [24, 'Cable Crossover (High to Low)', '3 sets', '8-12 reps', 'Lower chest', 'Adds definition and stretch to the lower chest.', 'Chest'], [25, 'Cable Crossover (Low to High)', '3 sets', '8-12 reps', 'Upper chest', 'Focuses on the upper chest with a unique angle.', 'Chest'], [26, 'Pec Deck (Butterfly Machine)', '3 sets', '8-12 reps', 'Middle and inner chest', 'Great for isolation and definition.', 'Chest'], [27, 'Push-Up on Gym Rings', '3 sets', '8-12 reps', 'Entire chest, core, and stabilizers', 'Improves stability and chest activation.', 'Chest'], [28, 'Standard Push-Ups', '4 sets', '8-12 reps', 'Middle chest', 'Builds chest endurance and strength.', 'Chest'], [29, 'Incline Push-Ups (Feet on Floor)', '4 sets', '8-12 reps', 'Lower chest', 'Enhances lower chest engagement.', 'Chest'], [30, 'Decline Push-Ups (Feet Elevated)', '4 sets', '8-12 reps', 'Upper chest', 'Works the upper chest without weights.', 'Chest'], [31, 'Diamond Push-Ups', '4 sets', '8-12 reps', 'Inner chest and triceps', 'Focuses on chest contraction and inner chest.', 'Chest'], [32, 'Wide Push-Ups', '4 sets', '8-12 reps', 'Outer chest', 'Increases stretch and activates the outer chest.', 'Chest'], [33, 'Resistance Band Chest Press', '3 sets', '8-12 reps', 'Entire chest', 'A good substitute for bench pressing at home.', 'Chest'], [34, 'Resistance Band Fly', '3 sets', '8-12 reps', 'Inner and middle chest', 'Mimics cable flys for a home setting.', 'Chest'], [35, 'Dumbbell Floor Press', '3 sets', '8-12 reps', 'Middle chest', 'Simple and effective for those with dumbbells at home.', 'Chest'], [36, 'Explosive Clap Push-Ups', '3 sets', '8-12 reps', 'Entire chest', 'Adds power and explosiveness to chest training.', 'Chest'], [37, 'Archer Push-Ups', '3 sets', '8-12 reps', 'One side of the chest at a time', 'Builds unilateral strength and stability.', 'Chest']]}, {'main_muscle': 'Back', 'sub_muscle': 'Trapezius', 'exercises': [[1, 'Pull-Ups', '4 sets', '8-12 reps', 'Lats, Biceps', 'Improves width and overall back strength.', 'Back'], [2, 'Deadlifts', '3-5 sets', '5-8 reps', 'Erector Spinae, Lats', 'Full-body exercise; strengthens lower and upper back.', 'Back'], [3, 'Barbell Rows', '4 sets', '8-12 reps', 'Lats, Rhomboids', 'Strengthens the entire back and core.', 'Back'], [4, 'Lat Pulldowns', '4 sets', '10-12 reps', 'Lats, Biceps', 'Great for isolation and width development.', 'Back'], [5, 'Dumbbell Rows', '4 sets', '8-12 reps', 'Lats, Rhomboids', 'Corrects muscle imbalances and improves core stability.', 'Back'], [6, 'Seated Cable Row', '3 sets', '8-12 reps', 'Rhomboids, traps, lats', 'Builds mid-back thickness.', 'Back'], [7, 'Face Pulls', '3 sets', '8-12 reps', 'Rear delts, traps, rhomboids', 'Helps with posture and upper back strength.', 'Back'], [8, 'T-Bar Row', '3 sets', '8-12 reps', 'Mid-back, lats, traps', 'Focuses on mid-back thickness.', 'Back'], [9, 'Chest-Supported Row', '3 sets', '8-12 reps', 'Lats, traps, rhomboids', 'Reduces strain on the lower back.', 'Back'], [10, 'Hyperextensions (Back Extensions)', '4 sets', '8-12 reps', 'Erector spinae, glutes', 'Strengthens lower back and improves posture.', 'Back'], [11, 'Superman Hold', '4 sets', '8-12 reps', 'Erector spinae, lower traps', 'Great for lower back endurance.', 'Back'], [12, 'Reverse Snow Angels', '3 sets', '8-12 reps', 'Lats, traps, rhomboids', 'Focuses on scapular control and mobility.', 'Back'], [13, 'Prone T Raises', '3 sets', '8-12 reps', 'Rear delts, traps', 'Activates upper back muscles effectively.', 'Back'], [14, 'Resistance Band Pull-Apart', '4 sets', '8-12 reps', 'Traps, rhomboids', 'Excellent for posture correction and upper back strength.', 'Back'], [15, 'Plank with Row (Renegade Rows)', '3 sets', '8-12 reps', 'Traps, rhomboids', 'Combines core stability with back strengthening.', 'Back'], [16, 'Resistance Band Rows', '3 sets', '8-12 reps', 'Lats, traps, core', 'A great alternative to cable rows.', 'Back'], [17, 'Bird Dog', '4 sets', '8-12 reps', 'Erector spinae, lats, glutes', 'Improves stability and strengthens lower back.', 'Back']]}, {'main_muscle': 'Biceps', 'sub_muscle': 'Biceps brachii', 'exercises': [[38, 'Barbell Bicep Curl', '4 sets', '8-12 reps', 'Overall biceps (long and short heads)', 'Builds strength and mass in the entire biceps.', 'Biceps'], [39, 'Dumbbell Bicep Curl', '4 sets', '10-12 reps', 'Overall biceps', 'Enhances muscle symmetry and balance.', 'Biceps'], [40, 'Hammer Curl (Dumbbells)', '3 sets', '10-12 reps', 'Brachialis and biceps brachii', 'Develops thickness and forearm strength.', 'Biceps'], [41, 'Preacher Curl (Barbell or Dumbbell)', '4 sets', '10-12 reps', 'Lower part of biceps (short head emphasis)', 'Isolates the biceps and eliminates momentum.', 'Biceps'], [42, 'Concentration Curl', '4 sets', '10-12 reps', 'Peak of the biceps (long head)', 'Improves bicep definition and peak.', 'Biceps'], [43, 'Incline Dumbbell Curl', '3 sets', '10-12 reps', 'Long head of the biceps', 'Maximizes the stretch for the long head.', 'Biceps'], [44, 'Cable Bicep Curl', '3 sets', '10-12 reps', 'Overall biceps', 'Provides constant tension throughout the movement.', 'Biceps'], [45, 'Reverse Curl (Barbell or Dumbbells)', '3 sets', '10-12 reps', 'Brachialis and forearms', 'Adds thickness and improves grip strength.', 'Biceps'], [46, 'Zottman Curl', '3 sets', '10-12 reps', 'Biceps and forearms', 'Combines regular and reverse curls for comprehensive arm training.', 'Biceps'], [47, '21s (Barbell or Dumbbells)', '3 sets', '10-12 reps', 'Upper, middle, and lower parts of the biceps', 'A set of 21 reps split into partial and full ranges of motion.', 'Biceps'], [48, 'Resistance Band Bicep Curl', '3 sets', '10-12 reps', 'Entire biceps', 'Mimics cable curls without a machine.', 'Biceps'], [49, 'Isometric Bicep Hold (Dumbbells or Bands)', '3 sets', '10-12 reps', 'Biceps endurance', 'Improves stability and isometric strength.', 'Biceps'], [50, 'Towel Curl (Using a Bicepspack or Bag)', '3 sets', '10-12 reps', 'Overall biceps', 'A creative way to train with household items.', 'Biceps'], [51, 'Wall Bicep Curl (Using Resistance Bands)', '3 sets', '10-12 reps', 'Biceps brachii', 'Keeps tension constant during the curl.', 'Biceps'], [52, 'Reverse Towel Curl', '3 sets', '10-12 reps', 'Brachialis and forearms', 'Great for grip and arm thickness.', 'Biceps'], [53, 'Bodyweight Bicep Curl (Under a Table or Bar)', '3 sets', '10-12 reps', 'Biceps and forearms', 'Works as an alternative to pull-ups.', 'Biceps'], [54, 'Hammer Curl (Using Water Bottles or Cans)', '4 sets', '10-12 reps', 'Brachialis and biceps brachii', 'Adds resistance with everyday items.', 'Biceps'], [55, 'Negative Reps (Slow Dumbbell Lowering)', '4 sets', '10-12 reps', 'Long and short heads of the biceps', 'Focuses on eccentric strength.', 'Biceps'], [56, 'Chin-Ups (Close Grip)', '4 sets', '10-12 reps', 'Biceps brachii (long head emphasis)', 'A compound movement for biceps and Biceps.', 'Biceps']]}]}}, 'thread_id': '1', 'step': 15, 'parents': {}}, created_at='2024-12-15T07:47:41.255749+00:00', parent_config={'configurable': {'thread_id': '1', 'checkpoint_ns': '', 'checkpoint_id': '1efbab8d-cc6a-6f95-800e-b02be4047d80'}}, tasks=(PregelTask(id='e848a0cb-92ef-c189-28db-f52bfc7cbc67', name='human_feedback_nod', path=('__pregel_pull', 'human_feedback_nod'), error=None, interrupts=(), state=None, result=None),))\n"
     ]
    }
   ],
   "source": [
    "state = graph2.get_state(thread)\n",
    "print(state)"
   ]
  }
 ],
 "metadata": {
  "kernelspec": {
   "display_name": "lang",
   "language": "python",
   "name": "python3"
  },
  "language_info": {
   "codemirror_mode": {
    "name": "ipython",
    "version": 3
   },
   "file_extension": ".py",
   "mimetype": "text/x-python",
   "name": "python",
   "nbconvert_exporter": "python",
   "pygments_lexer": "ipython3",
   "version": "3.10.14"
  }
 },
 "nbformat": 4,
 "nbformat_minor": 2
}
