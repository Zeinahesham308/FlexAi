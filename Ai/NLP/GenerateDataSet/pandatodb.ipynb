{
 "cells": [
  {
   "cell_type": "code",
   "execution_count": 2,
   "metadata": {},
   "outputs": [],
   "source": [
    "import pandas as pd\n",
    "import sqlite3"
   ]
  },
  {
   "cell_type": "code",
   "execution_count": 2,
   "metadata": {},
   "outputs": [],
   "source": [
    "names=[\"leg\",\"chest\",\"arm\",\"back\",\"shoulder\"]"
   ]
  },
  {
   "cell_type": "code",
   "execution_count": 3,
   "metadata": {},
   "outputs": [],
   "source": [
    "\n",
    "# Connect to the database (or create it if it doesn't exist)\n",
    "conn = sqlite3.connect('work_out.db')\n",
    "c = conn.cursor()\n",
    "\n",
    "# Create the table with the required attributes\n",
    "c.execute('''CREATE TABLE IF NOT EXISTS DATASET (\n",
    "    id INTEGER PRIMARY KEY AUTOINCREMENT,\n",
    "    body_part TEXT,\n",
    "    exercise TEXT,\n",
    "    primary_muscles TEXT,\n",
    "    secondary_muscles TEXT,\n",
    "    difficulty TEXT,\n",
    "    instructions TEXT,\n",
    "    common_mistakes TEXT,\n",
    "    URL TEXT\n",
    ")''')\n",
    "\n",
    "# Commit and close the connection\n",
    "conn.commit()\n",
    "conn.close()\n"
   ]
  },
  {
   "cell_type": "code",
   "execution_count": 11,
   "metadata": {},
   "outputs": [],
   "source": [
    "df=pd.read_excel(\"arm_exercises_url.xlsx\")"
   ]
  },
  {
   "cell_type": "code",
   "execution_count": 12,
   "metadata": {},
   "outputs": [
    {
     "data": {
      "text/plain": [
       "Index(['Unnamed: 0', 'body part', 'exercise', 'primary_muscles',\n",
       "       'secondary_muscles', 'difficulty', 'instructions', 'common_mistakes',\n",
       "       'URL'],\n",
       "      dtype='object')"
      ]
     },
     "execution_count": 12,
     "metadata": {},
     "output_type": "execute_result"
    }
   ],
   "source": [
    "df.columns"
   ]
  },
  {
   "cell_type": "code",
   "execution_count": 27,
   "metadata": {},
   "outputs": [],
   "source": [
    "def add_to_database(name):\n",
    "    conn = sqlite3.connect('work_out.db')\n",
    "    c = conn.cursor()\n",
    "    df=pd.read_excel(f\"{name}_exercises_url.xlsx\")\n",
    "    for i in range(len(df)):\n",
    "        c.execute(\"INSERT INTO DATASET(body_part, exercise, primary_muscles, secondary_muscles, difficulty, instructions, common_mistakes, URL) VALUES (?, ?, ?, ?, ?, ?, ?, ?)\",\n",
    "        (name,df[\"exercise\"][i],df[\"primary_muscles\"][i],df[\"secondary_muscles\"][i],df[\"difficulty\"][i],df[\"instructions\"][i],df[\"common_mistakes\"][i],df[\"URL\"][i]))\n",
    "    conn.commit()\n",
    "    conn.close()"
   ]
  },
  {
   "cell_type": "code",
   "execution_count": 33,
   "metadata": {},
   "outputs": [],
   "source": [
    "add_to_database(\"chest\")"
   ]
  },
  {
   "cell_type": "code",
   "execution_count": 3,
   "metadata": {},
   "outputs": [
    {
     "data": {
      "text/plain": [
       "[('arm',), ('leg',), ('shoulder',), ('back',), ('chest',)]"
      ]
     },
     "execution_count": 3,
     "metadata": {},
     "output_type": "execute_result"
    }
   ],
   "source": [
    "conn=sqlite3.connect('work_out.db')\n",
    "c=conn.cursor()\n",
    "#get unique body parts\n",
    "c.execute(\"SELECT DISTINCT body_part FROM DATASET\")\n",
    "\n",
    "c.fetchall()"
   ]
  },
  {
   "cell_type": "code",
   "execution_count": 4,
   "metadata": {},
   "outputs": [
    {
     "name": "stdout",
     "output_type": "stream",
     "text": [
      "\n",
      "📄 Schema for table: DATASET\n",
      "(0, 'id', 'INTEGER', 0, None, 1)\n",
      "(1, 'body_part', 'TEXT', 0, None, 0)\n",
      "(2, 'exercise', 'TEXT', 0, None, 0)\n",
      "(3, 'primary_muscles', 'TEXT', 0, None, 0)\n",
      "(4, 'secondary_muscles', 'TEXT', 0, None, 0)\n",
      "(5, 'difficulty', 'TEXT', 0, None, 0)\n",
      "(6, 'instructions', 'TEXT', 0, None, 0)\n",
      "(7, 'common_mistakes', 'TEXT', 0, None, 0)\n",
      "(8, 'URL', 'TEXT', 0, None, 0)\n",
      "\n",
      "📄 Schema for table: sqlite_sequence\n",
      "(0, 'name', '', 0, None, 0)\n",
      "(1, 'seq', '', 0, None, 0)\n"
     ]
    }
   ],
   "source": [
    "import sqlite3\n",
    "\n",
    "# Connect to your SQLite database file\n",
    "conn = sqlite3.connect(\"work_out.db\")\n",
    "cursor = conn.cursor()\n",
    "\n",
    "# Get all table names\n",
    "cursor.execute(\"SELECT name FROM sqlite_master WHERE type='table';\")\n",
    "tables = cursor.fetchall()\n",
    "\n",
    "# Print schema for each table\n",
    "for table_name in tables:\n",
    "    table_name = table_name[0]\n",
    "    print(f\"\\n📄 Schema for table: {table_name}\")\n",
    "    cursor.execute(f\"PRAGMA table_info({table_name});\")\n",
    "    for column in cursor.fetchall():\n",
    "        print(column)\n",
    "\n",
    "conn.close()\n"
   ]
  }
 ],
 "metadata": {
  "kernelspec": {
   "display_name": "py310",
   "language": "python",
   "name": "python3"
  },
  "language_info": {
   "codemirror_mode": {
    "name": "ipython",
    "version": 3
   },
   "file_extension": ".py",
   "mimetype": "text/x-python",
   "name": "python",
   "nbconvert_exporter": "python",
   "pygments_lexer": "ipython3",
   "version": "3.10.14"
  }
 },
 "nbformat": 4,
 "nbformat_minor": 2
}
