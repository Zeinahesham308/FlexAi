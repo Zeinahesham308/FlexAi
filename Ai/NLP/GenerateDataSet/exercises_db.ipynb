{
 "cells": [
  {
   "cell_type": "code",
   "execution_count": null,
   "metadata": {},
   "outputs": [],
   "source": [
    "import pandas as pd\n",
    "import os\n",
    "from yaml.loader import SafeLoader\n",
    "import yaml\n",
    "os.environ[\"GROQ_API_KEY\"] = config['groq']['apiKey']\n",
    "os.environ[\"TAVILY_API_KEY\"] = config['tavilysearch']['apiKey']\n",
    "from tavily import TavilyClient\n"
   ]
  },
  {
   "cell_type": "code",
   "execution_count": null,
   "metadata": {},
   "outputs": [],
   "source": [
    "\n",
    "with open('config.yaml') as file:\n",
    "    config = yaml.load(file, Loader=SafeLoader)\n",
    "client = TavilyClient()\n"
   ]
  },
  {
   "cell_type": "code",
   "execution_count": null,
   "metadata": {},
   "outputs": [],
   "source": [
    "back_exercises = [\n",
    "    \"Barbell Deadlift\",\n",
    "    \"Pull-Ups\",\n",
    "    \"Chin-Ups\",\n",
    "    \"Bent-Over Barbell Rows\",\n",
    "    \"T-Bar Rows\",\n",
    "    \"Seated Cable Rows\",\n",
    "    \"Lat Pulldown\",\n",
    "    \"Dumbbell Rows (Single-Arm)\",\n",
    "    \"Inverted Rows\",\n",
    "    \"Landmine Rows\",\n",
    "    \"Straight-Arm Pulldown\",\n",
    "    \"Face Pulls\",\n",
    "    \"Reverse Flyes (Dumbbell or Machine)\",\n",
    "    \"Trap Bar Shrugs\",\n",
    "    \"Behind-the-Neck Pulldown\",\n",
    "    \"Machine Rows\",\n",
    "    \"Smith Machine Bent-Over Rows\",\n",
    "    \"Superman Exercise\",\n",
    "    \"Back Extensions (Hyperextensions)\",\n",
    "    \"Reverse Hyperextensions\",\n",
    "    \"Good Mornings\",\n",
    "    \"Resistance Band Rows\",\n",
    "    \"Suspension Trainer Rows (TRX Rows)\",\n",
    "    \"Archer Pull-Ups\",\n",
    "    \"Kettlebell Swings\"\n",
    "]\n"
   ]
  },
  {
   "cell_type": "code",
   "execution_count": 17,
   "metadata": {},
   "outputs": [],
   "source": [
    "def search_submuscles(exercise):\n",
    "    response = client.search(\n",
    "        query=f\"List the sub-muscle groups targeted by the exercise '{exercise}'.\",\n",
    "        search_depth=\"advanced\"\n",
    "    )\n",
    "    return response  [\"results\"][0][\"content\"]\n",
    "\n",
    "def search_difficulty(exercise):\n",
    "    response = client.search(\n",
    "        query=f\"Determine the difficulty level (beginner, intermediate, advanced) of '{exercise}'.\",\n",
    "        search_depth=\"advanced\"\n",
    "    )\n",
    "    return response [\"results\"][0][\"content\"]\n",
    "\n",
    "def search_instructions(exercise):\n",
    "    response = client.search(\n",
    "        query=f\"Provide a clear, step-by-step guide on how to perform '{exercise}'.\",\n",
    "        search_depth=\"advanced\"\n",
    "    )\n",
    "    return response [\"results\"][0][\"content\"]\n",
    "\n",
    "def search_common_mistakes(exercise):\n",
    "    response = client.search(\n",
    "        query=f\"What are common mistakes to avoid when performing '{exercise}'?\",\n",
    "        search_depth=\"advanced\"\n",
    "    )\n",
    "    return response [\"results\"][0][\"content\"]\n",
    "\n",
    "def search_one_exercise(exercise):\n",
    "    return {\n",
    "        \"submuscles\": search_submuscles(exercise),\n",
    "        \"difficulty\": search_difficulty(exercise),\n",
    "        \"instructions\": search_instructions(exercise),\n",
    "        \"common_mistakes\": search_common_mistakes(exercise)\n",
    "    }\n"
   ]
  },
  {
   "cell_type": "code",
   "execution_count": 18,
   "metadata": {},
   "outputs": [
    {
     "name": "stdout",
     "output_type": "stream",
     "text": [
      "{'submuscles': 'The stiff bar increases muscle activation from the hamstring and erector spinae muscle groups by increasing the mechanical moment at the hip and low back during', 'difficulty': 'Barbell deadlifts are super intense even for the intermediate or the advanced trainers. I use this movement routinely. After the training I', 'instructions': \"Here's how to do a conventional barbell deadlift: Step up to and under a barbell with your feet angled slightly outward, at hip-width apart.\", 'common_mistakes': 'The Most Common Deadlift Mistakes · #1: Squatting The Deadlift · Deadlift Mistakes #2: Hips Shooting Up Too Fast · Deadlift Mistakes #3: Lack of Lat Engagement.'}\n"
     ]
    }
   ],
   "source": [
    "response = search_one_exercise(\"Barbell Deadlift\")\n",
    "print(response)"
   ]
  },
  {
   "cell_type": "code",
   "execution_count": null,
   "metadata": {},
   "outputs": [
    {
     "data": {
      "text/plain": [
       "'Common Deadlift Mistakes · Incorrect Stance · Hips Too Low · Yanking the Bar · Rolling the Bar · Knee Valgus (aka Knee Cave) · Failure to Extend the Low Back · Losing'"
      ]
     },
     "execution_count": 12,
     "metadata": {},
     "output_type": "execute_result"
    }
   ],
   "source": [
    "response response [\"results\"][0][\"content\"]"
   ]
  }
 ],
 "metadata": {
  "kernelspec": {
   "display_name": "py310",
   "language": "python",
   "name": "python3"
  },
  "language_info": {
   "codemirror_mode": {
    "name": "ipython",
    "version": 3
   },
   "file_extension": ".py",
   "mimetype": "text/x-python",
   "name": "python",
   "nbconvert_exporter": "python",
   "pygments_lexer": "ipython3",
   "version": "3.10.14"
  }
 },
 "nbformat": 4,
 "nbformat_minor": 2
}
