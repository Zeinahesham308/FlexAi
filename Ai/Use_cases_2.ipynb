{
 "cells": [
  {
   "cell_type": "markdown",
   "metadata": {
    "id": "1r_qqibN5niZ"
   },
   "source": [
    "# Introduction"
   ]
  },
  {
   "cell_type": "markdown",
   "metadata": {
    "id": "0uLLTFMG3ksk"
   },
   "source": [
    "## Purpose\n",
    "This notebook documents the test cases for the FlexAI chatbot to ensure it provides accurate and helpful responses. Additionally, it aims to evaluate the chatbot's strengths, weaknesses, and the specific areas where it fails, by analyzing its performance across various prompts. This analysis will help identify areas where the chatbot excels, areas that require improvement, and critical failure points that need to be addressed for better user experience and reliability."
   ]
  },
  {
   "cell_type": "markdown",
   "metadata": {
    "id": "GcldUA467cUn"
   },
   "source": [
    "## Scope\n",
    "Evaluating the chatbot's responses based on these key aspects\n",
    "*   Accuracy\n",
    "*   Relevance\n",
    "*   Tone\n",
    "*   Completeness\n",
    "\n"
   ]
  },
  {
   "cell_type": "markdown",
   "metadata": {
    "id": "vzGkdczW777B"
   },
   "source": [
    "## Evaluation Methodology\n",
    "Currently, the response's evaluation process is manual, where responses are evaluated by reviewing them and comparing them against expected outcomes."
   ]
  },
  {
   "cell_type": "markdown",
   "metadata": {
    "id": "xCiTBWbd9VMD"
   },
   "source": [
    "# Test Case Format\n",
    "*   **Test Case ID**: A unique identifier for each test case.\n",
    "*   **Objective**: What the test case aims to validate.\n",
    "*   **Input Query**: The user query provided to the chatbot.\n",
    "*  **Expected Response**: What the ideal response should look like.\n",
    "*   **Actual Response**: What the chatbot returned.List item\n",
    "*   **Feedback**: feedback based on the metrics.\n",
    "*   **Status**: Mark as Pass or Fail.\n",
    "\n"
   ]
  },
  {
   "cell_type": "markdown",
   "metadata": {},
   "source": [
    "this is the code where we import and the rag and implement some funictions skip if not intersted"
   ]
  },
  {
   "cell_type": "code",
   "execution_count": 1,
   "metadata": {},
   "outputs": [
    {
     "name": "stdout",
     "output_type": "stream",
     "text": [
      "Vectorstore created successfully\n"
     ]
    }
   ],
   "source": [
    "from rag_mongo_v2 import return_rag_chain\n",
    "from langchain_core.chat_history import  InMemoryChatMessageHistory\n"
   ]
  },
  {
   "cell_type": "code",
   "execution_count": 3,
   "metadata": {},
   "outputs": [
    {
     "name": "stdout",
     "output_type": "stream",
     "text": [
      "Vectorstore created successfully\n"
     ]
    }
   ],
   "source": [
    "rag = return_rag_chain()\n",
    "chat_with_history = InMemoryChatMessageHistory()\n",
    "chain = rag.pick(\"answer\")\n"
   ]
  },
  {
   "cell_type": "code",
   "execution_count": 4,
   "metadata": {},
   "outputs": [],
   "source": [
    "def print_responses(responses):\n",
    "    for response in responses:\n",
    "        print(response, end=\"\",flush=True)"
   ]
  },
  {
   "cell_type": "code",
   "execution_count": 5,
   "metadata": {},
   "outputs": [],
   "source": [
    "def prompt(user_prompt):\n",
    "    \n",
    "    assistant_response = chain.stream({\n",
    "    \"input\": user_prompt,\n",
    "    \"chat_history\": chat_with_history.messages})\n",
    "    print_responses(assistant_response)\n",
    "    "
   ]
  },
  {
   "cell_type": "markdown",
   "metadata": {},
   "source": [
    "# Prompt categories"
   ]
  },
  {
   "cell_type": "markdown",
   "metadata": {},
   "source": [
    "## General advice "
   ]
  },
  {
   "cell_type": "code",
   "execution_count": 9,
   "metadata": {},
   "outputs": [
    {
     "name": "stdout",
     "output_type": "stream",
     "text": [
      "BMI (Body Mass Index) is a measure of body weight relative to height. It is calculated by multiplying your weight in pounds by 703 and then dividing the product by your height in inches squared. The formula is:\n",
      "\n",
      "BMI = [weight (lb) x 703] ÷ height (in)²\n",
      "\n",
      "Alternatively, you can also calculate BMI by dividing your weight in kilograms by your height in meters squared:\n",
      "\n",
      "BMI = [weight (kg)] ÷ height (m)²\n",
      "\n",
      "To determine whether your BMI is obese or not, you can refer to the BMI categories:\n",
      "\n",
      "- Underweight: BMI < 18.5\n",
      "- Healthy or Normal weight: BMI = 18.5-24.9\n",
      "- Overweight: BMI = 25-29.9\n",
      "- Obese: BMI ≥ 30.0\n",
      "\n",
      "You can also use online BMI calculators provided by reputable sources such as the National Heart, Lung, and Blood Institute (NHLBI) or the Centers for Disease Control and Prevention (CDC) to calculate your BMI and determine your weight category."
     ]
    }
   ],
   "source": [
    "prompt(\"What is BMI, and how is it calculated? and how can I determine whether the BMI is obese or not?\")"
   ]
  },
  {
   "cell_type": "markdown",
   "metadata": {},
   "source": [
    "[Refrence link ](https://www.nhlbi.nih.gov/health/educational/lose_wt/BMI/bmicalc.htm)"
   ]
  },
  {
   "cell_type": "code",
   "execution_count": 10,
   "metadata": {},
   "outputs": [
    {
     "name": "stdout",
     "output_type": "stream",
     "text": [
      "Sleep can significantly affect mental health. Inadequate amounts of sleep or not sleeping well can increase the risk of various mental health issues, including depression."
     ]
    }
   ],
   "source": [
    "prompt(\"How does sleep affect mental health?\")"
   ]
  }
 ],
 "metadata": {
  "colab": {
   "name": "Welcome To Colab",
   "provenance": [],
   "toc_visible": true
  },
  "kernelspec": {
   "display_name": "Python 3",
   "name": "python3"
  },
  "language_info": {
   "codemirror_mode": {
    "name": "ipython",
    "version": 3
   },
   "file_extension": ".py",
   "mimetype": "text/x-python",
   "name": "python",
   "nbconvert_exporter": "python",
   "pygments_lexer": "ipython3",
   "version": "3.10.14"
  }
 },
 "nbformat": 4,
 "nbformat_minor": 0
}
